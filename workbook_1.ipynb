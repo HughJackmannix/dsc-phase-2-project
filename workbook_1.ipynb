{
 "cells": [
  {
   "cell_type": "code",
   "execution_count": 1,
   "metadata": {},
   "outputs": [],
   "source": [
    "import pandas as pd\n",
    "import numpy as np\n",
    "import seaborn as sns\n",
    "import matplotlib.pyplot as plt\n",
    "%matplotlib inline\n",
    "from statsmodels.formula.api import ols\n",
    "from sklearn.model_selection import train_test_split\n",
    "from sklearn.linear_model import LinearRegression\n",
    "from sklearn.metrics import mean_squared_error\n",
    "import scipy.stats as stats\n",
    "import statsmodels.api as sm\n",
    "\n",
    "import warnings\n",
    "warnings.filterwarnings(\"ignore\")\n"
   ]
  },
  {
   "cell_type": "markdown",
   "metadata": {},
   "source": [
    "# Context"
   ]
  },
  {
   "cell_type": "markdown",
   "metadata": {},
   "source": [
    "***STAKEHOLDER*** : King Property Services (property managment company)"
   ]
  },
  {
   "cell_type": "markdown",
   "metadata": {},
   "source": [
    "***BUSINESS PROBLEM*** : Property management company is creating a new campaign that will target recent college graduates from local universities \n",
    "- The company knows this demographic will not be able to afford expensive properties \n",
    "    - Will be looking for smaller / less expensive places\n",
    "    - Will be looking for places with more sq footage to split amongst many tennants \n",
    "- The company wants to have a better idea of what kinds of properties they should be promoting among this demographic  "
   ]
  },
  {
   "cell_type": "markdown",
   "metadata": {},
   "source": [
    "# Obtain / Scrub"
   ]
  },
  {
   "cell_type": "code",
   "execution_count": 2,
   "metadata": {},
   "outputs": [],
   "source": [
    "df = pd.read_csv('data/kc_house_data.csv')"
   ]
  },
  {
   "cell_type": "code",
   "execution_count": 3,
   "metadata": {},
   "outputs": [
    {
     "name": "stdout",
     "output_type": "stream",
     "text": [
      "<class 'pandas.core.frame.DataFrame'>\n",
      "RangeIndex: 21597 entries, 0 to 21596\n",
      "Data columns (total 21 columns):\n",
      " #   Column         Non-Null Count  Dtype  \n",
      "---  ------         --------------  -----  \n",
      " 0   id             21597 non-null  int64  \n",
      " 1   date           21597 non-null  object \n",
      " 2   price          21597 non-null  float64\n",
      " 3   bedrooms       21597 non-null  int64  \n",
      " 4   bathrooms      21597 non-null  float64\n",
      " 5   sqft_living    21597 non-null  int64  \n",
      " 6   sqft_lot       21597 non-null  int64  \n",
      " 7   floors         21597 non-null  float64\n",
      " 8   waterfront     19221 non-null  float64\n",
      " 9   view           21534 non-null  float64\n",
      " 10  condition      21597 non-null  int64  \n",
      " 11  grade          21597 non-null  int64  \n",
      " 12  sqft_above     21597 non-null  int64  \n",
      " 13  sqft_basement  21597 non-null  object \n",
      " 14  yr_built       21597 non-null  int64  \n",
      " 15  yr_renovated   17755 non-null  float64\n",
      " 16  zipcode        21597 non-null  int64  \n",
      " 17  lat            21597 non-null  float64\n",
      " 18  long           21597 non-null  float64\n",
      " 19  sqft_living15  21597 non-null  int64  \n",
      " 20  sqft_lot15     21597 non-null  int64  \n",
      "dtypes: float64(8), int64(11), object(2)\n",
      "memory usage: 3.5+ MB\n"
     ]
    }
   ],
   "source": [
    "df.info()"
   ]
  },
  {
   "cell_type": "markdown",
   "metadata": {},
   "source": [
    "**Initial Observations** \n",
    "\n",
    "1) Columns with null data:\n",
    "- waterfront\n",
    "- yr_renovated\n",
    "- view\n",
    "\n",
    "2) sqft_basement is a string when it should probably be an int or float \n",
    "\n",
    "3) date column is not in datetime "
   ]
  },
  {
   "cell_type": "code",
   "execution_count": 4,
   "metadata": {},
   "outputs": [
    {
     "data": {
      "text/plain": [
       "0.0    19075\n",
       "1.0      146\n",
       "Name: waterfront, dtype: int64"
      ]
     },
     "execution_count": 4,
     "metadata": {},
     "output_type": "execute_result"
    }
   ],
   "source": [
    "df['waterfront'].value_counts()"
   ]
  },
  {
   "cell_type": "code",
   "execution_count": 5,
   "metadata": {},
   "outputs": [
    {
     "data": {
      "text/plain": [
       "False    19221\n",
       "True      2376\n",
       "Name: waterfront, dtype: int64"
      ]
     },
     "execution_count": 5,
     "metadata": {},
     "output_type": "execute_result"
    }
   ],
   "source": [
    "df['waterfront'].isna().value_counts()"
   ]
  },
  {
   "cell_type": "markdown",
   "metadata": {},
   "source": [
    "Over 2,000 null values\n",
    "- this data could be filled given the distribution of waterfront properties \n",
    "    - Initially I feel like 2,000 is too much to replace "
   ]
  },
  {
   "cell_type": "code",
   "execution_count": 6,
   "metadata": {},
   "outputs": [],
   "source": [
    "#replacing null values based on the existing distribution of data from 'waterfront'\n",
    "waterfront_dist = df['waterfront'].value_counts(normalize=True)\n",
    "waterfront_na = df['waterfront'].isna()\n",
    "\n",
    "df.loc[waterfront_na,'waterfront'] = np.random.choice(waterfront_dist.index, size=len(df[waterfront_na]), p=waterfront_dist.values)"
   ]
  },
  {
   "cell_type": "code",
   "execution_count": 7,
   "metadata": {},
   "outputs": [],
   "source": [
    "# no more null values\n",
    "# df['waterfront'].isna().value_counts()"
   ]
  },
  {
   "cell_type": "code",
   "execution_count": 8,
   "metadata": {},
   "outputs": [],
   "source": [
    "# new values\n",
    "# df['waterfront'].value_counts()"
   ]
  },
  {
   "cell_type": "code",
   "execution_count": 9,
   "metadata": {},
   "outputs": [
    {
     "data": {
      "text/plain": [
       "False    17755\n",
       "True      3842\n",
       "Name: yr_renovated, dtype: int64"
      ]
     },
     "execution_count": 9,
     "metadata": {},
     "output_type": "execute_result"
    }
   ],
   "source": [
    "df['yr_renovated'].isna().value_counts()"
   ]
  },
  {
   "cell_type": "code",
   "execution_count": 10,
   "metadata": {},
   "outputs": [
    {
     "data": {
      "text/plain": [
       "array([   0., 1991.,   nan, 2002., 2010., 1992., 2013., 1994., 1978.,\n",
       "       2005., 2003., 1984., 1954., 2014., 2011., 1983., 1945., 1990.,\n",
       "       1988., 1977., 1981., 1995., 2000., 1999., 1998., 1970., 1989.,\n",
       "       2004., 1986., 2007., 1987., 2006., 1985., 2001., 1980., 1971.,\n",
       "       1979., 1997., 1950., 1969., 1948., 2009., 2015., 1974., 2008.,\n",
       "       1968., 2012., 1963., 1951., 1962., 1953., 1993., 1996., 1955.,\n",
       "       1982., 1956., 1940., 1976., 1946., 1975., 1964., 1973., 1957.,\n",
       "       1959., 1960., 1967., 1965., 1934., 1972., 1944., 1958.])"
      ]
     },
     "execution_count": 10,
     "metadata": {},
     "output_type": "execute_result"
    }
   ],
   "source": [
    "df['yr_renovated'].unique()"
   ]
  },
  {
   "cell_type": "code",
   "execution_count": 11,
   "metadata": {},
   "outputs": [
    {
     "data": {
      "text/plain": [
       "0.0       0.958096\n",
       "2014.0    0.004112\n",
       "2003.0    0.001746\n",
       "2013.0    0.001746\n",
       "2007.0    0.001690\n",
       "            ...   \n",
       "1946.0    0.000056\n",
       "1959.0    0.000056\n",
       "1971.0    0.000056\n",
       "1951.0    0.000056\n",
       "1954.0    0.000056\n",
       "Name: yr_renovated, Length: 70, dtype: float64"
      ]
     },
     "execution_count": 11,
     "metadata": {},
     "output_type": "execute_result"
    }
   ],
   "source": [
    "df['yr_renovated'].value_counts(normalize=True)"
   ]
  },
  {
   "cell_type": "markdown",
   "metadata": {},
   "source": [
    "Nearly 4,000 null values \n",
    "- a value of '0' indicates no renovations have taken place \n",
    "- 95% of houses have not recieved rennovations"
   ]
  },
  {
   "cell_type": "code",
   "execution_count": 12,
   "metadata": {},
   "outputs": [],
   "source": [
    "ren_dist = df['yr_renovated'].value_counts(normalize=True)\n",
    "ren_na = df['yr_renovated'].isna()\n",
    "\n",
    "df.loc[ren_na,'yr_renovated'] = np.random.choice(ren_dist.index, size=len(df[ren_na]), p=ren_dist.values)"
   ]
  },
  {
   "cell_type": "code",
   "execution_count": 13,
   "metadata": {},
   "outputs": [],
   "source": [
    "# no more null values\n",
    "# df['yr_renovated'].isna().value_counts()"
   ]
  },
  {
   "cell_type": "code",
   "execution_count": 14,
   "metadata": {},
   "outputs": [],
   "source": [
    "# new value distribution\n",
    "# distributions have changed by the ten thousandth place \n",
    "# df['yr_renovated'].value_counts(normalize=True)"
   ]
  },
  {
   "cell_type": "code",
   "execution_count": 15,
   "metadata": {},
   "outputs": [
    {
     "data": {
      "text/plain": [
       "False    21534\n",
       "True        63\n",
       "Name: view, dtype: int64"
      ]
     },
     "execution_count": 15,
     "metadata": {},
     "output_type": "execute_result"
    }
   ],
   "source": [
    "df['view'].isna().value_counts()"
   ]
  },
  {
   "cell_type": "code",
   "execution_count": 16,
   "metadata": {},
   "outputs": [],
   "source": [
    "df.dropna(inplace=True)"
   ]
  },
  {
   "cell_type": "code",
   "execution_count": 17,
   "metadata": {},
   "outputs": [
    {
     "name": "stdout",
     "output_type": "stream",
     "text": [
      "<class 'pandas.core.frame.DataFrame'>\n",
      "Int64Index: 21534 entries, 0 to 21596\n",
      "Data columns (total 21 columns):\n",
      " #   Column         Non-Null Count  Dtype  \n",
      "---  ------         --------------  -----  \n",
      " 0   id             21534 non-null  int64  \n",
      " 1   date           21534 non-null  object \n",
      " 2   price          21534 non-null  float64\n",
      " 3   bedrooms       21534 non-null  int64  \n",
      " 4   bathrooms      21534 non-null  float64\n",
      " 5   sqft_living    21534 non-null  int64  \n",
      " 6   sqft_lot       21534 non-null  int64  \n",
      " 7   floors         21534 non-null  float64\n",
      " 8   waterfront     21534 non-null  float64\n",
      " 9   view           21534 non-null  float64\n",
      " 10  condition      21534 non-null  int64  \n",
      " 11  grade          21534 non-null  int64  \n",
      " 12  sqft_above     21534 non-null  int64  \n",
      " 13  sqft_basement  21534 non-null  object \n",
      " 14  yr_built       21534 non-null  int64  \n",
      " 15  yr_renovated   21534 non-null  float64\n",
      " 16  zipcode        21534 non-null  int64  \n",
      " 17  lat            21534 non-null  float64\n",
      " 18  long           21534 non-null  float64\n",
      " 19  sqft_living15  21534 non-null  int64  \n",
      " 20  sqft_lot15     21534 non-null  int64  \n",
      "dtypes: float64(8), int64(11), object(2)\n",
      "memory usage: 3.6+ MB\n"
     ]
    }
   ],
   "source": [
    "df.info()"
   ]
  },
  {
   "cell_type": "markdown",
   "metadata": {},
   "source": [
    "### Cleaning sqft_basement"
   ]
  },
  {
   "cell_type": "code",
   "execution_count": 18,
   "metadata": {},
   "outputs": [
    {
     "data": {
      "text/html": [
       "<div>\n",
       "<style scoped>\n",
       "    .dataframe tbody tr th:only-of-type {\n",
       "        vertical-align: middle;\n",
       "    }\n",
       "\n",
       "    .dataframe tbody tr th {\n",
       "        vertical-align: top;\n",
       "    }\n",
       "\n",
       "    .dataframe thead th {\n",
       "        text-align: right;\n",
       "    }\n",
       "</style>\n",
       "<table border=\"1\" class=\"dataframe\">\n",
       "  <thead>\n",
       "    <tr style=\"text-align: right;\">\n",
       "      <th></th>\n",
       "      <th>id</th>\n",
       "      <th>date</th>\n",
       "      <th>price</th>\n",
       "      <th>bedrooms</th>\n",
       "      <th>bathrooms</th>\n",
       "      <th>sqft_living</th>\n",
       "      <th>sqft_lot</th>\n",
       "      <th>floors</th>\n",
       "      <th>waterfront</th>\n",
       "      <th>view</th>\n",
       "      <th>...</th>\n",
       "      <th>grade</th>\n",
       "      <th>sqft_above</th>\n",
       "      <th>sqft_basement</th>\n",
       "      <th>yr_built</th>\n",
       "      <th>yr_renovated</th>\n",
       "      <th>zipcode</th>\n",
       "      <th>lat</th>\n",
       "      <th>long</th>\n",
       "      <th>sqft_living15</th>\n",
       "      <th>sqft_lot15</th>\n",
       "    </tr>\n",
       "  </thead>\n",
       "  <tbody>\n",
       "    <tr>\n",
       "      <th>6</th>\n",
       "      <td>1321400060</td>\n",
       "      <td>6/27/2014</td>\n",
       "      <td>257500.0</td>\n",
       "      <td>3</td>\n",
       "      <td>2.25</td>\n",
       "      <td>1715</td>\n",
       "      <td>6819</td>\n",
       "      <td>2.0</td>\n",
       "      <td>0.0</td>\n",
       "      <td>0.0</td>\n",
       "      <td>...</td>\n",
       "      <td>7</td>\n",
       "      <td>1715</td>\n",
       "      <td>?</td>\n",
       "      <td>1995</td>\n",
       "      <td>0.0</td>\n",
       "      <td>98003</td>\n",
       "      <td>47.3097</td>\n",
       "      <td>-122.327</td>\n",
       "      <td>2238</td>\n",
       "      <td>6819</td>\n",
       "    </tr>\n",
       "    <tr>\n",
       "      <th>18</th>\n",
       "      <td>16000397</td>\n",
       "      <td>12/5/2014</td>\n",
       "      <td>189000.0</td>\n",
       "      <td>2</td>\n",
       "      <td>1.00</td>\n",
       "      <td>1200</td>\n",
       "      <td>9850</td>\n",
       "      <td>1.0</td>\n",
       "      <td>0.0</td>\n",
       "      <td>0.0</td>\n",
       "      <td>...</td>\n",
       "      <td>7</td>\n",
       "      <td>1200</td>\n",
       "      <td>?</td>\n",
       "      <td>1921</td>\n",
       "      <td>0.0</td>\n",
       "      <td>98002</td>\n",
       "      <td>47.3089</td>\n",
       "      <td>-122.210</td>\n",
       "      <td>1060</td>\n",
       "      <td>5095</td>\n",
       "    </tr>\n",
       "    <tr>\n",
       "      <th>42</th>\n",
       "      <td>7203220400</td>\n",
       "      <td>7/7/2014</td>\n",
       "      <td>861990.0</td>\n",
       "      <td>5</td>\n",
       "      <td>2.75</td>\n",
       "      <td>3595</td>\n",
       "      <td>5639</td>\n",
       "      <td>2.0</td>\n",
       "      <td>0.0</td>\n",
       "      <td>0.0</td>\n",
       "      <td>...</td>\n",
       "      <td>9</td>\n",
       "      <td>3595</td>\n",
       "      <td>?</td>\n",
       "      <td>2014</td>\n",
       "      <td>0.0</td>\n",
       "      <td>98053</td>\n",
       "      <td>47.6848</td>\n",
       "      <td>-122.016</td>\n",
       "      <td>3625</td>\n",
       "      <td>5639</td>\n",
       "    </tr>\n",
       "    <tr>\n",
       "      <th>79</th>\n",
       "      <td>1531000030</td>\n",
       "      <td>3/23/2015</td>\n",
       "      <td>720000.0</td>\n",
       "      <td>4</td>\n",
       "      <td>2.50</td>\n",
       "      <td>3450</td>\n",
       "      <td>39683</td>\n",
       "      <td>2.0</td>\n",
       "      <td>0.0</td>\n",
       "      <td>0.0</td>\n",
       "      <td>...</td>\n",
       "      <td>10</td>\n",
       "      <td>3450</td>\n",
       "      <td>?</td>\n",
       "      <td>2002</td>\n",
       "      <td>0.0</td>\n",
       "      <td>98010</td>\n",
       "      <td>47.3420</td>\n",
       "      <td>-122.025</td>\n",
       "      <td>3350</td>\n",
       "      <td>39750</td>\n",
       "    </tr>\n",
       "    <tr>\n",
       "      <th>112</th>\n",
       "      <td>2525310310</td>\n",
       "      <td>9/16/2014</td>\n",
       "      <td>272500.0</td>\n",
       "      <td>3</td>\n",
       "      <td>1.75</td>\n",
       "      <td>1540</td>\n",
       "      <td>12600</td>\n",
       "      <td>1.0</td>\n",
       "      <td>0.0</td>\n",
       "      <td>0.0</td>\n",
       "      <td>...</td>\n",
       "      <td>7</td>\n",
       "      <td>1160</td>\n",
       "      <td>?</td>\n",
       "      <td>1980</td>\n",
       "      <td>0.0</td>\n",
       "      <td>98038</td>\n",
       "      <td>47.3624</td>\n",
       "      <td>-122.031</td>\n",
       "      <td>1540</td>\n",
       "      <td>11656</td>\n",
       "    </tr>\n",
       "    <tr>\n",
       "      <th>...</th>\n",
       "      <td>...</td>\n",
       "      <td>...</td>\n",
       "      <td>...</td>\n",
       "      <td>...</td>\n",
       "      <td>...</td>\n",
       "      <td>...</td>\n",
       "      <td>...</td>\n",
       "      <td>...</td>\n",
       "      <td>...</td>\n",
       "      <td>...</td>\n",
       "      <td>...</td>\n",
       "      <td>...</td>\n",
       "      <td>...</td>\n",
       "      <td>...</td>\n",
       "      <td>...</td>\n",
       "      <td>...</td>\n",
       "      <td>...</td>\n",
       "      <td>...</td>\n",
       "      <td>...</td>\n",
       "      <td>...</td>\n",
       "      <td>...</td>\n",
       "    </tr>\n",
       "    <tr>\n",
       "      <th>21442</th>\n",
       "      <td>3226049565</td>\n",
       "      <td>7/11/2014</td>\n",
       "      <td>504600.0</td>\n",
       "      <td>5</td>\n",
       "      <td>3.00</td>\n",
       "      <td>2360</td>\n",
       "      <td>5000</td>\n",
       "      <td>1.0</td>\n",
       "      <td>0.0</td>\n",
       "      <td>0.0</td>\n",
       "      <td>...</td>\n",
       "      <td>7</td>\n",
       "      <td>1390</td>\n",
       "      <td>?</td>\n",
       "      <td>2008</td>\n",
       "      <td>0.0</td>\n",
       "      <td>98103</td>\n",
       "      <td>47.6931</td>\n",
       "      <td>-122.330</td>\n",
       "      <td>2180</td>\n",
       "      <td>5009</td>\n",
       "    </tr>\n",
       "    <tr>\n",
       "      <th>21447</th>\n",
       "      <td>1760650900</td>\n",
       "      <td>7/21/2014</td>\n",
       "      <td>337500.0</td>\n",
       "      <td>4</td>\n",
       "      <td>2.50</td>\n",
       "      <td>2330</td>\n",
       "      <td>4907</td>\n",
       "      <td>2.0</td>\n",
       "      <td>0.0</td>\n",
       "      <td>0.0</td>\n",
       "      <td>...</td>\n",
       "      <td>7</td>\n",
       "      <td>2330</td>\n",
       "      <td>?</td>\n",
       "      <td>2013</td>\n",
       "      <td>0.0</td>\n",
       "      <td>98042</td>\n",
       "      <td>47.3590</td>\n",
       "      <td>-122.081</td>\n",
       "      <td>2300</td>\n",
       "      <td>3836</td>\n",
       "    </tr>\n",
       "    <tr>\n",
       "      <th>21473</th>\n",
       "      <td>6021503707</td>\n",
       "      <td>1/20/2015</td>\n",
       "      <td>352500.0</td>\n",
       "      <td>2</td>\n",
       "      <td>2.50</td>\n",
       "      <td>980</td>\n",
       "      <td>1010</td>\n",
       "      <td>3.0</td>\n",
       "      <td>0.0</td>\n",
       "      <td>0.0</td>\n",
       "      <td>...</td>\n",
       "      <td>8</td>\n",
       "      <td>980</td>\n",
       "      <td>?</td>\n",
       "      <td>2008</td>\n",
       "      <td>0.0</td>\n",
       "      <td>98117</td>\n",
       "      <td>47.6844</td>\n",
       "      <td>-122.387</td>\n",
       "      <td>980</td>\n",
       "      <td>1023</td>\n",
       "    </tr>\n",
       "    <tr>\n",
       "      <th>21519</th>\n",
       "      <td>2909310100</td>\n",
       "      <td>10/15/2014</td>\n",
       "      <td>332000.0</td>\n",
       "      <td>4</td>\n",
       "      <td>2.50</td>\n",
       "      <td>2380</td>\n",
       "      <td>5737</td>\n",
       "      <td>2.0</td>\n",
       "      <td>0.0</td>\n",
       "      <td>0.0</td>\n",
       "      <td>...</td>\n",
       "      <td>7</td>\n",
       "      <td>2380</td>\n",
       "      <td>?</td>\n",
       "      <td>2010</td>\n",
       "      <td>0.0</td>\n",
       "      <td>98023</td>\n",
       "      <td>47.2815</td>\n",
       "      <td>-122.356</td>\n",
       "      <td>2380</td>\n",
       "      <td>5396</td>\n",
       "    </tr>\n",
       "    <tr>\n",
       "      <th>21581</th>\n",
       "      <td>191100405</td>\n",
       "      <td>4/21/2015</td>\n",
       "      <td>1580000.0</td>\n",
       "      <td>4</td>\n",
       "      <td>3.25</td>\n",
       "      <td>3410</td>\n",
       "      <td>10125</td>\n",
       "      <td>2.0</td>\n",
       "      <td>0.0</td>\n",
       "      <td>0.0</td>\n",
       "      <td>...</td>\n",
       "      <td>10</td>\n",
       "      <td>3410</td>\n",
       "      <td>?</td>\n",
       "      <td>2007</td>\n",
       "      <td>0.0</td>\n",
       "      <td>98040</td>\n",
       "      <td>47.5653</td>\n",
       "      <td>-122.223</td>\n",
       "      <td>2290</td>\n",
       "      <td>10125</td>\n",
       "    </tr>\n",
       "  </tbody>\n",
       "</table>\n",
       "<p>452 rows × 21 columns</p>\n",
       "</div>"
      ],
      "text/plain": [
       "               id        date      price  bedrooms  bathrooms  sqft_living  \\\n",
       "6      1321400060   6/27/2014   257500.0         3       2.25         1715   \n",
       "18       16000397   12/5/2014   189000.0         2       1.00         1200   \n",
       "42     7203220400    7/7/2014   861990.0         5       2.75         3595   \n",
       "79     1531000030   3/23/2015   720000.0         4       2.50         3450   \n",
       "112    2525310310   9/16/2014   272500.0         3       1.75         1540   \n",
       "...           ...         ...        ...       ...        ...          ...   \n",
       "21442  3226049565   7/11/2014   504600.0         5       3.00         2360   \n",
       "21447  1760650900   7/21/2014   337500.0         4       2.50         2330   \n",
       "21473  6021503707   1/20/2015   352500.0         2       2.50          980   \n",
       "21519  2909310100  10/15/2014   332000.0         4       2.50         2380   \n",
       "21581   191100405   4/21/2015  1580000.0         4       3.25         3410   \n",
       "\n",
       "       sqft_lot  floors  waterfront  view  ...  grade  sqft_above  \\\n",
       "6          6819     2.0         0.0   0.0  ...      7        1715   \n",
       "18         9850     1.0         0.0   0.0  ...      7        1200   \n",
       "42         5639     2.0         0.0   0.0  ...      9        3595   \n",
       "79        39683     2.0         0.0   0.0  ...     10        3450   \n",
       "112       12600     1.0         0.0   0.0  ...      7        1160   \n",
       "...         ...     ...         ...   ...  ...    ...         ...   \n",
       "21442      5000     1.0         0.0   0.0  ...      7        1390   \n",
       "21447      4907     2.0         0.0   0.0  ...      7        2330   \n",
       "21473      1010     3.0         0.0   0.0  ...      8         980   \n",
       "21519      5737     2.0         0.0   0.0  ...      7        2380   \n",
       "21581     10125     2.0         0.0   0.0  ...     10        3410   \n",
       "\n",
       "       sqft_basement yr_built  yr_renovated  zipcode      lat     long  \\\n",
       "6                  ?     1995           0.0    98003  47.3097 -122.327   \n",
       "18                 ?     1921           0.0    98002  47.3089 -122.210   \n",
       "42                 ?     2014           0.0    98053  47.6848 -122.016   \n",
       "79                 ?     2002           0.0    98010  47.3420 -122.025   \n",
       "112                ?     1980           0.0    98038  47.3624 -122.031   \n",
       "...              ...      ...           ...      ...      ...      ...   \n",
       "21442              ?     2008           0.0    98103  47.6931 -122.330   \n",
       "21447              ?     2013           0.0    98042  47.3590 -122.081   \n",
       "21473              ?     2008           0.0    98117  47.6844 -122.387   \n",
       "21519              ?     2010           0.0    98023  47.2815 -122.356   \n",
       "21581              ?     2007           0.0    98040  47.5653 -122.223   \n",
       "\n",
       "       sqft_living15  sqft_lot15  \n",
       "6               2238        6819  \n",
       "18              1060        5095  \n",
       "42              3625        5639  \n",
       "79              3350       39750  \n",
       "112             1540       11656  \n",
       "...              ...         ...  \n",
       "21442           2180        5009  \n",
       "21447           2300        3836  \n",
       "21473            980        1023  \n",
       "21519           2380        5396  \n",
       "21581           2290       10125  \n",
       "\n",
       "[452 rows x 21 columns]"
      ]
     },
     "execution_count": 18,
     "metadata": {},
     "output_type": "execute_result"
    }
   ],
   "source": [
    "df[(df['sqft_basement'] == '?')]"
   ]
  },
  {
   "cell_type": "code",
   "execution_count": 19,
   "metadata": {},
   "outputs": [
    {
     "data": {
      "text/plain": [
       "0.0       0.594316\n",
       "?         0.020990\n",
       "600.0     0.010031\n",
       "500.0     0.009706\n",
       "700.0     0.009613\n",
       "            ...   \n",
       "784.0     0.000046\n",
       "556.0     0.000046\n",
       "274.0     0.000046\n",
       "2350.0    0.000046\n",
       "1245.0    0.000046\n",
       "Name: sqft_basement, Length: 302, dtype: float64"
      ]
     },
     "execution_count": 19,
     "metadata": {},
     "output_type": "execute_result"
    }
   ],
   "source": [
    "df['sqft_basement'].value_counts(normalize=True)"
   ]
  },
  {
   "cell_type": "markdown",
   "metadata": {},
   "source": [
    "454 rows have the value \"?\", which makes it impossible to convert to a float\n",
    "- Based on the relevance of basements being used as living space for the target demographic, I will not drop this data\n",
    "- I am going to continue by filling '?' with values with respect to the distribution of exisitng values "
   ]
  },
  {
   "cell_type": "code",
   "execution_count": 20,
   "metadata": {},
   "outputs": [],
   "source": [
    "# replacing all '?' values with NaN to make replacing easier\n",
    "df['sqft_basement'].replace(to_replace = '?', value=np.NaN, inplace=True)\n",
    "\n",
    "basement_dist = df['sqft_basement'].value_counts(normalize=True)\n",
    "basement_na = df['sqft_basement'].isna()\n",
    "\n",
    "df.loc[basement_na,'sqft_basement'] = np.random.choice(basement_dist.index, size=len(df[basement_na]), p=basement_dist.values)"
   ]
  },
  {
   "cell_type": "code",
   "execution_count": 21,
   "metadata": {},
   "outputs": [],
   "source": [
    "# no null values\n",
    "# df['sqft_basement'].isna().value_counts()\n"
   ]
  },
  {
   "cell_type": "code",
   "execution_count": 22,
   "metadata": {},
   "outputs": [],
   "source": [
    "#checking new distribution\n",
    "#df['sqft_basement'].value_counts(normalize=True)"
   ]
  },
  {
   "cell_type": "code",
   "execution_count": 23,
   "metadata": {},
   "outputs": [],
   "source": [
    "df['sqft_basement'] = df['sqft_basement'].astype('float64')"
   ]
  },
  {
   "cell_type": "markdown",
   "metadata": {},
   "source": [
    "### Dealing with Duplicates"
   ]
  },
  {
   "cell_type": "markdown",
   "metadata": {},
   "source": [
    "Because each house has a unique id ('id'), any duplicates will make analysis more difficult"
   ]
  },
  {
   "cell_type": "code",
   "execution_count": 24,
   "metadata": {},
   "outputs": [],
   "source": [
    "df.drop_duplicates('id', keep='last', inplace=True)"
   ]
  },
  {
   "cell_type": "code",
   "execution_count": 25,
   "metadata": {},
   "outputs": [],
   "source": [
    "# checking \n",
    "#print(df.info())\n",
    "# len(df['id'].unique())"
   ]
  },
  {
   "cell_type": "markdown",
   "metadata": {},
   "source": [
    "While I assume the repeated id's are from houses being sold more than once, I do not believe this will be a feature that I will be investigating, so I am keeping the most recent sale of each duplicated house"
   ]
  },
  {
   "cell_type": "markdown",
   "metadata": {},
   "source": [
    "### Creating lot15/living15 Comparison Columns"
   ]
  },
  {
   "cell_type": "markdown",
   "metadata": {},
   "source": [
    "I think it will be helpful to better understand how a property's living/lot space relative to their 15 neighbor's spaces will affect price"
   ]
  },
  {
   "cell_type": "code",
   "execution_count": 26,
   "metadata": {},
   "outputs": [],
   "source": [
    "df['rel_lot'] = df['sqft_lot'] - df['sqft_lot15']\n",
    "df['rel_living'] = df['sqft_living'] - df['sqft_living15']"
   ]
  },
  {
   "cell_type": "code",
   "execution_count": 27,
   "metadata": {},
   "outputs": [
    {
     "data": {
      "text/plain": [
       "<AxesSubplot:xlabel='rel_lot', ylabel='price'>"
      ]
     },
     "execution_count": 27,
     "metadata": {},
     "output_type": "execute_result"
    },
    {
     "data": {
      "image/png": "[encoded data removed]",
      "text/plain": [
       "<Figure size 432x288 with 1 Axes>"
      ]
     },
     "metadata": {
      "needs_background": "light"
     },
     "output_type": "display_data"
    }
   ],
   "source": [
    "sns.scatterplot(x= 'rel_lot', y='price', data= df)"
   ]
  },
  {
   "cell_type": "markdown",
   "metadata": {},
   "source": [
    "It would appear that the relative lot space does not any sort of linear relationship with price\n",
    "- there are a seemingly equal ammount of houses that have negligible (close to 0) differences in lot sqftage that are valued from very low to very high ranges"
   ]
  },
  {
   "cell_type": "code",
   "execution_count": 28,
   "metadata": {},
   "outputs": [
    {
     "data": {
      "text/plain": [
       "<AxesSubplot:xlabel='rel_living', ylabel='price'>"
      ]
     },
     "execution_count": 28,
     "metadata": {},
     "output_type": "execute_result"
    },
    {
     "data": {
      "image/png": "[encoded data removed]",
      "text/plain": [
       "<Figure size 432x288 with 1 Axes>"
      ]
     },
     "metadata": {
      "needs_background": "light"
     },
     "output_type": "display_data"
    }
   ],
   "source": [
    "sns.scatterplot(x= 'rel_living', y='price', data= df)"
   ]
  },
  {
   "cell_type": "markdown",
   "metadata": {},
   "source": [
    "It would appear that the relative living space has a negative linear relationship with price"
   ]
  },
  {
   "cell_type": "markdown",
   "metadata": {},
   "source": [
    "### Checking Multicullinearity "
   ]
  },
  {
   "cell_type": "code",
   "execution_count": 29,
   "metadata": {},
   "outputs": [
    {
     "data": {
      "text/plain": [
       "<AxesSubplot:>"
      ]
     },
     "execution_count": 29,
     "metadata": {},
     "output_type": "execute_result"
    },
    {
     "data": {
      "image/png": "[encoded data removed]",
      "text/plain": [
       "<Figure size 1296x720 with 2 Axes>"
      ]
     },
     "metadata": {
      "needs_background": "light"
     },
     "output_type": "display_data"
    }
   ],
   "source": [
    "plt.figure(figsize=(18,10))\n",
    "sns.heatmap(data = df.corr(), center=0, annot=True)"
   ]
  },
  {
   "cell_type": "markdown",
   "metadata": {},
   "source": [
    "**Observations**\n",
    "- sqft_above has a disruptive correlation (0.88)\n",
    "    - I will be dropping sqft_above, considering sqft_living already takes the upstairs living space into account\n",
    "- sqft_living has a correlation just above 0.75 with grade and sqft_living15\n",
    "    - I will be dropping sqft_living15 as rel_living evaluates the same relationship \n",
    "    - I will not drop either sqft_living or grade as I believe they are both crucial for my model, and only surpass the threshold of 0.75 by 0.1\n",
    "- Dropping rel_lot as it has a correlation of 0.75 with sqft_lot, and sqft_lot has a slightly higher correlation with price\n"
   ]
  },
  {
   "cell_type": "code",
   "execution_count": 30,
   "metadata": {},
   "outputs": [],
   "source": [
    "df.drop('sqft_above', axis=1, inplace=True)\n",
    "df.drop('sqft_living15', axis=1, inplace=True)\n",
    "df.drop('rel_lot', axis=1, inplace=True)\n",
    "df.drop('date', axis=1, inplace=True)"
   ]
  },
  {
   "cell_type": "markdown",
   "metadata": {},
   "source": [
    "# Explore "
   ]
  },
  {
   "cell_type": "code",
   "execution_count": 31,
   "metadata": {},
   "outputs": [
    {
     "data": {
      "text/plain": [
       "<seaborn.axisgrid.JointGrid at 0x1319d6310>"
      ]
     },
     "execution_count": 31,
     "metadata": {},
     "output_type": "execute_result"
    },
    {
     "data": {
      "image/png": "[encoded data removed]",
      "text/plain": [
       "<Figure size 432x432 with 3 Axes>"
      ]
     },
     "metadata": {
      "needs_background": "light"
     },
     "output_type": "display_data"
    }
   ],
   "source": [
    "sns.jointplot(x='bedrooms', y='price', data=df, kind='reg')"
   ]
  },
  {
   "cell_type": "markdown",
   "metadata": {},
   "source": [
    "I will need to investigate / remove the datapoint that has over 30 bedrooms"
   ]
  },
  {
   "cell_type": "markdown",
   "metadata": {},
   "source": [
    "It would appear that the price of a property reaches its maximum at 5 bedrooms\n",
    "- after that point it would appear the prices of properties begins to fall "
   ]
  },
  {
   "cell_type": "code",
   "execution_count": null,
   "metadata": {},
   "outputs": [],
   "source": [
    "df[(df['bedrooms'] > 30)]"
   ]
  },
  {
   "cell_type": "markdown",
   "metadata": {},
   "source": [
    "33 bedrooms with onlh 1620 sqft living space\n",
    "- I am going to delete this datapoint"
   ]
  },
  {
   "cell_type": "code",
   "execution_count": null,
   "metadata": {},
   "outputs": [],
   "source": [
    "indexname = df[(df['bedrooms'] > 30)].index\n",
    "df.drop(indexname, inplace=True)"
   ]
  },
  {
   "cell_type": "code",
   "execution_count": null,
   "metadata": {},
   "outputs": [],
   "source": [
    "sns.jointplot(x='bedrooms', y='price', data=df, kind='reg')\n"
   ]
  },
  {
   "cell_type": "markdown",
   "metadata": {},
   "source": [
    "11 bedrooms still seems unusual... but I will keep for now"
   ]
  },
  {
   "cell_type": "code",
   "execution_count": null,
   "metadata": {},
   "outputs": [],
   "source": [
    "df.groupby('bedrooms').median()"
   ]
  },
  {
   "cell_type": "code",
   "execution_count": null,
   "metadata": {},
   "outputs": [],
   "source": [
    "sns.jointplot(x='bathrooms', y='price', data=df, kind='reg')"
   ]
  },
  {
   "cell_type": "code",
   "execution_count": null,
   "metadata": {},
   "outputs": [],
   "source": [
    "sns.jointplot(x='sqft_living', y='price', data=df, kind='reg')"
   ]
  },
  {
   "cell_type": "code",
   "execution_count": null,
   "metadata": {},
   "outputs": [],
   "source": [
    "sns.jointplot(x='grade', y='price', data=df, kind='reg')"
   ]
  },
  {
   "cell_type": "code",
   "execution_count": null,
   "metadata": {},
   "outputs": [],
   "source": [
    "df['grade'].value_counts()"
   ]
  },
  {
   "cell_type": "markdown",
   "metadata": {},
   "source": [
    "There are very few datapoints for grades 3 and 13, it will probably be beneficial to remove these after the baseline "
   ]
  },
  {
   "cell_type": "code",
   "execution_count": null,
   "metadata": {},
   "outputs": [],
   "source": [
    "sns.jointplot(x='rel_living', y='price', data=df, kind='reg')"
   ]
  },
  {
   "cell_type": "markdown",
   "metadata": {},
   "source": [
    "It would appear that as rel_living increases (as the difference between the living space of a property and the average of the the nearest 15 neighbors' living spaces increases) price also increases\n"
   ]
  },
  {
   "cell_type": "markdown",
   "metadata": {},
   "source": [
    "### Baseline Model"
   ]
  },
  {
   "cell_type": "code",
   "execution_count": null,
   "metadata": {},
   "outputs": [],
   "source": [
    "outcome = 'price'\n",
    "predictors = df.drop('price', axis=1)\n",
    "predictor_variables = \"+\".join(predictors.columns)\n",
    "formula = outcome + '~' + predictor_variables\n",
    "model_baseline = ols(formula=formula, data=df).fit()\n",
    "model_baseline.summary()"
   ]
  },
  {
   "cell_type": "markdown",
   "metadata": {},
   "source": [
    "**Interpretation**\n",
    "- Rsquared is already almost 0.7\n",
    "- Baseline model seems to be moderately good at explaining variations in price \n",
    "- All variables seem to be be well below a = 0.05\n",
    "- Negative coefficients:\n",
    "    - bedrooms\n",
    "        - For 1 addition bedroom price drops approx 36,500\n",
    "        - this is counterintuitive... hopefully it will change as optimization occurs\n",
    "    - sqft_basement\n",
    "        - For 1 addition sqft of basement price drops approx 26\n",
    "        - this is also counterintuitive \n",
    "    - yr_built\n",
    "        - I can understand this being negative, if older houses being sold are larger / historical\n",
    "    - sqft_lot15\n",
    "        - very small negative coefficient\n",
    "    - rel_living \n",
    "        - For every additional 1 sqft living space that a property has above the average livning space of its 15 neighbors, price decreses by 20\n",
    "        - For every addional 1 sqft living space that a property has below the average living space of its 15 neighbors, price increases by 20\n",
    "        - This is conflicting with sqft_living, which states that for every 1 additional sqft of living space, price increases by 202 \n"
   ]
  },
  {
   "cell_type": "markdown",
   "metadata": {},
   "source": [
    "**Features to Drop**\n",
    "- id (does not provide relevant information pertaining to price)"
   ]
  },
  {
   "cell_type": "markdown",
   "metadata": {},
   "source": [
    "#### Baseline  Test"
   ]
  },
  {
   "cell_type": "code",
   "execution_count": null,
   "metadata": {},
   "outputs": [],
   "source": [
    "X = df.drop(\"price\", axis = 1)\n",
    "y = df['price']\n",
    "\n",
    "X_train, X_test, y_train, y_test = train_test_split(X, y, test_size = 0.25, random_state = 25)\n",
    "\n",
    "\n"
   ]
  },
  {
   "cell_type": "code",
   "execution_count": null,
   "metadata": {},
   "outputs": [],
   "source": [
    "baseline_linreg = LinearRegression()\n",
    "\n",
    "baseline_linreg.fit(X_train, y_train)\n",
    "\n",
    "y_pred = baseline_linreg.predict(X_test)\n",
    "\n",
    "residuals = y_pred - y_test"
   ]
  },
  {
   "cell_type": "code",
   "execution_count": null,
   "metadata": {},
   "outputs": [],
   "source": [
    "baseline_linreg.coef_"
   ]
  },
  {
   "cell_type": "code",
   "execution_count": null,
   "metadata": {},
   "outputs": [],
   "source": [
    "mse_train = mean_squared_error(y_train, baseline_linreg.predict(X_train))\n",
    "mse_test = mean_squared_error(y_test, y_pred)\n",
    "\n",
    "residuals = model_baseline.resid\n",
    "fig = sm.graphics.qqplot(residuals, dist=stats.norm, line='45', fit=True)\n",
    "\n",
    "print(\"Train RMSE:\", np.sqrt(mse_train))\n",
    "print(\"Test RMSE:\", np.sqrt(mse_test))\n",
    "print('Test Difference:', np.sqrt(mse_test) - np.sqrt(mse_train))\n",
    "fig.show()"
   ]
  },
  {
   "cell_type": "markdown",
   "metadata": {},
   "source": [
    "**Interpretation**\n",
    "- Based on the QQ Plot the residuals do not follow a normal distribution\n",
    "- I will be applying the assumptions based on the business problem to deal with extreme values / outliers "
   ]
  },
  {
   "cell_type": "markdown",
   "metadata": {},
   "source": [
    "# Adding Corresponding Cities to Zipcodes"
   ]
  },
  {
   "cell_type": "markdown",
   "metadata": {},
   "source": [
    "Right now it will be much too difficult to have any meaningful geographical insights using zipcodes, lat, or long \n",
    "- 70 zipcodes is too much to include in the model\n",
    "- long and lat is too vague"
   ]
  },
  {
   "cell_type": "markdown",
   "metadata": {},
   "source": [
    "Using the 'All Zipcodes and PO Box as Centroids for King County / zipcode all point'.csv file (source below), I will be able to create a new column that will assign a corresponding city based on the zip code, greatly reducing the geogrpahical features in my model"
   ]
  },
  {
   "cell_type": "markdown",
   "metadata": {},
   "source": [
    "source: https://gis-kingcounty.opendata.arcgis.com/datasets/kingcounty::all-zipcodes-and-po-box-as-centroids-for-king-county-zipcode-all-point/about"
   ]
  },
  {
   "cell_type": "markdown",
   "metadata": {},
   "source": [
    "### Initial Cleaning"
   ]
  },
  {
   "cell_type": "code",
   "execution_count": null,
   "metadata": {},
   "outputs": [],
   "source": [
    "kc_zip = pd.read_csv('data/kc_zip.csv')"
   ]
  },
  {
   "cell_type": "code",
   "execution_count": null,
   "metadata": {},
   "outputs": [],
   "source": [
    "kc_zip.info()"
   ]
  },
  {
   "cell_type": "code",
   "execution_count": null,
   "metadata": {},
   "outputs": [],
   "source": [
    "kc_zip.drop(['X', 'Y', 'OBJECTID', 'ZIP', 'COUNTY', 'ZIP_TYPE', 'FEATURE_SOURCE'], axis=1, inplace=True )\n",
    "\n",
    "kc_zip['zipcode'] = kc_zip['ZIPCODE']\n",
    "kc_zip.drop('ZIPCODE', axis=1, inplace=True)\n",
    "\n",
    "kc_zip['city'] = kc_zip['PREFERRED_CITY']\n",
    "kc_zip.drop('PREFERRED_CITY', axis=1, inplace=True)\n",
    "\n",
    "# kc_zip"
   ]
  },
  {
   "cell_type": "code",
   "execution_count": null,
   "metadata": {},
   "outputs": [],
   "source": [
    "kc_zip[(kc_zip['city'] == 'SAMMAMIISH')]"
   ]
  },
  {
   "cell_type": "code",
   "execution_count": null,
   "metadata": {},
   "outputs": [],
   "source": [
    "kc_zip.replace(to_replace='SAMMAMIISH', value='SAMMAMISH', inplace=True)"
   ]
  },
  {
   "cell_type": "code",
   "execution_count": null,
   "metadata": {},
   "outputs": [],
   "source": [
    "zip_list = df['zipcode'].unique().tolist()\n",
    "# len(zip_list)"
   ]
  },
  {
   "cell_type": "code",
   "execution_count": null,
   "metadata": {},
   "outputs": [],
   "source": [
    "for index, contents in kc_zip.iterrows():\n",
    "    if contents['zipcode'] not in zip_list:\n",
    "        kc_zip.drop(labels=[index], inplace=True)\n",
    "        \n",
    "# kc_zip"
   ]
  },
  {
   "cell_type": "code",
   "execution_count": null,
   "metadata": {},
   "outputs": [],
   "source": [
    "kc_zip.duplicated().sum()"
   ]
  },
  {
   "cell_type": "code",
   "execution_count": null,
   "metadata": {},
   "outputs": [],
   "source": [
    "kc_zip.drop_duplicates(keep='first', inplace=True)"
   ]
  },
  {
   "cell_type": "code",
   "execution_count": null,
   "metadata": {},
   "outputs": [],
   "source": [
    "merged = pd.merge(df, kc_zip, how='left')\n",
    "\n",
    "# merged"
   ]
  },
  {
   "cell_type": "code",
   "execution_count": null,
   "metadata": {
    "scrolled": false
   },
   "outputs": [],
   "source": [
    "merged['city'].value_counts(normalize=True)"
   ]
  },
  {
   "cell_type": "markdown",
   "metadata": {},
   "source": [
    "40% of properties in data set are within Seattle "
   ]
  },
  {
   "cell_type": "code",
   "execution_count": null,
   "metadata": {},
   "outputs": [],
   "source": [
    "merged.shape[0] - df.shape[0]"
   ]
  },
  {
   "cell_type": "code",
   "execution_count": null,
   "metadata": {},
   "outputs": [],
   "source": [
    "merged.duplicated().sum()"
   ]
  },
  {
   "cell_type": "code",
   "execution_count": null,
   "metadata": {},
   "outputs": [],
   "source": [
    "merged.shape"
   ]
  },
  {
   "cell_type": "code",
   "execution_count": null,
   "metadata": {},
   "outputs": [],
   "source": [
    "merged.isna().sum()"
   ]
  },
  {
   "cell_type": "code",
   "execution_count": null,
   "metadata": {},
   "outputs": [],
   "source": [
    "merged['city'] = merged['city'].str.replace(' ', '_')\n",
    "\n",
    "# merged"
   ]
  },
  {
   "cell_type": "markdown",
   "metadata": {},
   "source": [
    "### Exploring Cities "
   ]
  },
  {
   "cell_type": "code",
   "execution_count": null,
   "metadata": {},
   "outputs": [],
   "source": [
    "fig, ax = plt.subplots(figsize=(18,10))\n",
    "sns.boxplot(ax=ax, x='city', y = 'price', data= merged)\n",
    "ax.set_xticklabels(ax.get_xticklabels(), rotation=40, ha='right');"
   ]
  },
  {
   "cell_type": "markdown",
   "metadata": {},
   "source": [
    "- A lot of outliers\n",
    "- I think it will be beneficial exploring the behavior of my model by removing more outliers \n",
    "- I think I will create another model with all categories including cities to see how they change relationships of other features "
   ]
  },
  {
   "cell_type": "code",
   "execution_count": null,
   "metadata": {
    "scrolled": true
   },
   "outputs": [],
   "source": [
    "fig, ax = plt.subplots(figsize=(18,10))\n",
    "sns.barplot(ax=ax, x='city', y = 'price', data= merged.groupby('city').median().reset_index().sort_values(by='price', ascending=False))\n",
    "ax.set_xticklabels(ax.get_xticklabels(), rotation=40, ha='right');"
   ]
  },
  {
   "cell_type": "markdown",
   "metadata": {},
   "source": [
    "The top 3 most expensive cities to live in are Medina, Mercer Island, and Bellevue\n",
    "- all of which are neighboring eachother \n",
    "- all of which are touching Lake Washington "
   ]
  },
  {
   "cell_type": "code",
   "execution_count": null,
   "metadata": {},
   "outputs": [],
   "source": [
    "merged.groupby('city')['waterfront'].sum()"
   ]
  },
  {
   "cell_type": "markdown",
   "metadata": {},
   "source": [
    "- Despite bordering Lake Washington, Medina (the most expensive city) only has one property listed as waterfront \n",
    "- Seattle has the most waterfront properties, but also contains nearly half of all the properties within the dataset"
   ]
  },
  {
   "cell_type": "code",
   "execution_count": null,
   "metadata": {},
   "outputs": [],
   "source": [
    "merged['city'].value_counts()"
   ]
  },
  {
   "cell_type": "markdown",
   "metadata": {},
   "source": [
    "All cities have ample enough datapoints that will be sufficient for modeling"
   ]
  },
  {
   "cell_type": "code",
   "execution_count": null,
   "metadata": {
    "scrolled": false
   },
   "outputs": [],
   "source": [
    "merged['city'].value_counts(normalize=True)"
   ]
  },
  {
   "cell_type": "markdown",
   "metadata": {},
   "source": [
    "40% of properties in data set are within Seattle "
   ]
  },
  {
   "cell_type": "markdown",
   "metadata": {},
   "source": [
    "# Creating Summary / Split Test Functions"
   ]
  },
  {
   "cell_type": "markdown",
   "metadata": {},
   "source": [
    "Creating summary and tt_split functions to save myself tedious / repetitive coding"
   ]
  },
  {
   "cell_type": "code",
   "execution_count": null,
   "metadata": {},
   "outputs": [],
   "source": [
    "def summary(df, preds): # predictors must be str\n",
    "    outcome = 'price'\n",
    "    predictors = preds\n",
    "    predictor_variables = \"+\".join(predictors.columns)\n",
    "    formula = outcome + '~' + predictor_variables\n",
    "    global model \n",
    "    model = ols(formula=formula, data=df).fit()\n",
    "    return model.summary()"
   ]
  },
  {
   "cell_type": "code",
   "execution_count": null,
   "metadata": {},
   "outputs": [],
   "source": [
    "def tt_split(df, preds):\n",
    "    X = preds\n",
    "    y = df['price']\n",
    "\n",
    "    X_train, X_test, y_train, y_test = train_test_split(X, y, test_size = 0.25, random_state = 25)\n",
    "    \n",
    "    baseline_linreg = LinearRegression()\n",
    "    baseline_linreg.fit(X_train, y_train)\n",
    "    y_pred = baseline_linreg.predict(X_test)\n",
    "    residuals = y_pred - y_test\n",
    "    \n",
    "    mse_train = mean_squared_error(y_train, baseline_linreg.predict(X_train))\n",
    "    mse_test = mean_squared_error(y_test, y_pred)\n",
    "    \n",
    "    residuals = model.resid\n",
    "    fig = sm.graphics.qqplot(residuals, dist=stats.norm, line='45', fit=True)\n",
    "    \n",
    "    return print('Train MSE:', np.sqrt(mse_train), '\\n'\n",
    "                'Test MSE:', np.sqrt(mse_test), '\\n'\n",
    "                'Test Difference:', np.sqrt(mse_test) - np.sqrt(mse_train)), fig.show();"
   ]
  },
  {
   "cell_type": "markdown",
   "metadata": {},
   "source": [
    "# Baseline with Cities (Model 2) "
   ]
  },
  {
   "cell_type": "markdown",
   "metadata": {},
   "source": [
    "### Cleaning "
   ]
  },
  {
   "cell_type": "markdown",
   "metadata": {},
   "source": [
    "#### Defining/ Calculating \"Affordable\""
   ]
  },
  {
   "cell_type": "markdown",
   "metadata": {},
   "source": [
    "It is safe to assume that recent college graduates will not be looking to purchase a home, but the only available data regarding price is the entire price of the property"
   ]
  },
  {
   "cell_type": "markdown",
   "metadata": {},
   "source": [
    "To account for this the following measures have been taken: \n",
    "- An 'affordable' rent (for a single individual living alone) has been defined as <= 1,146 USD (2015 median rent in King County)\n",
    "    - source : https://www.deptofnumbers.com/rent/washington/king-county/\n",
    "- Given the 2015 King County 'affordable rent' value, the median of house price (450,000 USD) will be the maximum threshold for \"affordable\"\n",
    "- Given that recent college graduates often live with multiple roommates, I will be assuming the potential for having 3 tennants for a property \n",
    "    - Given this assumption, I will not be looking at houses priced over 1,350,000 USD (3x the median price) \n"
   ]
  },
  {
   "cell_type": "code",
   "execution_count": null,
   "metadata": {},
   "outputs": [],
   "source": [
    "cities_baseline = df[(df['price'] <= 1350000)]"
   ]
  },
  {
   "cell_type": "code",
   "execution_count": null,
   "metadata": {},
   "outputs": [],
   "source": [
    "cities_baseline.groupby('bedrooms').median()"
   ]
  },
  {
   "cell_type": "code",
   "execution_count": null,
   "metadata": {},
   "outputs": [],
   "source": [
    "cities_baseline = cities_baseline[(cities_baseline['bedrooms'] < 8)]"
   ]
  },
  {
   "cell_type": "markdown",
   "metadata": {},
   "source": [
    "There is an extreme outlier (33 bedrooms)\n",
    "- Considering the target demographic is recent graduates, any house with more than 7 bedrooms will be extravogant \n",
    "    - 5 and more is still extravogant, however I do not want to remove too many datapoints"
   ]
  },
  {
   "cell_type": "code",
   "execution_count": null,
   "metadata": {},
   "outputs": [],
   "source": [
    "cities_baseline = cities_baseline[(cities_baseline['bathrooms'] > 0.5)]"
   ]
  },
  {
   "cell_type": "markdown",
   "metadata": {},
   "source": [
    "Removing any datapoints with anything less than .75 bathrooms, as anything less would be uninhabitable "
   ]
  },
  {
   "cell_type": "code",
   "execution_count": null,
   "metadata": {},
   "outputs": [],
   "source": [
    "cities_baseline = pd.merge(cities_baseline, kc_zip, how='left')\n",
    " # cities_baseline.info()"
   ]
  },
  {
   "cell_type": "code",
   "execution_count": null,
   "metadata": {},
   "outputs": [],
   "source": [
    "fig, ax = plt.subplots(figsize=(18,10))\n",
    "sns.boxplot(ax=ax, x='city', y = 'price', data= cities_baseline)\n",
    "ax.set_xticklabels(ax.get_xticklabels(), rotation=40, ha='right');"
   ]
  },
  {
   "cell_type": "markdown",
   "metadata": {},
   "source": [
    "There are still many outliers, however I believe this to be representative of property prices and I will not be removing them\n",
    "- In a given city / neighborhood there are properties with much higher prices due to a variety of different factors (historical significance, rennovations, waterfront status, architecture, etc.) \n",
    "- A model that could not take these outliers into account will be of no use "
   ]
  },
  {
   "cell_type": "code",
   "execution_count": null,
   "metadata": {},
   "outputs": [],
   "source": [
    "fig, ax = plt.subplots(figsize=(18,10))\n",
    "sns.barplot(ax=ax, x='city', y = 'price', data= merged.groupby('city').median().reset_index().sort_values(by='price', ascending=False))\n",
    "ax.set_xticklabels(ax.get_xticklabels(), rotation=40, ha='right');"
   ]
  },
  {
   "cell_type": "markdown",
   "metadata": {},
   "source": [
    "No change in most expensive cities "
   ]
  },
  {
   "cell_type": "code",
   "execution_count": null,
   "metadata": {},
   "outputs": [],
   "source": [
    "cities_baseline['city'] = cities_baseline['city'].str.replace(' ', '_')\n",
    "city_dummies = pd.get_dummies(cities_baseline['city'], drop_first=True)"
   ]
  },
  {
   "cell_type": "code",
   "execution_count": null,
   "metadata": {},
   "outputs": [],
   "source": [
    "cities_baseline = pd.concat([cities_baseline, city_dummies], axis=1)\n",
    "cities_baseline.drop('city', axis=1, inplace=True)"
   ]
  },
  {
   "cell_type": "code",
   "execution_count": null,
   "metadata": {},
   "outputs": [],
   "source": [
    "cities_baseline.info()"
   ]
  },
  {
   "cell_type": "code",
   "execution_count": null,
   "metadata": {},
   "outputs": [],
   "source": [
    "cities_baseline.drop(['id', 'zipcode', 'lat', 'long'], axis=1, inplace=True)"
   ]
  },
  {
   "cell_type": "markdown",
   "metadata": {},
   "source": [
    "With 'city' being the most informative geographical feature, I am dropping 'zipcode', 'lat', and 'long'\n",
    "- I am also dropping 'id' as it adds no relevant information to my model"
   ]
  },
  {
   "cell_type": "code",
   "execution_count": null,
   "metadata": {
    "scrolled": false
   },
   "outputs": [],
   "source": [
    "summary(cities_baseline, cities_baseline.drop('price', axis=1))"
   ]
  },
  {
   "cell_type": "markdown",
   "metadata": {},
   "source": [
    "**Interpretation**\n",
    "- Adding cities (and removing other geographical features) has improved the r-squared value significantly (up nearly 0.4 from baseline)\n",
    "- Enumclaw appears to be the only city with a large p-value\n",
    "- bedrooms still has a substantial negative coefficient\n",
    "    - may need to propose this be looked into further \n",
    "- sqft_basement is still negative, but is much smaller\n",
    "    - for every sqft of basement price only drops 4\n",
    "- rel_living has a larger negative coefficient and is still conflicting with sqft_living\n",
    "\n"
   ]
  },
  {
   "cell_type": "markdown",
   "metadata": {},
   "source": [
    "**Next Model** \n",
    "- I will be dropping 'condition' as it conveys the same information as 'grade'\n",
    "    - 'grade' is a measure used by the local government, wheras 'condition' might be much more subjective \n",
    "- I am dropping rel_living due to its conflict with sqft_living\n",
    "- Keeping Enumclaw for now despite p-value (0.405)\n",
    "    - Considering the massive increase in r-squared by adding the cities, I want to see if tweaking other features will prove that all cities are significantly influential \n",
    "- Creating dummy variabels for grade"
   ]
  },
  {
   "cell_type": "code",
   "execution_count": null,
   "metadata": {},
   "outputs": [],
   "source": [
    "tt_split(cities_baseline, cities_baseline.drop('price', axis=1))"
   ]
  },
  {
   "cell_type": "markdown",
   "metadata": {},
   "source": [
    "**Interpretation**\n",
    "- After filtering the data based on assumptions based on max price, number of bedrooms, and bathrooms, the residuals seem to be much more normally distributed than the baseline test"
   ]
  },
  {
   "cell_type": "markdown",
   "metadata": {},
   "source": [
    "# Model 3"
   ]
  },
  {
   "cell_type": "markdown",
   "metadata": {},
   "source": [
    "There is a strong positive relationship between 'grade' and 'price' \n",
    " - Given there are 11 grades I will first create dummy variables, and then bin the grades based on their coeficients "
   ]
  },
  {
   "cell_type": "markdown",
   "metadata": {},
   "source": [
    "### Cleaning"
   ]
  },
  {
   "cell_type": "code",
   "execution_count": null,
   "metadata": {},
   "outputs": [],
   "source": [
    "cities_baseline['grade'].value_counts()"
   ]
  },
  {
   "cell_type": "markdown",
   "metadata": {},
   "source": [
    "There is a single datapoint where grade = 3"
   ]
  },
  {
   "cell_type": "code",
   "execution_count": null,
   "metadata": {},
   "outputs": [],
   "source": [
    "indexnames = cities_baseline[cities_baseline['grade'] == 3].index\n",
    "cities_baseline.drop(indexnames, inplace=True)"
   ]
  },
  {
   "cell_type": "markdown",
   "metadata": {},
   "source": [
    "# Model 3 (cont'd)"
   ]
  },
  {
   "cell_type": "code",
   "execution_count": null,
   "metadata": {},
   "outputs": [],
   "source": [
    "grade_dummies = pd.get_dummies(cities_baseline['grade'], prefix='grade', drop_first=True)\n",
    "model4 = pd.concat([cities_baseline, grade_dummies], axis=1)\n",
    "model4.drop(['grade', 'condition', 'rel_living'], axis=1, inplace=True)"
   ]
  },
  {
   "cell_type": "code",
   "execution_count": null,
   "metadata": {},
   "outputs": [],
   "source": [
    "summary(model4, model4.drop('price', axis=1))"
   ]
  },
  {
   "cell_type": "markdown",
   "metadata": {},
   "source": [
    "**Interpretation**\n",
    "- sqft_basement now has a positive coefficient, but a very large p-value\n",
    "    - I believe it will be beneficial to drop this feature as its coefficient and p-value has been fluxuating with each model \n",
    "- Enumclaw now has a much smaller p-value, but is still well above 0.05\n",
    "- I will be binning grades 5-6, 7-8, 9-10, 11-12\n"
   ]
  },
  {
   "cell_type": "code",
   "execution_count": null,
   "metadata": {},
   "outputs": [],
   "source": [
    "model4['grade'] = cities_baseline['grade']"
   ]
  },
  {
   "cell_type": "code",
   "execution_count": null,
   "metadata": {},
   "outputs": [],
   "source": [
    "#binning\n",
    "bins = [6,8,10,13]\n",
    "model4['bin_grade'] = pd.cut(model4['grade'], bins)\n",
    "\n",
    "# Cleaning what will become the column titles for each grade so as to not cause any\n",
    "# problems when put into the model formula\n",
    "model4['bin_grade'] = model4['bin_grade'].astype(str)\n",
    "model4['bin_grade'] = model4['bin_grade'].str.replace(' ', '')\n",
    "model4['bin_grade'] = model4['bin_grade'].str.replace('(', '')\n",
    "model4['bin_grade'] = model4['bin_grade'].str.replace(']', '')\n",
    "model4['bin_grade'] = model4['bin_grade'].str.replace(',', 'thru')\n",
    "model4['bin_grade'] = model4['bin_grade'].str.replace('.0', '')\n",
    "\n",
    "bin_dummies = pd.get_dummies(model4['bin_grade'], drop_first=True)\n",
    "bin_dummies.drop('nan', axis=1, inplace=True)\n",
    "\n",
    "# more cleaning column names to be more comprehendable / straightforward in summary \n",
    "bin_dummies['grade_9thru10'] = bin_dummies['8thru']\n",
    "bin_dummies['grade_11thru12'] = bin_dummies['thru13']\n",
    "bin_dummies.drop(['8thru', 'thru13'], axis=1, inplace=True)\n",
    "\n",
    "# concatinating \n",
    "model4 = pd.concat([model4, bin_dummies], axis=1)\n",
    "\n",
    "#dropping redundant columns\n",
    "model4.drop(['grade_5', 'grade_6', 'grade_7', 'grade_8', 'grade_9', 'grade_10', 'grade_11', \n",
    "             'grade_12', 'sqft_basement', 'grade', 'bin_grade'], axis=1, inplace=True)"
   ]
  },
  {
   "cell_type": "code",
   "execution_count": null,
   "metadata": {},
   "outputs": [],
   "source": [
    "# # binning \n",
    "# bins = [4,6,8,10,13]\n",
    "# model4['bin_grade'] = pd.cut(model4['grade'], bins)\n",
    "\n",
    "# # Cleaning what will become the column titles for each grade so as to not cause any\n",
    "# # problems when put into the model formula\n",
    "# model4['bin_grade'] = model4['bin_grade'].astype(str)\n",
    "# model4['bin_grade'] = model4['bin_grade'].str.replace(' ', '')\n",
    "# model4['bin_grade'] = model4['bin_grade'].str.replace('(', '')\n",
    "# model4['bin_grade'] = model4['bin_grade'].str.replace(']', '')\n",
    "# model4['bin_grade'] = model4['bin_grade'].str.replace(',', 'thru')\n",
    "# model4['bin_grade'] = model4['bin_grade'].str.replace('.0', '')\n",
    "\n",
    "# bin_dummies = pd.get_dummies(model4['bin_grade'], drop_first=True)\n",
    "# bin_dummies.drop('nan', axis=1, inplace=True)\n",
    "\n",
    "# # more cleaning column names to be more comprehendable / straightforward in summary \n",
    "# bin_dummies['grade_7thru8'] = bin_dummies['6thru8']\n",
    "# bin_dummies['grade_9thru10'] = bin_dummies['8thru']\n",
    "# bin_dummies['grade_10thru12'] = bin_dummies['thru13']\n",
    "# bin_dummies.drop(['6thru8', '8thru', 'thru13'], axis=1, inplace=True)\n",
    "\n",
    "# # concatinating \n",
    "# model4 = pd.concat([model4, bin_dummies], axis=1)\n",
    "\n",
    "# #dropping redundant columns\n",
    "# model4.drop(['grade_5', 'grade_6', 'grade_7', 'grade_8', 'grade_9', 'grade_10', 'grade_11', \n",
    "#              'grade_12', 'sqft_basement', 'grade', 'bin_grade'], axis=1, inplace=True)"
   ]
  },
  {
   "cell_type": "code",
   "execution_count": null,
   "metadata": {},
   "outputs": [],
   "source": [
    "summary(model4, model4.drop('price', axis=1))"
   ]
  },
  {
   "cell_type": "markdown",
   "metadata": {},
   "source": [
    "# Model 4 "
   ]
  },
  {
   "cell_type": "code",
   "execution_count": null,
   "metadata": {},
   "outputs": [],
   "source": [
    "model4['view'] = model4.view.astype(str)"
   ]
  },
  {
   "cell_type": "code",
   "execution_count": null,
   "metadata": {},
   "outputs": [],
   "source": [
    "model4['view'] = model4['view'].str.replace('.0', '')"
   ]
  },
  {
   "cell_type": "code",
   "execution_count": null,
   "metadata": {},
   "outputs": [],
   "source": [
    "model4['view'].value_counts()"
   ]
  },
  {
   "cell_type": "code",
   "execution_count": null,
   "metadata": {},
   "outputs": [],
   "source": [
    "view_dummies = pd.get_dummies(model4['view'], prefix='view', drop_first=True)"
   ]
  },
  {
   "cell_type": "code",
   "execution_count": null,
   "metadata": {},
   "outputs": [],
   "source": [
    "model4 = pd.concat([model4, view_dummies], axis=1)"
   ]
  },
  {
   "cell_type": "code",
   "execution_count": null,
   "metadata": {},
   "outputs": [],
   "source": [
    "model4.drop('view', axis=1, inplace=True)"
   ]
  },
  {
   "cell_type": "code",
   "execution_count": null,
   "metadata": {},
   "outputs": [],
   "source": [
    "summary(model4, model4.drop('price', axis=1))"
   ]
  },
  {
   "cell_type": "code",
   "execution_count": null,
   "metadata": {},
   "outputs": [],
   "source": [
    "summary(model4, model4.drop(['price', 'FEDERAL_WAY', 'sqft_lot15', 'ENUMCLAW'], axis=1))"
   ]
  },
  {
   "cell_type": "code",
   "execution_count": null,
   "metadata": {},
   "outputs": [],
   "source": [
    "tt_split(model4, model4.drop('price', axis=1))"
   ]
  },
  {
   "cell_type": "markdown",
   "metadata": {},
   "source": [
    "**Interpretation**\n",
    "- 'Bedrooms' still has a negative coefficient after all attempts at optimization "
   ]
  },
  {
   "cell_type": "code",
   "execution_count": null,
   "metadata": {},
   "outputs": [],
   "source": [
    "tt_split(model4, model4.drop('price', axis=1))"
   ]
  },
  {
   "cell_type": "markdown",
   "metadata": {},
   "source": [
    "### Exploring Bedrooms"
   ]
  },
  {
   "cell_type": "code",
   "execution_count": null,
   "metadata": {},
   "outputs": [],
   "source": [
    "sns.boxplot(x='bedrooms', y='price', data=model4)"
   ]
  },
  {
   "cell_type": "code",
   "execution_count": null,
   "metadata": {},
   "outputs": [],
   "source": [
    "sns.jointplot(x='bedrooms', y='price', data=model4, kind='reg')"
   ]
  },
  {
   "cell_type": "markdown",
   "metadata": {},
   "source": [
    "Based on the seemingly positive relationship between bedrooms and price in these visualizations it is difficult to discern what is causing the negative coefficient in all of the models"
   ]
  },
  {
   "cell_type": "code",
   "execution_count": null,
   "metadata": {},
   "outputs": [],
   "source": [
    "model4['bedrooms'].value_counts(normalize=True)"
   ]
  },
  {
   "cell_type": "markdown",
   "metadata": {},
   "source": [
    "nearly 80% of the properties have either 3 or 4 bedrooms, whereas 6 and 7 bedrooms make up approx 2%\n",
    "- perhaps only analyzing properties properties with 1 - 5 bedrooms will adjust the coefficient "
   ]
  },
  {
   "cell_type": "code",
   "execution_count": null,
   "metadata": {},
   "outputs": [],
   "source": [
    "model4.groupby('bedrooms').median()"
   ]
  },
  {
   "cell_type": "markdown",
   "metadata": {},
   "source": [
    "It would appear that after 6 bedrooms, price no longer increases with the addition of an extra bedroom"
   ]
  },
  {
   "cell_type": "code",
   "execution_count": null,
   "metadata": {},
   "outputs": [],
   "source": [
    "model5 = model4[(model4['bedrooms'] < 6)]"
   ]
  },
  {
   "cell_type": "code",
   "execution_count": null,
   "metadata": {},
   "outputs": [],
   "source": [
    "summary(model5, model5.drop('price', axis=1))"
   ]
  },
  {
   "cell_type": "markdown",
   "metadata": {},
   "source": [
    "Only a small change to the negative coefficient\n",
    "- I will acknowledge this relationship and the need to expore it further in the 'going forward' section of my presentation"
   ]
  },
  {
   "cell_type": "code",
   "execution_count": null,
   "metadata": {},
   "outputs": [],
   "source": []
  },
  {
   "cell_type": "code",
   "execution_count": null,
   "metadata": {},
   "outputs": [],
   "source": []
  },
  {
   "cell_type": "code",
   "execution_count": null,
   "metadata": {},
   "outputs": [],
   "source": [
    "df_model12 = df_model11.drop(['grade_5', 'grade_6'], axis=1)"
   ]
  },
  {
   "cell_type": "code",
   "execution_count": null,
   "metadata": {},
   "outputs": [],
   "source": [
    "summary(df_model12, df_model12.drop('price', axis=1))"
   ]
  },
  {
   "cell_type": "code",
   "execution_count": null,
   "metadata": {},
   "outputs": [],
   "source": [
    "df_model12 = pd.concat([df_model12, grade_col], axis=1)"
   ]
  },
  {
   "cell_type": "code",
   "execution_count": null,
   "metadata": {},
   "outputs": [],
   "source": [
    "bins = [6,8,13]\n",
    "df_model12['bin_grade'] = pd.cut(df_model12['grade'], bins)"
   ]
  },
  {
   "cell_type": "code",
   "execution_count": null,
   "metadata": {},
   "outputs": [],
   "source": [
    "df_model12['bin_grade'].isna().sum()"
   ]
  },
  {
   "cell_type": "code",
   "execution_count": null,
   "metadata": {},
   "outputs": [],
   "source": [
    "df_model12['bin_grade'].value_counts()"
   ]
  },
  {
   "cell_type": "code",
   "execution_count": null,
   "metadata": {},
   "outputs": [],
   "source": [
    "df_model12['bin_grade'] = df_model12['bin_grade'].astype(str)\n",
    "df_model12['bin_grade'] = df_model12['bin_grade'].str.replace('.0', '')\n",
    "df_model12['bin_grade'] = df_model12['bin_grade'].str.replace(' ', '')\n",
    "df_model12['bin_grade'] = df_model12['bin_grade'].str.replace('(', '')\n",
    "df_model12['bin_grade'] = df_model12['bin_grade'].str.replace(']', '')\n"
   ]
  },
  {
   "cell_type": "code",
   "execution_count": null,
   "metadata": {},
   "outputs": [],
   "source": [
    "grade_bin_dummies = pd.get_dummies(df_model12['bin_grade'], drop_first=True)\n",
    "df_model12 = pd.concat([df_model12, grade_bin_dummies], axis=1)\n",
    "df_model12.drop(['nan', 'bin_grade'], axis=1, inplace=True)"
   ]
  },
  {
   "cell_type": "code",
   "execution_count": null,
   "metadata": {},
   "outputs": [],
   "source": [
    "df_model12['grade_9thru13'] = df_model12['8,13']\n",
    "df_model12.drop(['8,13', 'grade', 'grade_7', 'grade_8', 'grade_9', 'grade_10', 'grade_11', 'grade_12'], axis=1, inplace=True)"
   ]
  },
  {
   "cell_type": "code",
   "execution_count": null,
   "metadata": {},
   "outputs": [],
   "source": [
    "summary(df_model12, df_model12.drop('price', axis=1))"
   ]
  },
  {
   "cell_type": "code",
   "execution_count": null,
   "metadata": {},
   "outputs": [],
   "source": [
    "tt_split(model4, model4.drop('price', axis=1))"
   ]
  },
  {
   "cell_type": "markdown",
   "metadata": {},
   "source": [
    "# Model 3"
   ]
  },
  {
   "cell_type": "code",
   "execution_count": null,
   "metadata": {},
   "outputs": [],
   "source": [
    "df_model3 = df_model2"
   ]
  },
  {
   "cell_type": "code",
   "execution_count": null,
   "metadata": {},
   "outputs": [],
   "source": [
    "df_model3.describe()"
   ]
  },
  {
   "cell_type": "markdown",
   "metadata": {},
   "source": [
    "**Outliers**\n",
    "- Max 33 bedrooms is an extreme outlier\n",
    "- Min 0.5 bathroom seems to be a mistake"
   ]
  },
  {
   "cell_type": "code",
   "execution_count": null,
   "metadata": {},
   "outputs": [],
   "source": [
    "df_model3['bedrooms'].value_counts()"
   ]
  },
  {
   "cell_type": "markdown",
   "metadata": {},
   "source": [
    "- 33 Bedrooms is certianly a mistake\n",
    "- Based on my business problem, I do not believe recent graduates will be looking for houses with over 7 bedrooms\n",
    "    - I do not believe recent graduates would be looking at anything with more than 5 bedrooms, but for the sake of keeping data I will only prune bedrooms > 7\n",
    "    - this will remove 51 datapoints"
   ]
  },
  {
   "cell_type": "code",
   "execution_count": null,
   "metadata": {},
   "outputs": [],
   "source": [
    "df_model3 = df_model3[(df_model3['bedrooms'] < 8)]"
   ]
  },
  {
   "cell_type": "code",
   "execution_count": null,
   "metadata": {},
   "outputs": [],
   "source": [
    "df_model3[(df_model3['bathrooms'] < 0.75)]"
   ]
  },
  {
   "cell_type": "markdown",
   "metadata": {},
   "source": [
    "- I am making the assumption that any property with less than .75 bathroom (sink, bath/shower, toilet) is not a feasible living space "
   ]
  },
  {
   "cell_type": "code",
   "execution_count": null,
   "metadata": {},
   "outputs": [],
   "source": [
    "df_model3= df_model3[(df_model3['bathrooms'] > 0.5)]"
   ]
  },
  {
   "cell_type": "code",
   "execution_count": null,
   "metadata": {},
   "outputs": [],
   "source": [
    "summary(df_model3, df_model3.drop('price', axis=1))"
   ]
  },
  {
   "cell_type": "markdown",
   "metadata": {},
   "source": [
    "**Interpretation**\n",
    "- With nearly identical results to model 2, the removed 'outliers' have had little positive change on the fit of the model\n",
    "    - that being said rsquared = .708 is not terrible\n",
    "- sqft_basement p value has increased by 0.1, so I will be dropping it for the next model"
   ]
  },
  {
   "cell_type": "code",
   "execution_count": null,
   "metadata": {},
   "outputs": [],
   "source": [
    "tt_split(df_model3, df_model3.drop('price', axis=1))"
   ]
  },
  {
   "cell_type": "markdown",
   "metadata": {},
   "source": [
    "- MSEs of Train and Test samples are very close (0.7%)\n",
    "    - this is not a large change from model 2 (1%)"
   ]
  },
  {
   "cell_type": "markdown",
   "metadata": {},
   "source": [
    "# Model 4"
   ]
  },
  {
   "cell_type": "markdown",
   "metadata": {},
   "source": [
    "Removing 'sqft_basement'"
   ]
  },
  {
   "cell_type": "code",
   "execution_count": null,
   "metadata": {},
   "outputs": [],
   "source": [
    "df_model4 = df_model3"
   ]
  },
  {
   "cell_type": "code",
   "execution_count": null,
   "metadata": {},
   "outputs": [],
   "source": [
    "df_model4.drop('sqft_basement', axis=1, inplace=True)"
   ]
  },
  {
   "cell_type": "code",
   "execution_count": null,
   "metadata": {},
   "outputs": [],
   "source": [
    "summary(df_model4, df_model4.drop('price', axis=1))"
   ]
  },
  {
   "cell_type": "code",
   "execution_count": null,
   "metadata": {},
   "outputs": [],
   "source": [
    "tt_split(df_model4, df_model4.drop('price', axis=1))"
   ]
  },
  {
   "cell_type": "markdown",
   "metadata": {},
   "source": [
    "# Model 5"
   ]
  },
  {
   "cell_type": "markdown",
   "metadata": {},
   "source": [
    "**Steps Taken For New Model**\n",
    "- Create dummy variables for categorical data\n",
    "- Remove 'condition' column (conveys same information as 'grade')"
   ]
  },
  {
   "cell_type": "code",
   "execution_count": null,
   "metadata": {},
   "outputs": [],
   "source": [
    "df_model5 = df_model4.drop('condition', axis=1)"
   ]
  },
  {
   "cell_type": "code",
   "execution_count": null,
   "metadata": {},
   "outputs": [],
   "source": [
    "df_model5['view'] = df_model5['view'].astype(int)"
   ]
  },
  {
   "cell_type": "code",
   "execution_count": null,
   "metadata": {},
   "outputs": [],
   "source": [
    "view_dummies = pd.get_dummies(df_model5['view'], prefix = 'view_', drop_first=True)\n",
    "grade_dummies = pd.get_dummies(df_model5['grade'], prefix = 'grade_', drop_first=True)"
   ]
  },
  {
   "cell_type": "code",
   "execution_count": null,
   "metadata": {},
   "outputs": [],
   "source": [
    "df_model5 = pd.concat([df_model5, view_dummies, grade_dummies], axis=1)"
   ]
  },
  {
   "cell_type": "code",
   "execution_count": null,
   "metadata": {},
   "outputs": [],
   "source": [
    "df_model5.drop(columns=['view', 'grade'], inplace=True)"
   ]
  },
  {
   "cell_type": "code",
   "execution_count": null,
   "metadata": {},
   "outputs": [],
   "source": [
    "summary(df_model5, df_model5.drop('price', axis=1))"
   ]
  },
  {
   "cell_type": "code",
   "execution_count": null,
   "metadata": {},
   "outputs": [],
   "source": [
    "tt_split(df_model5, df_model5.drop('price', axis=1))"
   ]
  },
  {
   "cell_type": "markdown",
   "metadata": {},
   "source": [
    "# Model 6"
   ]
  },
  {
   "cell_type": "code",
   "execution_count": null,
   "metadata": {},
   "outputs": [],
   "source": [
    "df_model6 = df_model5.drop(['grade__4', 'grade__5', 'grade__6', 'grade__7', 'grade__8', 'grade__9', 'grade__10'], axis=1)"
   ]
  },
  {
   "cell_type": "code",
   "execution_count": null,
   "metadata": {},
   "outputs": [],
   "source": [
    "summary(df_model6, df_model6.drop('price', axis=1))"
   ]
  },
  {
   "cell_type": "code",
   "execution_count": null,
   "metadata": {},
   "outputs": [],
   "source": [
    "tt_split(df_model6, df_model6.drop('price', axis=1))"
   ]
  },
  {
   "cell_type": "code",
   "execution_count": null,
   "metadata": {},
   "outputs": [],
   "source": [
    "df_model7 = df_model6.drop('grade__12', axis=1)"
   ]
  },
  {
   "cell_type": "code",
   "execution_count": null,
   "metadata": {},
   "outputs": [],
   "source": [
    "summary(df_model7, df_model7.drop('price', axis=1))"
   ]
  },
  {
   "cell_type": "code",
   "execution_count": null,
   "metadata": {},
   "outputs": [],
   "source": [
    "tt_split(df_model7, df_model7.drop('price', axis=1))"
   ]
  },
  {
   "cell_type": "markdown",
   "metadata": {},
   "source": [
    "# Model 8"
   ]
  },
  {
   "cell_type": "code",
   "execution_count": null,
   "metadata": {},
   "outputs": [],
   "source": [
    "df_model8 = merged"
   ]
  },
  {
   "cell_type": "code",
   "execution_count": null,
   "metadata": {},
   "outputs": [],
   "source": [
    "city_dummies = pd.get_dummies(df_model8['city'], drop_first=True)\n",
    "df_model8 = pd.concat([df_model8, city_dummies], axis=1)\n",
    "df_model8.drop('city', axis=1, inplace=True)"
   ]
  },
  {
   "cell_type": "code",
   "execution_count": null,
   "metadata": {},
   "outputs": [],
   "source": [
    "df_model8.info()"
   ]
  },
  {
   "cell_type": "code",
   "execution_count": null,
   "metadata": {},
   "outputs": [],
   "source": [
    "summary(df_model8, df_model8.drop('price', axis=1))"
   ]
  },
  {
   "cell_type": "markdown",
   "metadata": {},
   "source": [
    "# Model 9"
   ]
  },
  {
   "cell_type": "code",
   "execution_count": null,
   "metadata": {},
   "outputs": [],
   "source": [
    "df_model9 = df_model8.drop(['VASHON', 'WOODINVILLE', 'sqft_lot15', 'zipcode', 'lat', 'long'], axis=1)"
   ]
  },
  {
   "cell_type": "code",
   "execution_count": null,
   "metadata": {},
   "outputs": [],
   "source": [
    "summary(df_model9, df_model9.drop('price', axis=1))"
   ]
  },
  {
   "cell_type": "code",
   "execution_count": null,
   "metadata": {},
   "outputs": [],
   "source": [
    "tt_split(df_model9, df_model9.drop('price', axis=1))"
   ]
  },
  {
   "cell_type": "markdown",
   "metadata": {},
   "source": [
    "The MSE of the training data is higher than the testing data"
   ]
  },
  {
   "cell_type": "code",
   "execution_count": null,
   "metadata": {},
   "outputs": [],
   "source": [
    "df_model9.info()"
   ]
  },
  {
   "cell_type": "markdown",
   "metadata": {},
   "source": [
    "# Model 10"
   ]
  },
  {
   "cell_type": "code",
   "execution_count": null,
   "metadata": {},
   "outputs": [],
   "source": [
    "df_model10 = cities_baseline.drop('condition', axis=1)"
   ]
  },
  {
   "cell_type": "code",
   "execution_count": null,
   "metadata": {},
   "outputs": [],
   "source": [
    "indexnames = df_model10[(df_model10['grade'] == 3)].index\n",
    "df_model10 = df_model10.drop(indexnames)\n",
    "\n",
    "#creating for later concatination \n",
    "grade_col = df_model10['grade']\n",
    "view_col = df_model10['view']"
   ]
  },
  {
   "cell_type": "markdown",
   "metadata": {},
   "source": [
    "'grade' = 3 offered little / confusing information for the model as there was only one corresponding datapoint"
   ]
  },
  {
   "cell_type": "code",
   "execution_count": null,
   "metadata": {},
   "outputs": [],
   "source": [
    "df_model10['view'] = df_model10['view'].astype(int)\n",
    "\n",
    "view_dummies = pd.get_dummies(df_model10['view'], prefix='view', drop_first=True)\n",
    "\n",
    "grade_dummies = pd.get_dummies(df_model10['grade'], prefix='grade', drop_first=True)"
   ]
  },
  {
   "cell_type": "code",
   "execution_count": null,
   "metadata": {},
   "outputs": [],
   "source": [
    "df_model10.drop(['view', 'grade'], axis=1, inplace=True)"
   ]
  },
  {
   "cell_type": "code",
   "execution_count": null,
   "metadata": {},
   "outputs": [],
   "source": [
    "df_model10 = pd.concat([df_model10, view_dummies, grade_dummies], axis=1)"
   ]
  },
  {
   "cell_type": "code",
   "execution_count": null,
   "metadata": {
    "scrolled": false
   },
   "outputs": [],
   "source": [
    "summary(df_model10, df_model10.drop('price', axis=1))"
   ]
  },
  {
   "cell_type": "code",
   "execution_count": null,
   "metadata": {},
   "outputs": [],
   "source": [
    "tt_split(df_model10, df_model10.drop('price', axis=1))"
   ]
  },
  {
   "cell_type": "markdown",
   "metadata": {},
   "source": [
    "# Model 11"
   ]
  },
  {
   "cell_type": "code",
   "execution_count": null,
   "metadata": {},
   "outputs": [],
   "source": [
    "df_model11 = df_model10.drop(['ENUMCLAW', 'sqft_basement'], axis=1)"
   ]
  },
  {
   "cell_type": "code",
   "execution_count": null,
   "metadata": {
    "scrolled": false
   },
   "outputs": [],
   "source": [
    "summary(df_model11, df_model11.drop('price', axis=1))"
   ]
  },
  {
   "cell_type": "markdown",
   "metadata": {},
   "source": [
    "# Model 12"
   ]
  },
  {
   "cell_type": "markdown",
   "metadata": {},
   "source": [
    "There is a strong positive relationship between 'grade' and 'price' so I do not want to drop a majority of the 'grade' columns... so I will attempt binning "
   ]
  },
  {
   "cell_type": "code",
   "execution_count": null,
   "metadata": {},
   "outputs": [],
   "source": [
    "# df_model12 = cities_baseline.drop('condition', axis=1)"
   ]
  },
  {
   "cell_type": "code",
   "execution_count": null,
   "metadata": {},
   "outputs": [],
   "source": [
    "df_model12 = df_model11.drop(['grade_5', 'grade_6'], axis=1)"
   ]
  },
  {
   "cell_type": "code",
   "execution_count": null,
   "metadata": {},
   "outputs": [],
   "source": [
    "summary(df_model12, df_model12.drop('price', axis=1))"
   ]
  },
  {
   "cell_type": "code",
   "execution_count": null,
   "metadata": {},
   "outputs": [],
   "source": [
    "df_model12 = pd.concat([df_model12, grade_col], axis=1)"
   ]
  },
  {
   "cell_type": "code",
   "execution_count": null,
   "metadata": {},
   "outputs": [],
   "source": [
    "bins = [6,8,13]\n",
    "df_model12['bin_grade'] = pd.cut(df_model12['grade'], bins)"
   ]
  },
  {
   "cell_type": "code",
   "execution_count": null,
   "metadata": {},
   "outputs": [],
   "source": [
    "df_model12['bin_grade'].isna().sum()"
   ]
  },
  {
   "cell_type": "code",
   "execution_count": null,
   "metadata": {},
   "outputs": [],
   "source": [
    "df_model12['bin_grade'].value_counts()"
   ]
  },
  {
   "cell_type": "code",
   "execution_count": null,
   "metadata": {},
   "outputs": [],
   "source": [
    "df_model12['bin_grade'] = df_model12['bin_grade'].astype(str)\n",
    "df_model12['bin_grade'] = df_model12['bin_grade'].str.replace('.0', '')\n",
    "df_model12['bin_grade'] = df_model12['bin_grade'].str.replace(' ', '')\n",
    "df_model12['bin_grade'] = df_model12['bin_grade'].str.replace('(', '')\n",
    "df_model12['bin_grade'] = df_model12['bin_grade'].str.replace(']', '')\n"
   ]
  },
  {
   "cell_type": "code",
   "execution_count": null,
   "metadata": {},
   "outputs": [],
   "source": [
    "grade_bin_dummies = pd.get_dummies(df_model12['bin_grade'], drop_first=True)\n",
    "df_model12 = pd.concat([df_model12, grade_bin_dummies], axis=1)\n",
    "df_model12.drop(['nan', 'bin_grade'], axis=1, inplace=True)"
   ]
  },
  {
   "cell_type": "code",
   "execution_count": null,
   "metadata": {},
   "outputs": [],
   "source": [
    "df_model12['grade_9thru13'] = df_model12['8,13']\n",
    "df_model12.drop(['8,13', 'grade', 'grade_7', 'grade_8', 'grade_9', 'grade_10', 'grade_11', 'grade_12'], axis=1, inplace=True)"
   ]
  },
  {
   "cell_type": "code",
   "execution_count": null,
   "metadata": {},
   "outputs": [],
   "source": [
    "summary(df_model12, df_model12.drop('price', axis=1))"
   ]
  },
  {
   "cell_type": "markdown",
   "metadata": {},
   "source": [
    "### Exploring Date"
   ]
  },
  {
   "cell_type": "code",
   "execution_count": null,
   "metadata": {},
   "outputs": [],
   "source": []
  },
  {
   "cell_type": "code",
   "execution_count": null,
   "metadata": {},
   "outputs": [],
   "source": [
    "df['date'].value_counts()"
   ]
  },
  {
   "cell_type": "markdown",
   "metadata": {},
   "source": [
    "\n",
    "It would appear that the bulk of sales are happening in June\n",
    "- seems as though sales are from 2014 and 2015"
   ]
  },
  {
   "cell_type": "code",
   "execution_count": null,
   "metadata": {},
   "outputs": [],
   "source": [
    "sns.countplot(x=df['month'])"
   ]
  },
  {
   "cell_type": "markdown",
   "metadata": {},
   "source": [
    "Most properties are being bought/sold between April - July\n",
    "- Highest frequency = May "
   ]
  },
  {
   "cell_type": "code",
   "execution_count": null,
   "metadata": {},
   "outputs": [],
   "source": [
    "sns.barplot(x='month', y='price', data= df.groupby(df['month']).median().reset_index())"
   ]
  },
  {
   "cell_type": "markdown",
   "metadata": {},
   "source": [
    "While more houses are being bought/sold during April - July, there does not seem to be a large difference between the median prices of houses sold on a month to month basis"
   ]
  },
  {
   "cell_type": "code",
   "execution_count": null,
   "metadata": {},
   "outputs": [],
   "source": [
    "sns.boxplot(x=df['month'], y=df['price'])"
   ]
  },
  {
   "cell_type": "markdown",
   "metadata": {},
   "source": [
    "The 'price' column seems to be riddled with outliers\n",
    "- Outliers seem to begin around $100mil\n",
    "- This will be influential when testing residuals for normality "
   ]
  },
  {
   "cell_type": "markdown",
   "metadata": {},
   "source": [
    "### Exploring sqft_basement"
   ]
  },
  {
   "cell_type": "code",
   "execution_count": null,
   "metadata": {},
   "outputs": [],
   "source": [
    "sns.scatterplot(x= df['sqft_basement'], y = df['price'])"
   ]
  },
  {
   "cell_type": "code",
   "execution_count": null,
   "metadata": {},
   "outputs": [],
   "source": [
    "basement_grouped = df.groupby('sqft_basement').median().reset_index()"
   ]
  },
  {
   "cell_type": "code",
   "execution_count": null,
   "metadata": {},
   "outputs": [],
   "source": [
    "sns.barplot(x = basement_grouped['sqft_basement'], y = basement_grouped['price'])\n",
    "sns.set(rc={'figure.figsize':(18,12)})\n"
   ]
  },
  {
   "cell_type": "markdown",
   "metadata": {},
   "source": [
    "There seems to be a positive relationship between sqft_basement and price"
   ]
  },
  {
   "cell_type": "code",
   "execution_count": null,
   "metadata": {},
   "outputs": [],
   "source": [
    "only_basements = df[df.sqft_basement != 0]"
   ]
  },
  {
   "cell_type": "code",
   "execution_count": null,
   "metadata": {},
   "outputs": [],
   "source": [
    "sns.scatterplot(x= only_basements['sqft_basement'], y = only_basements['price'])"
   ]
  },
  {
   "cell_type": "markdown",
   "metadata": {},
   "source": [
    "### Exploring lat/long/zipcode "
   ]
  },
  {
   "cell_type": "code",
   "execution_count": null,
   "metadata": {},
   "outputs": [],
   "source": [
    "sns.scatterplot(x= df['long'], y = df['lat'], hue = df['price'])"
   ]
  },
  {
   "cell_type": "markdown",
   "metadata": {},
   "source": [
    "Comparing this plot ot a map of King County, the lat and long data seems to be quite accurate "
   ]
  },
  {
   "cell_type": "markdown",
   "metadata": {},
   "source": [
    "**Observations**\n",
    "- Most expensive properties are in the North (above lat = 47.5)\n",
    "- Many of the higher priced properties appear to be clustered around bodies of water (Lake Washington, Lake Sammamish, Elliot Bay, Lake Union, etc.)\n",
    "- The most Eastward properties are much less expensive, but are located approx 60 miles outside of Seattle (1.5 hour drive)"
   ]
  },
  {
   "cell_type": "code",
   "execution_count": null,
   "metadata": {},
   "outputs": [],
   "source": [
    "zip_grouped = df.groupby('zipcode').median().reset_index()"
   ]
  },
  {
   "cell_type": "code",
   "execution_count": null,
   "metadata": {},
   "outputs": [],
   "source": [
    "sns.scatterplot(x= df['long'], y = df['lat'], hue = df['zipcode'], palette = 'bright')"
   ]
  },
  {
   "cell_type": "markdown",
   "metadata": {},
   "source": [
    "There are a lot of zipcodes... I don't know if it'll be worth the time aggregating them into larger groups \n",
    "- It might be better to create 4-8 geographical areas based on long and lat "
   ]
  },
  {
   "cell_type": "markdown",
   "metadata": {},
   "source": [
    "### Exploring yr_built"
   ]
  },
  {
   "cell_type": "code",
   "execution_count": null,
   "metadata": {},
   "outputs": [],
   "source": [
    "new_properties = df.groupby('yr_built').median().reset_index()\n"
   ]
  },
  {
   "cell_type": "code",
   "execution_count": null,
   "metadata": {},
   "outputs": [],
   "source": [
    "new_properties"
   ]
  },
  {
   "cell_type": "markdown",
   "metadata": {},
   "source": [
    "The data consists of properties that were built each year from 1900 to 2015"
   ]
  },
  {
   "cell_type": "code",
   "execution_count": null,
   "metadata": {},
   "outputs": [],
   "source": [
    "ax = sns.barplot(x = 'yr_built', y = 'price', data= new_properties)\n",
    "\n",
    "ax.set_xticklabels(ax.get_xticklabels(), rotation=40, ha='right');\n"
   ]
  },
  {
   "cell_type": "code",
   "execution_count": null,
   "metadata": {},
   "outputs": [],
   "source": [
    "cheap_yrs = new_properties[(new_properties['yr_built'] >= 1930) & (new_properties['yr_built'] <= 1973)]"
   ]
  },
  {
   "cell_type": "code",
   "execution_count": null,
   "metadata": {},
   "outputs": [],
   "source": [
    "ax = sns.barplot(x = 'yr_built', y = 'price', data= cheap_yrs)\n",
    "\n",
    "ax.set_xticklabels(ax.get_xticklabels(), rotation=40, ha='right');\n"
   ]
  },
  {
   "cell_type": "markdown",
   "metadata": {},
   "source": [
    "Houses built 1932 - 1936 and 1942 - 1944 appear to have the lowest (median) prices "
   ]
  },
  {
   "cell_type": "code",
   "execution_count": null,
   "metadata": {},
   "outputs": [],
   "source": [
    "ax = sns.barplot(x = 'yr_built', y = 'grade', data= cheap_yrs)\n",
    "\n",
    "ax.set_xticklabels(ax.get_xticklabels(), rotation=40, ha='right');"
   ]
  },
  {
   "cell_type": "markdown",
   "metadata": {},
   "source": [
    "The grade lower grade of the houses built 1932 - 1936 and 1942 - 1944 seem to reflect their lower prices"
   ]
  },
  {
   "cell_type": "code",
   "execution_count": null,
   "metadata": {},
   "outputs": [],
   "source": [
    "ax = sns.countplot(x = 'grade', data= cheap_yrs)\n",
    "\n",
    "ax.set_xticklabels(ax.get_xticklabels(), rotation=40, ha='right');\n"
   ]
  },
  {
   "cell_type": "code",
   "execution_count": null,
   "metadata": {},
   "outputs": [],
   "source": [
    "df['grade'].value_counts()"
   ]
  },
  {
   "cell_type": "code",
   "execution_count": null,
   "metadata": {},
   "outputs": [],
   "source": [
    "over_1945 = new_properties[(new_properties['yr_built'] > 1945)]\n",
    "\n",
    "ax = sns.barplot(x = 'yr_built', y ='grade', data= over_1945)\n",
    "\n",
    "ax.set_xticklabels(ax.get_xticklabels(), rotation=40, ha='right');\n"
   ]
  },
  {
   "cell_type": "code",
   "execution_count": null,
   "metadata": {},
   "outputs": [],
   "source": [
    "\n",
    "ax = sns.barplot(x = 'yr_built', y ='price', data= over_1945)\n",
    "\n",
    "ax.set_xticklabels(ax.get_xticklabels(), rotation=40, ha='right');\n"
   ]
  },
  {
   "cell_type": "code",
   "execution_count": null,
   "metadata": {},
   "outputs": [],
   "source": [
    "zip_grouped[['zipcode', 'yr_built']]"
   ]
  },
  {
   "cell_type": "code",
   "execution_count": null,
   "metadata": {},
   "outputs": [],
   "source": [
    "oldest_zip = zip_grouped[(zip_grouped['yr_built'] == 1926)] "
   ]
  },
  {
   "cell_type": "code",
   "execution_count": null,
   "metadata": {},
   "outputs": [],
   "source": [
    "oldest_zip"
   ]
  },
  {
   "cell_type": "code",
   "execution_count": null,
   "metadata": {},
   "outputs": [],
   "source": [
    "new_zip = zip_grouped.sort_values(by='price', ascending=False).reset_index()"
   ]
  },
  {
   "cell_type": "code",
   "execution_count": null,
   "metadata": {},
   "outputs": [],
   "source": [
    "new_zip[(new_zip['yr_built'] == 1926)]"
   ]
  },
  {
   "cell_type": "markdown",
   "metadata": {},
   "source": [
    "\"oldest\" does not correspond with \"cheapest\", considering the two oldest zipcodes are within the top 10 most expensive zip codes"
   ]
  },
  {
   "cell_type": "code",
   "execution_count": null,
   "metadata": {},
   "outputs": [],
   "source": [
    "cheapest_zips = new_zip.iloc[-10: -1].drop('index', axis=1)"
   ]
  },
  {
   "cell_type": "code",
   "execution_count": null,
   "metadata": {},
   "outputs": [],
   "source": [
    "cheapest_zips"
   ]
  },
  {
   "cell_type": "code",
   "execution_count": null,
   "metadata": {},
   "outputs": [],
   "source": [
    "sns.scatterplot(x= df['long'], y = df['lat'], palette = 'bright')"
   ]
  },
  {
   "cell_type": "code",
   "execution_count": null,
   "metadata": {},
   "outputs": [],
   "source": [
    "df[(df['zipcode'] == 98002)].sort_values(by='price', ascending=False)"
   ]
  },
  {
   "cell_type": "code",
   "execution_count": null,
   "metadata": {},
   "outputs": [],
   "source": []
  },
  {
   "cell_type": "code",
   "execution_count": null,
   "metadata": {},
   "outputs": [],
   "source": []
  },
  {
   "cell_type": "code",
   "execution_count": null,
   "metadata": {},
   "outputs": [],
   "source": []
  }
 ],
 "metadata": {
  "kernelspec": {
   "display_name": "Python 3",
   "language": "python",
   "name": "python3"
  },
  "language_info": {
   "codemirror_mode": {
    "name": "ipython",
    "version": 3
   },
   "file_extension": ".py",
   "mimetype": "text/x-python",
   "name": "python",
   "nbconvert_exporter": "python",
   "pygments_lexer": "ipython3",
   "version": "3.8.5"
  }
 },
 "nbformat": 4,
 "nbformat_minor": 4
}
