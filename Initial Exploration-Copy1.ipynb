{
 "cells": [
  {
   "cell_type": "code",
   "execution_count": 1,
   "metadata": {},
   "outputs": [],
   "source": [
    "import pandas as pd\n",
    "import numpy as np\n",
    "import seaborn as sns\n",
    "import matplotlib.pyplot as plt\n",
    "%matplotlib inline\n",
    "from statsmodels.formula.api import ols\n",
    "from sklearn.model_selection import train_test_split\n",
    "from sklearn.linear_model import LinearRegression\n",
    "from sklearn.metrics import mean_squared_error\n",
    "import scipy.stats as stats\n",
    "import statsmodels.api as sm\n",
    "\n",
    "import warnings\n",
    "warnings.filterwarnings(\"ignore\")\n"
   ]
  },
  {
   "cell_type": "markdown",
   "metadata": {},
   "source": [
    "# Context"
   ]
  },
  {
   "cell_type": "markdown",
   "metadata": {},
   "source": [
    "***STAKEHOLDER*** : Property management company"
   ]
  },
  {
   "cell_type": "markdown",
   "metadata": {},
   "source": [
    "***BUSINESS PROBLEM*** : Property management company is creating a new campaign that will target recent college graduates from local universities \n",
    "- The company knows this demographic will not be able to afford expensive properties \n",
    "    - Will be looking for smaller / less expensive places\n",
    "    - Will be looking for places with more sq footage to split amongst many tennants \n",
    "- The company wants to have a better idea of what kinds of properties they should be promoting among this demographic  "
   ]
  },
  {
   "cell_type": "markdown",
   "metadata": {},
   "source": [
    "# Obtain / Scrub"
   ]
  },
  {
   "cell_type": "code",
   "execution_count": 2,
   "metadata": {},
   "outputs": [],
   "source": [
    "df = pd.read_csv('data/kc_house_data.csv')"
   ]
  },
  {
   "cell_type": "code",
   "execution_count": 3,
   "metadata": {},
   "outputs": [
    {
     "name": "stdout",
     "output_type": "stream",
     "text": [
      "<class 'pandas.core.frame.DataFrame'>\n",
      "RangeIndex: 21597 entries, 0 to 21596\n",
      "Data columns (total 21 columns):\n",
      " #   Column         Non-Null Count  Dtype  \n",
      "---  ------         --------------  -----  \n",
      " 0   id             21597 non-null  int64  \n",
      " 1   date           21597 non-null  object \n",
      " 2   price          21597 non-null  float64\n",
      " 3   bedrooms       21597 non-null  int64  \n",
      " 4   bathrooms      21597 non-null  float64\n",
      " 5   sqft_living    21597 non-null  int64  \n",
      " 6   sqft_lot       21597 non-null  int64  \n",
      " 7   floors         21597 non-null  float64\n",
      " 8   waterfront     19221 non-null  float64\n",
      " 9   view           21534 non-null  float64\n",
      " 10  condition      21597 non-null  int64  \n",
      " 11  grade          21597 non-null  int64  \n",
      " 12  sqft_above     21597 non-null  int64  \n",
      " 13  sqft_basement  21597 non-null  object \n",
      " 14  yr_built       21597 non-null  int64  \n",
      " 15  yr_renovated   17755 non-null  float64\n",
      " 16  zipcode        21597 non-null  int64  \n",
      " 17  lat            21597 non-null  float64\n",
      " 18  long           21597 non-null  float64\n",
      " 19  sqft_living15  21597 non-null  int64  \n",
      " 20  sqft_lot15     21597 non-null  int64  \n",
      "dtypes: float64(8), int64(11), object(2)\n",
      "memory usage: 3.5+ MB\n"
     ]
    }
   ],
   "source": [
    "df.info()"
   ]
  },
  {
   "cell_type": "markdown",
   "metadata": {},
   "source": [
    "**Initial Observations** \n",
    "\n",
    "1) Columns with null data:\n",
    "- waterfront\n",
    "- yr_renovated\n",
    "- view\n",
    "\n",
    "2) sqft_basement is a string when it should probably be an int or float \n",
    "\n",
    "3) date column is not in datetime "
   ]
  },
  {
   "cell_type": "code",
   "execution_count": 4,
   "metadata": {},
   "outputs": [
    {
     "data": {
      "text/plain": [
       "0.0    19075\n",
       "1.0      146\n",
       "Name: waterfront, dtype: int64"
      ]
     },
     "execution_count": 4,
     "metadata": {},
     "output_type": "execute_result"
    }
   ],
   "source": [
    "df['waterfront'].value_counts()"
   ]
  },
  {
   "cell_type": "code",
   "execution_count": 5,
   "metadata": {},
   "outputs": [
    {
     "data": {
      "text/plain": [
       "False    19221\n",
       "True      2376\n",
       "Name: waterfront, dtype: int64"
      ]
     },
     "execution_count": 5,
     "metadata": {},
     "output_type": "execute_result"
    }
   ],
   "source": [
    "df['waterfront'].isna().value_counts()"
   ]
  },
  {
   "cell_type": "markdown",
   "metadata": {},
   "source": [
    "Over 2,000 null values\n",
    "- this data could be filled given the distribution of waterfront properties \n",
    "    - Initially I feel like 2,000 is too much to replace "
   ]
  },
  {
   "cell_type": "code",
   "execution_count": 6,
   "metadata": {},
   "outputs": [],
   "source": [
    "#replacing null values based on the existing distribution of data from 'waterfront'\n",
    "waterfront_dist = df['waterfront'].value_counts(normalize=True)\n",
    "waterfront_na = df['waterfront'].isna()\n",
    "\n",
    "df.loc[waterfront_na,'waterfront'] = np.random.choice(waterfront_dist.index, size=len(df[waterfront_na]), p=waterfront_dist.values)"
   ]
  },
  {
   "cell_type": "code",
   "execution_count": 7,
   "metadata": {},
   "outputs": [],
   "source": [
    "# no more null values\n",
    "# df['waterfront'].isna().value_counts()"
   ]
  },
  {
   "cell_type": "code",
   "execution_count": 8,
   "metadata": {},
   "outputs": [],
   "source": [
    "# new values\n",
    "# df['waterfront'].value_counts()"
   ]
  },
  {
   "cell_type": "code",
   "execution_count": 9,
   "metadata": {},
   "outputs": [
    {
     "data": {
      "text/plain": [
       "False    17755\n",
       "True      3842\n",
       "Name: yr_renovated, dtype: int64"
      ]
     },
     "execution_count": 9,
     "metadata": {},
     "output_type": "execute_result"
    }
   ],
   "source": [
    "df['yr_renovated'].isna().value_counts()"
   ]
  },
  {
   "cell_type": "code",
   "execution_count": 10,
   "metadata": {},
   "outputs": [
    {
     "data": {
      "text/plain": [
       "array([   0., 1991.,   nan, 2002., 2010., 1992., 2013., 1994., 1978.,\n",
       "       2005., 2003., 1984., 1954., 2014., 2011., 1983., 1945., 1990.,\n",
       "       1988., 1977., 1981., 1995., 2000., 1999., 1998., 1970., 1989.,\n",
       "       2004., 1986., 2007., 1987., 2006., 1985., 2001., 1980., 1971.,\n",
       "       1979., 1997., 1950., 1969., 1948., 2009., 2015., 1974., 2008.,\n",
       "       1968., 2012., 1963., 1951., 1962., 1953., 1993., 1996., 1955.,\n",
       "       1982., 1956., 1940., 1976., 1946., 1975., 1964., 1973., 1957.,\n",
       "       1959., 1960., 1967., 1965., 1934., 1972., 1944., 1958.])"
      ]
     },
     "execution_count": 10,
     "metadata": {},
     "output_type": "execute_result"
    }
   ],
   "source": [
    "df['yr_renovated'].unique()"
   ]
  },
  {
   "cell_type": "code",
   "execution_count": 11,
   "metadata": {},
   "outputs": [
    {
     "data": {
      "text/plain": [
       "0.0       0.958096\n",
       "2014.0    0.004112\n",
       "2003.0    0.001746\n",
       "2013.0    0.001746\n",
       "2007.0    0.001690\n",
       "            ...   \n",
       "1946.0    0.000056\n",
       "1959.0    0.000056\n",
       "1971.0    0.000056\n",
       "1951.0    0.000056\n",
       "1954.0    0.000056\n",
       "Name: yr_renovated, Length: 70, dtype: float64"
      ]
     },
     "execution_count": 11,
     "metadata": {},
     "output_type": "execute_result"
    }
   ],
   "source": [
    "df['yr_renovated'].value_counts(normalize=True)"
   ]
  },
  {
   "cell_type": "markdown",
   "metadata": {},
   "source": [
    "Nearly 4,000 null values \n",
    "- a value of '0' indicates no renovations have taken place \n",
    "- 95% of houses have not recieved rennovations"
   ]
  },
  {
   "cell_type": "code",
   "execution_count": 12,
   "metadata": {},
   "outputs": [],
   "source": [
    "ren_dist = df['yr_renovated'].value_counts(normalize=True)\n",
    "ren_na = df['yr_renovated'].isna()\n",
    "\n",
    "df.loc[ren_na,'yr_renovated'] = np.random.choice(ren_dist.index, size=len(df[ren_na]), p=ren_dist.values)"
   ]
  },
  {
   "cell_type": "code",
   "execution_count": 13,
   "metadata": {},
   "outputs": [],
   "source": [
    "# no more null values\n",
    "# df['yr_renovated'].isna().value_counts()"
   ]
  },
  {
   "cell_type": "code",
   "execution_count": 14,
   "metadata": {},
   "outputs": [],
   "source": [
    "# new value distribution\n",
    "# distributions have changed by the ten thousandth place \n",
    "# df['yr_renovated'].value_counts(normalize=True)"
   ]
  },
  {
   "cell_type": "code",
   "execution_count": 15,
   "metadata": {},
   "outputs": [
    {
     "data": {
      "text/plain": [
       "False    21534\n",
       "True        63\n",
       "Name: view, dtype: int64"
      ]
     },
     "execution_count": 15,
     "metadata": {},
     "output_type": "execute_result"
    }
   ],
   "source": [
    "df['view'].isna().value_counts()"
   ]
  },
  {
   "cell_type": "code",
   "execution_count": 16,
   "metadata": {},
   "outputs": [],
   "source": [
    "df.dropna(inplace=True)"
   ]
  },
  {
   "cell_type": "code",
   "execution_count": 17,
   "metadata": {},
   "outputs": [
    {
     "name": "stdout",
     "output_type": "stream",
     "text": [
      "<class 'pandas.core.frame.DataFrame'>\n",
      "Int64Index: 21534 entries, 0 to 21596\n",
      "Data columns (total 21 columns):\n",
      " #   Column         Non-Null Count  Dtype  \n",
      "---  ------         --------------  -----  \n",
      " 0   id             21534 non-null  int64  \n",
      " 1   date           21534 non-null  object \n",
      " 2   price          21534 non-null  float64\n",
      " 3   bedrooms       21534 non-null  int64  \n",
      " 4   bathrooms      21534 non-null  float64\n",
      " 5   sqft_living    21534 non-null  int64  \n",
      " 6   sqft_lot       21534 non-null  int64  \n",
      " 7   floors         21534 non-null  float64\n",
      " 8   waterfront     21534 non-null  float64\n",
      " 9   view           21534 non-null  float64\n",
      " 10  condition      21534 non-null  int64  \n",
      " 11  grade          21534 non-null  int64  \n",
      " 12  sqft_above     21534 non-null  int64  \n",
      " 13  sqft_basement  21534 non-null  object \n",
      " 14  yr_built       21534 non-null  int64  \n",
      " 15  yr_renovated   21534 non-null  float64\n",
      " 16  zipcode        21534 non-null  int64  \n",
      " 17  lat            21534 non-null  float64\n",
      " 18  long           21534 non-null  float64\n",
      " 19  sqft_living15  21534 non-null  int64  \n",
      " 20  sqft_lot15     21534 non-null  int64  \n",
      "dtypes: float64(8), int64(11), object(2)\n",
      "memory usage: 3.6+ MB\n"
     ]
    }
   ],
   "source": [
    "df.info()"
   ]
  },
  {
   "cell_type": "markdown",
   "metadata": {},
   "source": [
    "### Cleaning sqft_basement"
   ]
  },
  {
   "cell_type": "code",
   "execution_count": 18,
   "metadata": {},
   "outputs": [
    {
     "data": {
      "text/html": [
       "<div>\n",
       "<style scoped>\n",
       "    .dataframe tbody tr th:only-of-type {\n",
       "        vertical-align: middle;\n",
       "    }\n",
       "\n",
       "    .dataframe tbody tr th {\n",
       "        vertical-align: top;\n",
       "    }\n",
       "\n",
       "    .dataframe thead th {\n",
       "        text-align: right;\n",
       "    }\n",
       "</style>\n",
       "<table border=\"1\" class=\"dataframe\">\n",
       "  <thead>\n",
       "    <tr style=\"text-align: right;\">\n",
       "      <th></th>\n",
       "      <th>id</th>\n",
       "      <th>date</th>\n",
       "      <th>price</th>\n",
       "      <th>bedrooms</th>\n",
       "      <th>bathrooms</th>\n",
       "      <th>sqft_living</th>\n",
       "      <th>sqft_lot</th>\n",
       "      <th>floors</th>\n",
       "      <th>waterfront</th>\n",
       "      <th>view</th>\n",
       "      <th>...</th>\n",
       "      <th>grade</th>\n",
       "      <th>sqft_above</th>\n",
       "      <th>sqft_basement</th>\n",
       "      <th>yr_built</th>\n",
       "      <th>yr_renovated</th>\n",
       "      <th>zipcode</th>\n",
       "      <th>lat</th>\n",
       "      <th>long</th>\n",
       "      <th>sqft_living15</th>\n",
       "      <th>sqft_lot15</th>\n",
       "    </tr>\n",
       "  </thead>\n",
       "  <tbody>\n",
       "    <tr>\n",
       "      <th>6</th>\n",
       "      <td>1321400060</td>\n",
       "      <td>6/27/2014</td>\n",
       "      <td>257500.0</td>\n",
       "      <td>3</td>\n",
       "      <td>2.25</td>\n",
       "      <td>1715</td>\n",
       "      <td>6819</td>\n",
       "      <td>2.0</td>\n",
       "      <td>0.0</td>\n",
       "      <td>0.0</td>\n",
       "      <td>...</td>\n",
       "      <td>7</td>\n",
       "      <td>1715</td>\n",
       "      <td>?</td>\n",
       "      <td>1995</td>\n",
       "      <td>0.0</td>\n",
       "      <td>98003</td>\n",
       "      <td>47.3097</td>\n",
       "      <td>-122.327</td>\n",
       "      <td>2238</td>\n",
       "      <td>6819</td>\n",
       "    </tr>\n",
       "    <tr>\n",
       "      <th>18</th>\n",
       "      <td>16000397</td>\n",
       "      <td>12/5/2014</td>\n",
       "      <td>189000.0</td>\n",
       "      <td>2</td>\n",
       "      <td>1.00</td>\n",
       "      <td>1200</td>\n",
       "      <td>9850</td>\n",
       "      <td>1.0</td>\n",
       "      <td>0.0</td>\n",
       "      <td>0.0</td>\n",
       "      <td>...</td>\n",
       "      <td>7</td>\n",
       "      <td>1200</td>\n",
       "      <td>?</td>\n",
       "      <td>1921</td>\n",
       "      <td>0.0</td>\n",
       "      <td>98002</td>\n",
       "      <td>47.3089</td>\n",
       "      <td>-122.210</td>\n",
       "      <td>1060</td>\n",
       "      <td>5095</td>\n",
       "    </tr>\n",
       "    <tr>\n",
       "      <th>42</th>\n",
       "      <td>7203220400</td>\n",
       "      <td>7/7/2014</td>\n",
       "      <td>861990.0</td>\n",
       "      <td>5</td>\n",
       "      <td>2.75</td>\n",
       "      <td>3595</td>\n",
       "      <td>5639</td>\n",
       "      <td>2.0</td>\n",
       "      <td>0.0</td>\n",
       "      <td>0.0</td>\n",
       "      <td>...</td>\n",
       "      <td>9</td>\n",
       "      <td>3595</td>\n",
       "      <td>?</td>\n",
       "      <td>2014</td>\n",
       "      <td>0.0</td>\n",
       "      <td>98053</td>\n",
       "      <td>47.6848</td>\n",
       "      <td>-122.016</td>\n",
       "      <td>3625</td>\n",
       "      <td>5639</td>\n",
       "    </tr>\n",
       "    <tr>\n",
       "      <th>79</th>\n",
       "      <td>1531000030</td>\n",
       "      <td>3/23/2015</td>\n",
       "      <td>720000.0</td>\n",
       "      <td>4</td>\n",
       "      <td>2.50</td>\n",
       "      <td>3450</td>\n",
       "      <td>39683</td>\n",
       "      <td>2.0</td>\n",
       "      <td>0.0</td>\n",
       "      <td>0.0</td>\n",
       "      <td>...</td>\n",
       "      <td>10</td>\n",
       "      <td>3450</td>\n",
       "      <td>?</td>\n",
       "      <td>2002</td>\n",
       "      <td>0.0</td>\n",
       "      <td>98010</td>\n",
       "      <td>47.3420</td>\n",
       "      <td>-122.025</td>\n",
       "      <td>3350</td>\n",
       "      <td>39750</td>\n",
       "    </tr>\n",
       "    <tr>\n",
       "      <th>112</th>\n",
       "      <td>2525310310</td>\n",
       "      <td>9/16/2014</td>\n",
       "      <td>272500.0</td>\n",
       "      <td>3</td>\n",
       "      <td>1.75</td>\n",
       "      <td>1540</td>\n",
       "      <td>12600</td>\n",
       "      <td>1.0</td>\n",
       "      <td>0.0</td>\n",
       "      <td>0.0</td>\n",
       "      <td>...</td>\n",
       "      <td>7</td>\n",
       "      <td>1160</td>\n",
       "      <td>?</td>\n",
       "      <td>1980</td>\n",
       "      <td>0.0</td>\n",
       "      <td>98038</td>\n",
       "      <td>47.3624</td>\n",
       "      <td>-122.031</td>\n",
       "      <td>1540</td>\n",
       "      <td>11656</td>\n",
       "    </tr>\n",
       "    <tr>\n",
       "      <th>...</th>\n",
       "      <td>...</td>\n",
       "      <td>...</td>\n",
       "      <td>...</td>\n",
       "      <td>...</td>\n",
       "      <td>...</td>\n",
       "      <td>...</td>\n",
       "      <td>...</td>\n",
       "      <td>...</td>\n",
       "      <td>...</td>\n",
       "      <td>...</td>\n",
       "      <td>...</td>\n",
       "      <td>...</td>\n",
       "      <td>...</td>\n",
       "      <td>...</td>\n",
       "      <td>...</td>\n",
       "      <td>...</td>\n",
       "      <td>...</td>\n",
       "      <td>...</td>\n",
       "      <td>...</td>\n",
       "      <td>...</td>\n",
       "      <td>...</td>\n",
       "    </tr>\n",
       "    <tr>\n",
       "      <th>21442</th>\n",
       "      <td>3226049565</td>\n",
       "      <td>7/11/2014</td>\n",
       "      <td>504600.0</td>\n",
       "      <td>5</td>\n",
       "      <td>3.00</td>\n",
       "      <td>2360</td>\n",
       "      <td>5000</td>\n",
       "      <td>1.0</td>\n",
       "      <td>0.0</td>\n",
       "      <td>0.0</td>\n",
       "      <td>...</td>\n",
       "      <td>7</td>\n",
       "      <td>1390</td>\n",
       "      <td>?</td>\n",
       "      <td>2008</td>\n",
       "      <td>0.0</td>\n",
       "      <td>98103</td>\n",
       "      <td>47.6931</td>\n",
       "      <td>-122.330</td>\n",
       "      <td>2180</td>\n",
       "      <td>5009</td>\n",
       "    </tr>\n",
       "    <tr>\n",
       "      <th>21447</th>\n",
       "      <td>1760650900</td>\n",
       "      <td>7/21/2014</td>\n",
       "      <td>337500.0</td>\n",
       "      <td>4</td>\n",
       "      <td>2.50</td>\n",
       "      <td>2330</td>\n",
       "      <td>4907</td>\n",
       "      <td>2.0</td>\n",
       "      <td>0.0</td>\n",
       "      <td>0.0</td>\n",
       "      <td>...</td>\n",
       "      <td>7</td>\n",
       "      <td>2330</td>\n",
       "      <td>?</td>\n",
       "      <td>2013</td>\n",
       "      <td>0.0</td>\n",
       "      <td>98042</td>\n",
       "      <td>47.3590</td>\n",
       "      <td>-122.081</td>\n",
       "      <td>2300</td>\n",
       "      <td>3836</td>\n",
       "    </tr>\n",
       "    <tr>\n",
       "      <th>21473</th>\n",
       "      <td>6021503707</td>\n",
       "      <td>1/20/2015</td>\n",
       "      <td>352500.0</td>\n",
       "      <td>2</td>\n",
       "      <td>2.50</td>\n",
       "      <td>980</td>\n",
       "      <td>1010</td>\n",
       "      <td>3.0</td>\n",
       "      <td>0.0</td>\n",
       "      <td>0.0</td>\n",
       "      <td>...</td>\n",
       "      <td>8</td>\n",
       "      <td>980</td>\n",
       "      <td>?</td>\n",
       "      <td>2008</td>\n",
       "      <td>0.0</td>\n",
       "      <td>98117</td>\n",
       "      <td>47.6844</td>\n",
       "      <td>-122.387</td>\n",
       "      <td>980</td>\n",
       "      <td>1023</td>\n",
       "    </tr>\n",
       "    <tr>\n",
       "      <th>21519</th>\n",
       "      <td>2909310100</td>\n",
       "      <td>10/15/2014</td>\n",
       "      <td>332000.0</td>\n",
       "      <td>4</td>\n",
       "      <td>2.50</td>\n",
       "      <td>2380</td>\n",
       "      <td>5737</td>\n",
       "      <td>2.0</td>\n",
       "      <td>0.0</td>\n",
       "      <td>0.0</td>\n",
       "      <td>...</td>\n",
       "      <td>7</td>\n",
       "      <td>2380</td>\n",
       "      <td>?</td>\n",
       "      <td>2010</td>\n",
       "      <td>0.0</td>\n",
       "      <td>98023</td>\n",
       "      <td>47.2815</td>\n",
       "      <td>-122.356</td>\n",
       "      <td>2380</td>\n",
       "      <td>5396</td>\n",
       "    </tr>\n",
       "    <tr>\n",
       "      <th>21581</th>\n",
       "      <td>191100405</td>\n",
       "      <td>4/21/2015</td>\n",
       "      <td>1580000.0</td>\n",
       "      <td>4</td>\n",
       "      <td>3.25</td>\n",
       "      <td>3410</td>\n",
       "      <td>10125</td>\n",
       "      <td>2.0</td>\n",
       "      <td>0.0</td>\n",
       "      <td>0.0</td>\n",
       "      <td>...</td>\n",
       "      <td>10</td>\n",
       "      <td>3410</td>\n",
       "      <td>?</td>\n",
       "      <td>2007</td>\n",
       "      <td>0.0</td>\n",
       "      <td>98040</td>\n",
       "      <td>47.5653</td>\n",
       "      <td>-122.223</td>\n",
       "      <td>2290</td>\n",
       "      <td>10125</td>\n",
       "    </tr>\n",
       "  </tbody>\n",
       "</table>\n",
       "<p>452 rows × 21 columns</p>\n",
       "</div>"
      ],
      "text/plain": [
       "               id        date      price  bedrooms  bathrooms  sqft_living  \\\n",
       "6      1321400060   6/27/2014   257500.0         3       2.25         1715   \n",
       "18       16000397   12/5/2014   189000.0         2       1.00         1200   \n",
       "42     7203220400    7/7/2014   861990.0         5       2.75         3595   \n",
       "79     1531000030   3/23/2015   720000.0         4       2.50         3450   \n",
       "112    2525310310   9/16/2014   272500.0         3       1.75         1540   \n",
       "...           ...         ...        ...       ...        ...          ...   \n",
       "21442  3226049565   7/11/2014   504600.0         5       3.00         2360   \n",
       "21447  1760650900   7/21/2014   337500.0         4       2.50         2330   \n",
       "21473  6021503707   1/20/2015   352500.0         2       2.50          980   \n",
       "21519  2909310100  10/15/2014   332000.0         4       2.50         2380   \n",
       "21581   191100405   4/21/2015  1580000.0         4       3.25         3410   \n",
       "\n",
       "       sqft_lot  floors  waterfront  view  ...  grade  sqft_above  \\\n",
       "6          6819     2.0         0.0   0.0  ...      7        1715   \n",
       "18         9850     1.0         0.0   0.0  ...      7        1200   \n",
       "42         5639     2.0         0.0   0.0  ...      9        3595   \n",
       "79        39683     2.0         0.0   0.0  ...     10        3450   \n",
       "112       12600     1.0         0.0   0.0  ...      7        1160   \n",
       "...         ...     ...         ...   ...  ...    ...         ...   \n",
       "21442      5000     1.0         0.0   0.0  ...      7        1390   \n",
       "21447      4907     2.0         0.0   0.0  ...      7        2330   \n",
       "21473      1010     3.0         0.0   0.0  ...      8         980   \n",
       "21519      5737     2.0         0.0   0.0  ...      7        2380   \n",
       "21581     10125     2.0         0.0   0.0  ...     10        3410   \n",
       "\n",
       "       sqft_basement yr_built  yr_renovated  zipcode      lat     long  \\\n",
       "6                  ?     1995           0.0    98003  47.3097 -122.327   \n",
       "18                 ?     1921           0.0    98002  47.3089 -122.210   \n",
       "42                 ?     2014           0.0    98053  47.6848 -122.016   \n",
       "79                 ?     2002           0.0    98010  47.3420 -122.025   \n",
       "112                ?     1980           0.0    98038  47.3624 -122.031   \n",
       "...              ...      ...           ...      ...      ...      ...   \n",
       "21442              ?     2008           0.0    98103  47.6931 -122.330   \n",
       "21447              ?     2013           0.0    98042  47.3590 -122.081   \n",
       "21473              ?     2008           0.0    98117  47.6844 -122.387   \n",
       "21519              ?     2010           0.0    98023  47.2815 -122.356   \n",
       "21581              ?     2007           0.0    98040  47.5653 -122.223   \n",
       "\n",
       "       sqft_living15  sqft_lot15  \n",
       "6               2238        6819  \n",
       "18              1060        5095  \n",
       "42              3625        5639  \n",
       "79              3350       39750  \n",
       "112             1540       11656  \n",
       "...              ...         ...  \n",
       "21442           2180        5009  \n",
       "21447           2300        3836  \n",
       "21473            980        1023  \n",
       "21519           2380        5396  \n",
       "21581           2290       10125  \n",
       "\n",
       "[452 rows x 21 columns]"
      ]
     },
     "execution_count": 18,
     "metadata": {},
     "output_type": "execute_result"
    }
   ],
   "source": [
    "df[(df['sqft_basement'] == '?')]"
   ]
  },
  {
   "cell_type": "code",
   "execution_count": 19,
   "metadata": {},
   "outputs": [
    {
     "data": {
      "text/plain": [
       "0.0       0.594316\n",
       "?         0.020990\n",
       "600.0     0.010031\n",
       "500.0     0.009706\n",
       "700.0     0.009613\n",
       "            ...   \n",
       "784.0     0.000046\n",
       "2130.0    0.000046\n",
       "65.0      0.000046\n",
       "1248.0    0.000046\n",
       "2050.0    0.000046\n",
       "Name: sqft_basement, Length: 302, dtype: float64"
      ]
     },
     "execution_count": 19,
     "metadata": {},
     "output_type": "execute_result"
    }
   ],
   "source": [
    "df['sqft_basement'].value_counts(normalize=True)"
   ]
  },
  {
   "cell_type": "markdown",
   "metadata": {},
   "source": [
    "454 rows have the value \"?\", which makes it impossible to convert to a float\n",
    "- Based on the relevance of basements being used as living space for the target demographic, I will not drop this data\n",
    "- I am going to continue by filling '?' with values with respect to the distribution of exisitng values "
   ]
  },
  {
   "cell_type": "code",
   "execution_count": 20,
   "metadata": {},
   "outputs": [],
   "source": [
    "# replacing all '?' values with NaN to make replacing easier\n",
    "df['sqft_basement'].replace(to_replace = '?', value=np.NaN, inplace=True)\n",
    "\n",
    "basement_dist = df['sqft_basement'].value_counts(normalize=True)\n",
    "basement_na = df['sqft_basement'].isna()\n",
    "\n",
    "df.loc[basement_na,'sqft_basement'] = np.random.choice(basement_dist.index, size=len(df[basement_na]), p=basement_dist.values)"
   ]
  },
  {
   "cell_type": "code",
   "execution_count": 21,
   "metadata": {},
   "outputs": [],
   "source": [
    "# no null values\n",
    "# df['sqft_basement'].isna().value_counts()\n"
   ]
  },
  {
   "cell_type": "code",
   "execution_count": 22,
   "metadata": {},
   "outputs": [],
   "source": [
    "#checking new distribution\n",
    "#df['sqft_basement'].value_counts(normalize=True)"
   ]
  },
  {
   "cell_type": "code",
   "execution_count": 23,
   "metadata": {},
   "outputs": [],
   "source": [
    "df['sqft_basement'] = df['sqft_basement'].astype('float64')"
   ]
  },
  {
   "cell_type": "markdown",
   "metadata": {},
   "source": [
    "### Dealing with Duplicates"
   ]
  },
  {
   "cell_type": "markdown",
   "metadata": {},
   "source": [
    "Because each house has a unique id ('id'), any duplicates will make analysis more difficult"
   ]
  },
  {
   "cell_type": "code",
   "execution_count": 24,
   "metadata": {},
   "outputs": [],
   "source": [
    "df.drop_duplicates('id', keep='last', inplace=True)"
   ]
  },
  {
   "cell_type": "code",
   "execution_count": 25,
   "metadata": {},
   "outputs": [],
   "source": [
    "# checking \n",
    "#print(df.info())\n",
    "# len(df['id'].unique())"
   ]
  },
  {
   "cell_type": "markdown",
   "metadata": {},
   "source": [
    "While I assume the repeated id's are from houses being sold more than once, I do not believe this will be a feature that I will be investigating, so I am keeping the most recent sale of each duplicated house"
   ]
  },
  {
   "cell_type": "markdown",
   "metadata": {},
   "source": [
    "### Creating lot15/living15 Comparison Columns"
   ]
  },
  {
   "cell_type": "markdown",
   "metadata": {},
   "source": [
    "I think it will be helpful to better understand how a property's living/lot space relative to their 15 neighbor's spaces will affect price"
   ]
  },
  {
   "cell_type": "code",
   "execution_count": 26,
   "metadata": {},
   "outputs": [],
   "source": [
    "df['rel_lot'] = df['sqft_lot'] - df['sqft_lot15']\n",
    "df['rel_living'] = df['sqft_living'] - df['sqft_living15']"
   ]
  },
  {
   "cell_type": "code",
   "execution_count": 27,
   "metadata": {},
   "outputs": [
    {
     "data": {
      "text/plain": [
       "<AxesSubplot:xlabel='rel_lot', ylabel='price'>"
      ]
     },
     "execution_count": 27,
     "metadata": {},
     "output_type": "execute_result"
    },
    {
     "data": {
      "image/png": "[encoded data removed]",
      "text/plain": [
       "<Figure size 432x288 with 1 Axes>"
      ]
     },
     "metadata": {
      "needs_background": "light"
     },
     "output_type": "display_data"
    }
   ],
   "source": [
    "sns.scatterplot(x= 'rel_lot', y='price', data= df)"
   ]
  },
  {
   "cell_type": "markdown",
   "metadata": {},
   "source": [
    "It would appear that the relative lot space does not any sort of linear relationship with price\n",
    "- there are a seemingly equal ammount of houses that have negligible (close to 0) differences in lot sqftage that are valued from very low to very high ranges"
   ]
  },
  {
   "cell_type": "code",
   "execution_count": 28,
   "metadata": {},
   "outputs": [
    {
     "data": {
      "text/plain": [
       "<AxesSubplot:xlabel='rel_living', ylabel='price'>"
      ]
     },
     "execution_count": 28,
     "metadata": {},
     "output_type": "execute_result"
    },
    {
     "data": {
      "image/png": "[encoded data removed]",
      "text/plain": [
       "<Figure size 432x288 with 1 Axes>"
      ]
     },
     "metadata": {
      "needs_background": "light"
     },
     "output_type": "display_data"
    }
   ],
   "source": [
    "sns.scatterplot(x= 'rel_living', y='price', data= df)"
   ]
  },
  {
   "cell_type": "markdown",
   "metadata": {},
   "source": [
    "It would appear that the relative living space has a negative linear relationship with price"
   ]
  },
  {
   "cell_type": "markdown",
   "metadata": {},
   "source": [
    "### Checking Multicullinearity "
   ]
  },
  {
   "cell_type": "code",
   "execution_count": 29,
   "metadata": {},
   "outputs": [
    {
     "data": {
      "text/plain": [
       "<AxesSubplot:>"
      ]
     },
     "execution_count": 29,
     "metadata": {},
     "output_type": "execute_result"
    },
    {
     "data": {
      "image/png": "[encoded data removed]",
      "text/plain": [
       "<Figure size 1296x720 with 2 Axes>"
      ]
     },
     "metadata": {
      "needs_background": "light"
     },
     "output_type": "display_data"
    }
   ],
   "source": [
    "plt.figure(figsize=(18,10))\n",
    "sns.heatmap(data = df.corr(), center=0, annot=True)"
   ]
  },
  {
   "cell_type": "markdown",
   "metadata": {},
   "source": [
    "**Observations**\n",
    "- The only disruptive correlations (above 0.75) are between sqft_living and sqft_above (0.86)\n",
    "    - I will be dropping sqft_above, considering sqft_living already takes the upstairs living space into account\n",
    "- This confirms that rel_lot does not have a correlation with price\n",
    "    - however, rel_living might be useful for the model "
   ]
  },
  {
   "cell_type": "code",
   "execution_count": 30,
   "metadata": {},
   "outputs": [],
   "source": [
    "df.drop('sqft_above', axis=1, inplace=True)\n",
    "df.drop('rel_lot', axis=1, inplace=True)\n",
    "df.drop('date', axis=1, inplace=True)"
   ]
  },
  {
   "cell_type": "markdown",
   "metadata": {},
   "source": [
    "# Explore "
   ]
  },
  {
   "cell_type": "code",
   "execution_count": 31,
   "metadata": {},
   "outputs": [
    {
     "data": {
      "text/plain": [
       "<seaborn.axisgrid.JointGrid at 0x129efbc40>"
      ]
     },
     "execution_count": 31,
     "metadata": {},
     "output_type": "execute_result"
    },
    {
     "data": {
      "image/png": "[encoded data removed]",
      "text/plain": [
       "<Figure size 432x432 with 3 Axes>"
      ]
     },
     "metadata": {
      "needs_background": "light"
     },
     "output_type": "display_data"
    }
   ],
   "source": [
    "sns.jointplot(x='bedrooms', y='price', data=df, kind='reg')"
   ]
  },
  {
   "cell_type": "markdown",
   "metadata": {},
   "source": [
    "I will need to investigate / remove the datapoint that has over 30 bedrooms"
   ]
  },
  {
   "cell_type": "code",
   "execution_count": 32,
   "metadata": {},
   "outputs": [
    {
     "data": {
      "text/html": [
       "<div>\n",
       "<style scoped>\n",
       "    .dataframe tbody tr th:only-of-type {\n",
       "        vertical-align: middle;\n",
       "    }\n",
       "\n",
       "    .dataframe tbody tr th {\n",
       "        vertical-align: top;\n",
       "    }\n",
       "\n",
       "    .dataframe thead th {\n",
       "        text-align: right;\n",
       "    }\n",
       "</style>\n",
       "<table border=\"1\" class=\"dataframe\">\n",
       "  <thead>\n",
       "    <tr style=\"text-align: right;\">\n",
       "      <th></th>\n",
       "      <th>id</th>\n",
       "      <th>price</th>\n",
       "      <th>bedrooms</th>\n",
       "      <th>bathrooms</th>\n",
       "      <th>sqft_living</th>\n",
       "      <th>sqft_lot</th>\n",
       "      <th>floors</th>\n",
       "      <th>waterfront</th>\n",
       "      <th>view</th>\n",
       "      <th>condition</th>\n",
       "      <th>grade</th>\n",
       "      <th>sqft_basement</th>\n",
       "      <th>yr_built</th>\n",
       "      <th>yr_renovated</th>\n",
       "      <th>zipcode</th>\n",
       "      <th>lat</th>\n",
       "      <th>long</th>\n",
       "      <th>sqft_living15</th>\n",
       "      <th>sqft_lot15</th>\n",
       "      <th>rel_living</th>\n",
       "    </tr>\n",
       "  </thead>\n",
       "  <tbody>\n",
       "    <tr>\n",
       "      <th>15856</th>\n",
       "      <td>2402100895</td>\n",
       "      <td>640000.0</td>\n",
       "      <td>33</td>\n",
       "      <td>1.75</td>\n",
       "      <td>1620</td>\n",
       "      <td>6000</td>\n",
       "      <td>1.0</td>\n",
       "      <td>0.0</td>\n",
       "      <td>0.0</td>\n",
       "      <td>5</td>\n",
       "      <td>7</td>\n",
       "      <td>580.0</td>\n",
       "      <td>1947</td>\n",
       "      <td>0.0</td>\n",
       "      <td>98103</td>\n",
       "      <td>47.6878</td>\n",
       "      <td>-122.331</td>\n",
       "      <td>1330</td>\n",
       "      <td>4700</td>\n",
       "      <td>290</td>\n",
       "    </tr>\n",
       "  </tbody>\n",
       "</table>\n",
       "</div>"
      ],
      "text/plain": [
       "               id     price  bedrooms  bathrooms  sqft_living  sqft_lot  \\\n",
       "15856  2402100895  640000.0        33       1.75         1620      6000   \n",
       "\n",
       "       floors  waterfront  view  condition  grade  sqft_basement  yr_built  \\\n",
       "15856     1.0         0.0   0.0          5      7          580.0      1947   \n",
       "\n",
       "       yr_renovated  zipcode      lat     long  sqft_living15  sqft_lot15  \\\n",
       "15856           0.0    98103  47.6878 -122.331           1330        4700   \n",
       "\n",
       "       rel_living  \n",
       "15856         290  "
      ]
     },
     "execution_count": 32,
     "metadata": {},
     "output_type": "execute_result"
    }
   ],
   "source": [
    "df[(df['bedrooms'] > 30)]"
   ]
  },
  {
   "cell_type": "markdown",
   "metadata": {},
   "source": [
    "33 bedrooms with onlh 1620 sqft living space\n",
    "- I am going to delete this datapoint"
   ]
  },
  {
   "cell_type": "code",
   "execution_count": 33,
   "metadata": {},
   "outputs": [],
   "source": [
    "indexname = df[(df['bedrooms'] > 30)].index\n",
    "df.drop(indexname, inplace=True)"
   ]
  },
  {
   "cell_type": "code",
   "execution_count": 34,
   "metadata": {},
   "outputs": [
    {
     "data": {
      "text/plain": [
       "<seaborn.axisgrid.JointGrid at 0x129efb190>"
      ]
     },
     "execution_count": 34,
     "metadata": {},
     "output_type": "execute_result"
    },
    {
     "data": {
      "image/png": "[encoded data removed]",
      "text/plain": [
       "<Figure size 432x432 with 3 Axes>"
      ]
     },
     "metadata": {
      "needs_background": "light"
     },
     "output_type": "display_data"
    }
   ],
   "source": [
    "sns.jointplot(x='bedrooms', y='price', data=df, kind='reg')\n"
   ]
  },
  {
   "cell_type": "markdown",
   "metadata": {},
   "source": [
    "11 bedrooms still seems unusual... but I will keep for now"
   ]
  },
  {
   "cell_type": "code",
   "execution_count": 35,
   "metadata": {},
   "outputs": [
    {
     "data": {
      "text/plain": [
       "<seaborn.axisgrid.JointGrid at 0x12a566df0>"
      ]
     },
     "execution_count": 35,
     "metadata": {},
     "output_type": "execute_result"
    },
    {
     "data": {
      "image/png": "[encoded data removed]",
      "text/plain": [
       "<Figure size 432x432 with 3 Axes>"
      ]
     },
     "metadata": {
      "needs_background": "light"
     },
     "output_type": "display_data"
    }
   ],
   "source": [
    "sns.jointplot(x='bathrooms', y='price', data=df, kind='reg')"
   ]
  },
  {
   "cell_type": "code",
   "execution_count": 36,
   "metadata": {},
   "outputs": [
    {
     "data": {
      "text/plain": [
       "<seaborn.axisgrid.JointGrid at 0x146187580>"
      ]
     },
     "execution_count": 36,
     "metadata": {},
     "output_type": "execute_result"
    },
    {
     "data": {
      "image/png": "[encoded data removed]",
      "text/plain": [
       "<Figure size 432x432 with 3 Axes>"
      ]
     },
     "metadata": {
      "needs_background": "light"
     },
     "output_type": "display_data"
    }
   ],
   "source": [
    "sns.jointplot(x='sqft_living', y='price', data=df, kind='reg')"
   ]
  },
  {
   "cell_type": "code",
   "execution_count": 37,
   "metadata": {},
   "outputs": [
    {
     "data": {
      "text/plain": [
       "<seaborn.axisgrid.JointGrid at 0x1463f62b0>"
      ]
     },
     "execution_count": 37,
     "metadata": {},
     "output_type": "execute_result"
    },
    {
     "data": {
      "image/png": "[encoded data removed]",
      "text/plain": [
       "<Figure size 432x432 with 3 Axes>"
      ]
     },
     "metadata": {
      "needs_background": "light"
     },
     "output_type": "display_data"
    }
   ],
   "source": [
    "sns.jointplot(x='grade', y='price', data=df, kind='reg')"
   ]
  },
  {
   "cell_type": "code",
   "execution_count": 38,
   "metadata": {},
   "outputs": [
    {
     "data": {
      "text/plain": [
       "7     8862\n",
       "8     6029\n",
       "9     2595\n",
       "6     1988\n",
       "10    1126\n",
       "11     394\n",
       "5      234\n",
       "12      87\n",
       "4       27\n",
       "13      13\n",
       "3        1\n",
       "Name: grade, dtype: int64"
      ]
     },
     "execution_count": 38,
     "metadata": {},
     "output_type": "execute_result"
    }
   ],
   "source": [
    "df['grade'].value_counts()"
   ]
  },
  {
   "cell_type": "markdown",
   "metadata": {},
   "source": [
    "There are very few datapoints for grades 3 and 13, it will probably be beneficial to remove these after the baseline "
   ]
  },
  {
   "cell_type": "code",
   "execution_count": 39,
   "metadata": {},
   "outputs": [
    {
     "data": {
      "text/plain": [
       "<seaborn.axisgrid.JointGrid at 0x1474032b0>"
      ]
     },
     "execution_count": 39,
     "metadata": {},
     "output_type": "execute_result"
    },
    {
     "data": {
      "image/png": "[encoded data removed]",
      "text/plain": [
       "<Figure size 432x432 with 3 Axes>"
      ]
     },
     "metadata": {
      "needs_background": "light"
     },
     "output_type": "display_data"
    }
   ],
   "source": [
    "sns.jointplot(x='sqft_living15', y='price', data=df, kind='reg')"
   ]
  },
  {
   "cell_type": "code",
   "execution_count": 40,
   "metadata": {},
   "outputs": [
    {
     "data": {
      "text/plain": [
       "<seaborn.axisgrid.JointGrid at 0x147c70df0>"
      ]
     },
     "execution_count": 40,
     "metadata": {},
     "output_type": "execute_result"
    },
    {
     "data": {
      "image/png": "[encoded data removed]",
      "text/plain": [
       "<Figure size 432x432 with 3 Axes>"
      ]
     },
     "metadata": {
      "needs_background": "light"
     },
     "output_type": "display_data"
    }
   ],
   "source": [
    "sns.jointplot(x='rel_living', y='price', data=df, kind='reg')"
   ]
  },
  {
   "cell_type": "markdown",
   "metadata": {},
   "source": [
    "It would appear that as rel_living increases (as the difference between the living space of a property and the average of the the nearest 15 neighbors' living spaces increases) price also increases\n",
    "- This may offer a better way of understanding the coefficients for sqft_living15"
   ]
  },
  {
   "cell_type": "markdown",
   "metadata": {},
   "source": [
    "### Baseline Model"
   ]
  },
  {
   "cell_type": "code",
   "execution_count": 41,
   "metadata": {},
   "outputs": [
    {
     "data": {
      "text/html": [
       "<table class=\"simpletable\">\n",
       "<caption>OLS Regression Results</caption>\n",
       "<tr>\n",
       "  <th>Dep. Variable:</th>          <td>price</td>      <th>  R-squared:         </th>  <td>   0.698</td>  \n",
       "</tr>\n",
       "<tr>\n",
       "  <th>Model:</th>                   <td>OLS</td>       <th>  Adj. R-squared:    </th>  <td>   0.698</td>  \n",
       "</tr>\n",
       "<tr>\n",
       "  <th>Method:</th>             <td>Least Squares</td>  <th>  F-statistic:       </th>  <td>   2744.</td>  \n",
       "</tr>\n",
       "<tr>\n",
       "  <th>Date:</th>             <td>Fri, 04 Jun 2021</td> <th>  Prob (F-statistic):</th>   <td>  0.00</td>   \n",
       "</tr>\n",
       "<tr>\n",
       "  <th>Time:</th>                 <td>11:32:38</td>     <th>  Log-Likelihood:    </th> <td>-2.9110e+05</td>\n",
       "</tr>\n",
       "<tr>\n",
       "  <th>No. Observations:</th>      <td> 21356</td>      <th>  AIC:               </th>  <td>5.822e+05</td> \n",
       "</tr>\n",
       "<tr>\n",
       "  <th>Df Residuals:</th>          <td> 21337</td>      <th>  BIC:               </th>  <td>5.824e+05</td> \n",
       "</tr>\n",
       "<tr>\n",
       "  <th>Df Model:</th>              <td>    18</td>      <th>                     </th>      <td> </td>     \n",
       "</tr>\n",
       "<tr>\n",
       "  <th>Covariance Type:</th>      <td>nonrobust</td>    <th>                     </th>      <td> </td>     \n",
       "</tr>\n",
       "</table>\n",
       "<table class=\"simpletable\">\n",
       "<tr>\n",
       "        <td></td>           <th>coef</th>     <th>std err</th>      <th>t</th>      <th>P>|t|</th>  <th>[0.025</th>    <th>0.975]</th>  \n",
       "</tr>\n",
       "<tr>\n",
       "  <th>Intercept</th>     <td> 8.693e+06</td> <td> 2.95e+06</td> <td>    2.951</td> <td> 0.003</td> <td> 2.92e+06</td> <td> 1.45e+07</td>\n",
       "</tr>\n",
       "<tr>\n",
       "  <th>id</th>            <td>-1.485e-06</td> <td> 4.85e-07</td> <td>   -3.060</td> <td> 0.002</td> <td>-2.44e-06</td> <td>-5.34e-07</td>\n",
       "</tr>\n",
       "<tr>\n",
       "  <th>bedrooms</th>      <td>-3.991e+04</td> <td> 1994.819</td> <td>  -20.006</td> <td> 0.000</td> <td>-4.38e+04</td> <td> -3.6e+04</td>\n",
       "</tr>\n",
       "<tr>\n",
       "  <th>bathrooms</th>     <td> 4.262e+04</td> <td> 3279.295</td> <td>   12.997</td> <td> 0.000</td> <td> 3.62e+04</td> <td>  4.9e+04</td>\n",
       "</tr>\n",
       "<tr>\n",
       "  <th>sqft_living</th>   <td>  127.4787</td> <td>    2.261</td> <td>   56.372</td> <td> 0.000</td> <td>  123.046</td> <td>  131.911</td>\n",
       "</tr>\n",
       "<tr>\n",
       "  <th>sqft_lot</th>      <td>    0.1170</td> <td>    0.048</td> <td>    2.435</td> <td> 0.015</td> <td>    0.023</td> <td>    0.211</td>\n",
       "</tr>\n",
       "<tr>\n",
       "  <th>floors</th>        <td> 9593.1655</td> <td> 3585.037</td> <td>    2.676</td> <td> 0.007</td> <td> 2566.223</td> <td> 1.66e+04</td>\n",
       "</tr>\n",
       "<tr>\n",
       "  <th>waterfront</th>    <td> 5.242e+05</td> <td>  1.7e+04</td> <td>   30.905</td> <td> 0.000</td> <td> 4.91e+05</td> <td> 5.57e+05</td>\n",
       "</tr>\n",
       "<tr>\n",
       "  <th>view</th>          <td> 5.708e+04</td> <td> 2115.407</td> <td>   26.985</td> <td> 0.000</td> <td> 5.29e+04</td> <td> 6.12e+04</td>\n",
       "</tr>\n",
       "<tr>\n",
       "  <th>condition</th>     <td> 2.536e+04</td> <td> 2357.475</td> <td>   10.757</td> <td> 0.000</td> <td> 2.07e+04</td> <td>    3e+04</td>\n",
       "</tr>\n",
       "<tr>\n",
       "  <th>grade</th>         <td> 9.691e+04</td> <td> 2172.448</td> <td>   44.609</td> <td> 0.000</td> <td> 9.27e+04</td> <td> 1.01e+05</td>\n",
       "</tr>\n",
       "<tr>\n",
       "  <th>sqft_basement</th> <td>  -26.0008</td> <td>    4.295</td> <td>   -6.054</td> <td> 0.000</td> <td>  -34.420</td> <td>  -17.582</td>\n",
       "</tr>\n",
       "<tr>\n",
       "  <th>yr_built</th>      <td>-2691.9116</td> <td>   71.756</td> <td>  -37.515</td> <td> 0.000</td> <td>-2832.559</td> <td>-2551.264</td>\n",
       "</tr>\n",
       "<tr>\n",
       "  <th>yr_renovated</th>  <td>   18.1751</td> <td>    3.607</td> <td>    5.039</td> <td> 0.000</td> <td>   11.105</td> <td>   25.245</td>\n",
       "</tr>\n",
       "<tr>\n",
       "  <th>zipcode</th>       <td> -594.9968</td> <td>   33.200</td> <td>  -17.922</td> <td> 0.000</td> <td> -660.071</td> <td> -529.923</td>\n",
       "</tr>\n",
       "<tr>\n",
       "  <th>lat</th>           <td>  5.96e+05</td> <td> 1.08e+04</td> <td>   55.264</td> <td> 0.000</td> <td> 5.75e+05</td> <td> 6.17e+05</td>\n",
       "</tr>\n",
       "<tr>\n",
       "  <th>long</th>          <td>-2.123e+05</td> <td> 1.32e+04</td> <td>  -16.058</td> <td> 0.000</td> <td>-2.38e+05</td> <td>-1.86e+05</td>\n",
       "</tr>\n",
       "<tr>\n",
       "  <th>sqft_living15</th> <td>   74.1916</td> <td>    2.142</td> <td>   34.643</td> <td> 0.000</td> <td>   69.994</td> <td>   78.389</td>\n",
       "</tr>\n",
       "<tr>\n",
       "  <th>sqft_lot15</th>    <td>   -0.4125</td> <td>    0.074</td> <td>   -5.602</td> <td> 0.000</td> <td>   -0.557</td> <td>   -0.268</td>\n",
       "</tr>\n",
       "<tr>\n",
       "  <th>rel_living</th>    <td>   53.2933</td> <td>    1.988</td> <td>   26.808</td> <td> 0.000</td> <td>   49.397</td> <td>   57.190</td>\n",
       "</tr>\n",
       "</table>\n",
       "<table class=\"simpletable\">\n",
       "<tr>\n",
       "  <th>Omnibus:</th>       <td>18023.686</td> <th>  Durbin-Watson:     </th>  <td>   1.996</td>  \n",
       "</tr>\n",
       "<tr>\n",
       "  <th>Prob(Omnibus):</th>  <td> 0.000</td>   <th>  Jarque-Bera (JB):  </th> <td>1783727.907</td>\n",
       "</tr>\n",
       "<tr>\n",
       "  <th>Skew:</th>           <td> 3.528</td>   <th>  Prob(JB):          </th>  <td>    0.00</td>  \n",
       "</tr>\n",
       "<tr>\n",
       "  <th>Kurtosis:</th>       <td>47.213</td>   <th>  Cond. No.          </th>  <td>1.62e+22</td>  \n",
       "</tr>\n",
       "</table><br/><br/>Notes:<br/>[1] Standard Errors assume that the covariance matrix of the errors is correctly specified.<br/>[2] The smallest eigenvalue is 2.39e-21. This might indicate that there are<br/>strong multicollinearity problems or that the design matrix is singular."
      ],
      "text/plain": [
       "<class 'statsmodels.iolib.summary.Summary'>\n",
       "\"\"\"\n",
       "                            OLS Regression Results                            \n",
       "==============================================================================\n",
       "Dep. Variable:                  price   R-squared:                       0.698\n",
       "Model:                            OLS   Adj. R-squared:                  0.698\n",
       "Method:                 Least Squares   F-statistic:                     2744.\n",
       "Date:                Fri, 04 Jun 2021   Prob (F-statistic):               0.00\n",
       "Time:                        11:32:38   Log-Likelihood:            -2.9110e+05\n",
       "No. Observations:               21356   AIC:                         5.822e+05\n",
       "Df Residuals:                   21337   BIC:                         5.824e+05\n",
       "Df Model:                          18                                         \n",
       "Covariance Type:            nonrobust                                         \n",
       "=================================================================================\n",
       "                    coef    std err          t      P>|t|      [0.025      0.975]\n",
       "---------------------------------------------------------------------------------\n",
       "Intercept      8.693e+06   2.95e+06      2.951      0.003    2.92e+06    1.45e+07\n",
       "id            -1.485e-06   4.85e-07     -3.060      0.002   -2.44e-06   -5.34e-07\n",
       "bedrooms      -3.991e+04   1994.819    -20.006      0.000   -4.38e+04    -3.6e+04\n",
       "bathrooms      4.262e+04   3279.295     12.997      0.000    3.62e+04     4.9e+04\n",
       "sqft_living     127.4787      2.261     56.372      0.000     123.046     131.911\n",
       "sqft_lot          0.1170      0.048      2.435      0.015       0.023       0.211\n",
       "floors         9593.1655   3585.037      2.676      0.007    2566.223    1.66e+04\n",
       "waterfront     5.242e+05    1.7e+04     30.905      0.000    4.91e+05    5.57e+05\n",
       "view           5.708e+04   2115.407     26.985      0.000    5.29e+04    6.12e+04\n",
       "condition      2.536e+04   2357.475     10.757      0.000    2.07e+04       3e+04\n",
       "grade          9.691e+04   2172.448     44.609      0.000    9.27e+04    1.01e+05\n",
       "sqft_basement   -26.0008      4.295     -6.054      0.000     -34.420     -17.582\n",
       "yr_built      -2691.9116     71.756    -37.515      0.000   -2832.559   -2551.264\n",
       "yr_renovated     18.1751      3.607      5.039      0.000      11.105      25.245\n",
       "zipcode        -594.9968     33.200    -17.922      0.000    -660.071    -529.923\n",
       "lat             5.96e+05   1.08e+04     55.264      0.000    5.75e+05    6.17e+05\n",
       "long          -2.123e+05   1.32e+04    -16.058      0.000   -2.38e+05   -1.86e+05\n",
       "sqft_living15    74.1916      2.142     34.643      0.000      69.994      78.389\n",
       "sqft_lot15       -0.4125      0.074     -5.602      0.000      -0.557      -0.268\n",
       "rel_living       53.2933      1.988     26.808      0.000      49.397      57.190\n",
       "==============================================================================\n",
       "Omnibus:                    18023.686   Durbin-Watson:                   1.996\n",
       "Prob(Omnibus):                  0.000   Jarque-Bera (JB):          1783727.907\n",
       "Skew:                           3.528   Prob(JB):                         0.00\n",
       "Kurtosis:                      47.213   Cond. No.                     1.62e+22\n",
       "==============================================================================\n",
       "\n",
       "Notes:\n",
       "[1] Standard Errors assume that the covariance matrix of the errors is correctly specified.\n",
       "[2] The smallest eigenvalue is 2.39e-21. This might indicate that there are\n",
       "strong multicollinearity problems or that the design matrix is singular.\n",
       "\"\"\""
      ]
     },
     "execution_count": 41,
     "metadata": {},
     "output_type": "execute_result"
    }
   ],
   "source": [
    "outcome = 'price'\n",
    "predictors = df.drop('price', axis=1)\n",
    "predictor_variables = \"+\".join(predictors.columns)\n",
    "formula = outcome + '~' + predictor_variables\n",
    "model_baseline = ols(formula=formula, data=df).fit()\n",
    "model_baseline.summary()"
   ]
  },
  {
   "cell_type": "markdown",
   "metadata": {},
   "source": [
    "**Interpretation**\n",
    "- Baseline model seems to be moderately good at explaining variations in price \n",
    "- All variables seem to be be well below a = 0.05\n",
    "- rel_living coeff = 53.1597\n",
    "    - for every 1 additional sqft the property has above sqft_living15, price increases 53.16\n",
    "- Negative coefficients:\n",
    "    - bedrooms\n",
    "        - For 1 addition bedroom price drops approx 36,500\n",
    "        - this is counterintuitive... hopefully it will change as optimization occurs\n",
    "    - sqft_basement\n",
    "        - For 1 addition sqft of basement price drops approx 26\n",
    "        - this is also counterintuitive \n",
    "    - yr_built\n",
    "        - I can understand this being negative, if older houses being sold are larger / historical\n",
    "    - sqft_lot15\n",
    "        - very small negative coefficient\n"
   ]
  },
  {
   "cell_type": "markdown",
   "metadata": {},
   "source": [
    "**Features to Drop**\n",
    "- id (does not provide relevant information pertaining to price)"
   ]
  },
  {
   "cell_type": "markdown",
   "metadata": {},
   "source": [
    "#### Baseline  Test"
   ]
  },
  {
   "cell_type": "code",
   "execution_count": 42,
   "metadata": {},
   "outputs": [],
   "source": [
    "X = df.drop(\"price\", axis = 1)\n",
    "y = df['price']\n",
    "\n",
    "X_train, X_test, y_train, y_test = train_test_split(X, y, test_size = 0.25, random_state = 25)\n",
    "\n",
    "\n"
   ]
  },
  {
   "cell_type": "code",
   "execution_count": 43,
   "metadata": {},
   "outputs": [],
   "source": [
    "baseline_linreg = LinearRegression()\n",
    "\n",
    "baseline_linreg.fit(X_train, y_train)\n",
    "\n",
    "y_pred = baseline_linreg.predict(X_test)\n",
    "\n",
    "residuals = y_pred - y_test"
   ]
  },
  {
   "cell_type": "code",
   "execution_count": 44,
   "metadata": {},
   "outputs": [
    {
     "data": {
      "text/plain": [
       "array([-1.79312334e-06, -3.80866174e+04,  3.91849492e+04,  1.24755274e+02,\n",
       "        1.92241525e-01,  1.08106795e+04,  5.73933103e+05,  5.43311361e+04,\n",
       "        2.37232813e+04,  9.87963089e+04, -2.58208847e+01, -2.66914515e+03,\n",
       "        1.81255597e+01, -5.85374420e+02,  6.03639641e+05, -2.03802854e+05,\n",
       "        7.45256623e+01, -4.13819534e-01,  5.02296119e+01])"
      ]
     },
     "execution_count": 44,
     "metadata": {},
     "output_type": "execute_result"
    }
   ],
   "source": [
    "baseline_linreg.coef_"
   ]
  },
  {
   "cell_type": "code",
   "execution_count": 45,
   "metadata": {},
   "outputs": [
    {
     "name": "stdout",
     "output_type": "stream",
     "text": [
      "Train RMSE: 197732.33732358497\n",
      "Test RMSE: 211487.20275253616\n",
      "Test Difference: 13754.86542895119\n"
     ]
    },
    {
     "data": {
      "image/png": "[encoded data removed]",
      "text/plain": [
       "<Figure size 432x288 with 1 Axes>"
      ]
     },
     "metadata": {
      "needs_background": "light"
     },
     "output_type": "display_data"
    }
   ],
   "source": [
    "mse_train = mean_squared_error(y_train, baseline_linreg.predict(X_train))\n",
    "mse_test = mean_squared_error(y_test, y_pred)\n",
    "\n",
    "residuals = model_baseline.resid\n",
    "fig = sm.graphics.qqplot(residuals, dist=stats.norm, line='45', fit=True)\n",
    "\n",
    "print(\"Train RMSE:\", np.sqrt(mse_train))\n",
    "print(\"Test RMSE:\", np.sqrt(mse_test))\n",
    "print('Test Difference:', np.sqrt(mse_test) - np.sqrt(mse_train))\n",
    "fig.show()"
   ]
  },
  {
   "cell_type": "markdown",
   "metadata": {},
   "source": [
    "**Interpretation**\n",
    "- Based on the QQ Plot the residuals do not follow a normal distribution\n",
    "- I will be applying the assumptions based on the business problem to deal with extreme values / outliers "
   ]
  },
  {
   "cell_type": "markdown",
   "metadata": {},
   "source": [
    "# Adding Corresponding Cities to Zipcodes"
   ]
  },
  {
   "cell_type": "markdown",
   "metadata": {},
   "source": [
    "Right now it will be much too difficult to have any meaningful geographical insights using zipcodes, lat, or long \n",
    "- 70 zipcodes is too much to include in the model\n",
    "- long and lat is too vague"
   ]
  },
  {
   "cell_type": "markdown",
   "metadata": {},
   "source": [
    "Using the 'All Zipcodes and PO Box as Centroids for King County / zipcode all point'.csv file (source below), I will be able to create a new column that will assign a corresponding city based on the zip code, greatly reducing the geogrpahical features in my model"
   ]
  },
  {
   "cell_type": "markdown",
   "metadata": {},
   "source": [
    "source: https://gis-kingcounty.opendata.arcgis.com/datasets/kingcounty::all-zipcodes-and-po-box-as-centroids-for-king-county-zipcode-all-point/about"
   ]
  },
  {
   "cell_type": "markdown",
   "metadata": {},
   "source": [
    "### Initial Cleaning"
   ]
  },
  {
   "cell_type": "code",
   "execution_count": 46,
   "metadata": {},
   "outputs": [],
   "source": [
    "kc_zip = pd.read_csv('data/kc_zip.csv')"
   ]
  },
  {
   "cell_type": "code",
   "execution_count": 47,
   "metadata": {},
   "outputs": [
    {
     "name": "stdout",
     "output_type": "stream",
     "text": [
      "<class 'pandas.core.frame.DataFrame'>\n",
      "RangeIndex: 261 entries, 0 to 260\n",
      "Data columns (total 9 columns):\n",
      " #   Column          Non-Null Count  Dtype  \n",
      "---  ------          --------------  -----  \n",
      " 0   X               261 non-null    float64\n",
      " 1   Y               261 non-null    float64\n",
      " 2   OBJECTID        261 non-null    int64  \n",
      " 3   ZIP             261 non-null    int64  \n",
      " 4   ZIPCODE         261 non-null    int64  \n",
      " 5   COUNTY          260 non-null    float64\n",
      " 6   ZIP_TYPE        261 non-null    object \n",
      " 7   PREFERRED_CITY  261 non-null    object \n",
      " 8   FEATURE_SOURCE  261 non-null    object \n",
      "dtypes: float64(3), int64(3), object(3)\n",
      "memory usage: 18.5+ KB\n"
     ]
    }
   ],
   "source": [
    "kc_zip.info()"
   ]
  },
  {
   "cell_type": "code",
   "execution_count": 48,
   "metadata": {},
   "outputs": [],
   "source": [
    "kc_zip.drop(['X', 'Y', 'OBJECTID', 'ZIP', 'COUNTY', 'ZIP_TYPE', 'FEATURE_SOURCE'], axis=1, inplace=True )\n",
    "\n",
    "kc_zip['zipcode'] = kc_zip['ZIPCODE']\n",
    "kc_zip.drop('ZIPCODE', axis=1, inplace=True)\n",
    "\n",
    "kc_zip['city'] = kc_zip['PREFERRED_CITY']\n",
    "kc_zip.drop('PREFERRED_CITY', axis=1, inplace=True)\n",
    "\n",
    "# kc_zip"
   ]
  },
  {
   "cell_type": "code",
   "execution_count": 49,
   "metadata": {},
   "outputs": [
    {
     "data": {
      "text/html": [
       "<div>\n",
       "<style scoped>\n",
       "    .dataframe tbody tr th:only-of-type {\n",
       "        vertical-align: middle;\n",
       "    }\n",
       "\n",
       "    .dataframe tbody tr th {\n",
       "        vertical-align: top;\n",
       "    }\n",
       "\n",
       "    .dataframe thead th {\n",
       "        text-align: right;\n",
       "    }\n",
       "</style>\n",
       "<table border=\"1\" class=\"dataframe\">\n",
       "  <thead>\n",
       "    <tr style=\"text-align: right;\">\n",
       "      <th></th>\n",
       "      <th>zipcode</th>\n",
       "      <th>city</th>\n",
       "    </tr>\n",
       "  </thead>\n",
       "  <tbody>\n",
       "    <tr>\n",
       "      <th>109</th>\n",
       "      <td>98075</td>\n",
       "      <td>SAMMAMIISH</td>\n",
       "    </tr>\n",
       "  </tbody>\n",
       "</table>\n",
       "</div>"
      ],
      "text/plain": [
       "     zipcode        city\n",
       "109    98075  SAMMAMIISH"
      ]
     },
     "execution_count": 49,
     "metadata": {},
     "output_type": "execute_result"
    }
   ],
   "source": [
    "kc_zip[(kc_zip['city'] == 'SAMMAMIISH')]"
   ]
  },
  {
   "cell_type": "code",
   "execution_count": 50,
   "metadata": {},
   "outputs": [],
   "source": [
    "kc_zip.replace(to_replace='SAMMAMIISH', value='SAMMAMISH', inplace=True)"
   ]
  },
  {
   "cell_type": "code",
   "execution_count": 51,
   "metadata": {},
   "outputs": [],
   "source": [
    "zip_list = df['zipcode'].unique().tolist()\n",
    "# len(zip_list)"
   ]
  },
  {
   "cell_type": "code",
   "execution_count": 52,
   "metadata": {},
   "outputs": [],
   "source": [
    "for index, contents in kc_zip.iterrows():\n",
    "    if contents['zipcode'] not in zip_list:\n",
    "        kc_zip.drop(labels=[index], inplace=True)\n",
    "        \n",
    "# kc_zip"
   ]
  },
  {
   "cell_type": "code",
   "execution_count": 53,
   "metadata": {},
   "outputs": [
    {
     "data": {
      "text/plain": [
       "4"
      ]
     },
     "execution_count": 53,
     "metadata": {},
     "output_type": "execute_result"
    }
   ],
   "source": [
    "kc_zip.duplicated().sum()"
   ]
  },
  {
   "cell_type": "code",
   "execution_count": 54,
   "metadata": {},
   "outputs": [],
   "source": [
    "kc_zip.drop_duplicates(keep='first', inplace=True)"
   ]
  },
  {
   "cell_type": "code",
   "execution_count": 55,
   "metadata": {},
   "outputs": [],
   "source": [
    "merged = pd.merge(df, kc_zip, how='left')\n",
    "\n",
    "# merged"
   ]
  },
  {
   "cell_type": "code",
   "execution_count": 56,
   "metadata": {
    "scrolled": false
   },
   "outputs": [
    {
     "data": {
      "text/plain": [
       "SEATTLE          0.414731\n",
       "RENTON           0.073797\n",
       "BELLEVUE         0.065228\n",
       "KENT             0.055722\n",
       "KIRKLAND         0.045608\n",
       "REDMOND          0.045374\n",
       "AUBURN           0.042236\n",
       "SAMMAMISH        0.037086\n",
       "FEDERAL WAY      0.035774\n",
       "ISSAQUAH         0.034089\n",
       "MAPLE VALLEY     0.027299\n",
       "WOODINVILLE      0.021821\n",
       "SNOQUALMIE       0.014235\n",
       "KENMORE          0.013158\n",
       "MERCER ISLAND    0.013064\n",
       "ENUMCLAW         0.010863\n",
       "NORTH BEND       0.010208\n",
       "BOTHELL          0.009037\n",
       "DUVALL           0.008897\n",
       "CARNATION        0.005760\n",
       "VASHON           0.005432\n",
       "BLACK DIAMOND    0.004636\n",
       "FALL CITY        0.003652\n",
       "MEDINA           0.002294\n",
       "Name: city, dtype: float64"
      ]
     },
     "execution_count": 56,
     "metadata": {},
     "output_type": "execute_result"
    }
   ],
   "source": [
    "merged['city'].value_counts(normalize=True)"
   ]
  },
  {
   "cell_type": "markdown",
   "metadata": {},
   "source": [
    "40% of properties in data set are within Seattle "
   ]
  },
  {
   "cell_type": "code",
   "execution_count": 57,
   "metadata": {},
   "outputs": [
    {
     "data": {
      "text/plain": [
       "0"
      ]
     },
     "execution_count": 57,
     "metadata": {},
     "output_type": "execute_result"
    }
   ],
   "source": [
    "merged.shape[0] - df.shape[0]"
   ]
  },
  {
   "cell_type": "code",
   "execution_count": 58,
   "metadata": {},
   "outputs": [
    {
     "data": {
      "text/plain": [
       "0"
      ]
     },
     "execution_count": 58,
     "metadata": {},
     "output_type": "execute_result"
    }
   ],
   "source": [
    "merged.duplicated().sum()"
   ]
  },
  {
   "cell_type": "code",
   "execution_count": 59,
   "metadata": {},
   "outputs": [
    {
     "data": {
      "text/plain": [
       "(21356, 21)"
      ]
     },
     "execution_count": 59,
     "metadata": {},
     "output_type": "execute_result"
    }
   ],
   "source": [
    "merged.shape"
   ]
  },
  {
   "cell_type": "code",
   "execution_count": 60,
   "metadata": {},
   "outputs": [
    {
     "data": {
      "text/plain": [
       "id               0\n",
       "price            0\n",
       "bedrooms         0\n",
       "bathrooms        0\n",
       "sqft_living      0\n",
       "sqft_lot         0\n",
       "floors           0\n",
       "waterfront       0\n",
       "view             0\n",
       "condition        0\n",
       "grade            0\n",
       "sqft_basement    0\n",
       "yr_built         0\n",
       "yr_renovated     0\n",
       "zipcode          0\n",
       "lat              0\n",
       "long             0\n",
       "sqft_living15    0\n",
       "sqft_lot15       0\n",
       "rel_living       0\n",
       "city             0\n",
       "dtype: int64"
      ]
     },
     "execution_count": 60,
     "metadata": {},
     "output_type": "execute_result"
    }
   ],
   "source": [
    "merged.isna().sum()"
   ]
  },
  {
   "cell_type": "code",
   "execution_count": 61,
   "metadata": {},
   "outputs": [],
   "source": [
    "merged['city'] = merged['city'].str.replace(' ', '_')\n",
    "\n",
    "# merged"
   ]
  },
  {
   "cell_type": "markdown",
   "metadata": {},
   "source": [
    "### Exploring Cities "
   ]
  },
  {
   "cell_type": "code",
   "execution_count": 62,
   "metadata": {},
   "outputs": [
    {
     "data": {
      "image/png": "[encoded data removed]",
      "text/plain": [
       "<Figure size 1296x720 with 1 Axes>"
      ]
     },
     "metadata": {
      "needs_background": "light"
     },
     "output_type": "display_data"
    }
   ],
   "source": [
    "fig, ax = plt.subplots(figsize=(18,10))\n",
    "sns.boxplot(ax=ax, x='city', y = 'price', data= merged)\n",
    "ax.set_xticklabels(ax.get_xticklabels(), rotation=40, ha='right');"
   ]
  },
  {
   "cell_type": "markdown",
   "metadata": {},
   "source": [
    "- A lot of outliers\n",
    "- I think it will be beneficial exploring the behavior of my model by removing more outliers \n",
    "- I think I will create another model with all categories including cities to see how they change relationships of other features "
   ]
  },
  {
   "cell_type": "code",
   "execution_count": 63,
   "metadata": {
    "scrolled": true
   },
   "outputs": [
    {
     "data": {
      "image/png": "[encoded data removed]",
      "text/plain": [
       "<Figure size 1296x720 with 1 Axes>"
      ]
     },
     "metadata": {
      "needs_background": "light"
     },
     "output_type": "display_data"
    }
   ],
   "source": [
    "fig, ax = plt.subplots(figsize=(18,10))\n",
    "sns.barplot(ax=ax, x='city', y = 'price', data= merged.groupby('city').median().reset_index().sort_values(by='price', ascending=False))\n",
    "ax.set_xticklabels(ax.get_xticklabels(), rotation=40, ha='right');"
   ]
  },
  {
   "cell_type": "markdown",
   "metadata": {},
   "source": [
    "The top 3 most expensive cities to live in are Medina, Mercer Island, and Bellevue\n",
    "- all of which are neighboring eachother \n",
    "- all of which are touching Lake Washington "
   ]
  },
  {
   "cell_type": "code",
   "execution_count": 64,
   "metadata": {},
   "outputs": [
    {
     "data": {
      "text/plain": [
       "city\n",
       "AUBURN            0.0\n",
       "BELLEVUE         14.0\n",
       "BLACK_DIAMOND     0.0\n",
       "BOTHELL           0.0\n",
       "CARNATION         1.0\n",
       "DUVALL            0.0\n",
       "ENUMCLAW          0.0\n",
       "FALL_CITY         0.0\n",
       "FEDERAL_WAY       3.0\n",
       "ISSAQUAH          2.0\n",
       "KENMORE           1.0\n",
       "KENT              0.0\n",
       "KIRKLAND         11.0\n",
       "MAPLE_VALLEY      1.0\n",
       "MEDINA            2.0\n",
       "MERCER_ISLAND    10.0\n",
       "NORTH_BEND        0.0\n",
       "REDMOND           4.0\n",
       "RENTON            4.0\n",
       "SAMMAMISH        16.0\n",
       "SEATTLE          73.0\n",
       "SNOQUALMIE        0.0\n",
       "VASHON           20.0\n",
       "WOODINVILLE       2.0\n",
       "Name: waterfront, dtype: float64"
      ]
     },
     "execution_count": 64,
     "metadata": {},
     "output_type": "execute_result"
    }
   ],
   "source": [
    "merged.groupby('city')['waterfront'].sum()"
   ]
  },
  {
   "cell_type": "markdown",
   "metadata": {},
   "source": [
    "- Despite bordering Lake Washington, Medina (the most expensive city) only has one property listed as waterfront \n",
    "- Seattle has the most waterfront properties, but also contains nearly half of all the properties within the dataset"
   ]
  },
  {
   "cell_type": "code",
   "execution_count": 65,
   "metadata": {},
   "outputs": [
    {
     "data": {
      "text/plain": [
       "SEATTLE          8857\n",
       "RENTON           1576\n",
       "BELLEVUE         1393\n",
       "KENT             1190\n",
       "KIRKLAND          974\n",
       "REDMOND           969\n",
       "AUBURN            902\n",
       "SAMMAMISH         792\n",
       "FEDERAL_WAY       764\n",
       "ISSAQUAH          728\n",
       "MAPLE_VALLEY      583\n",
       "WOODINVILLE       466\n",
       "SNOQUALMIE        304\n",
       "KENMORE           281\n",
       "MERCER_ISLAND     279\n",
       "ENUMCLAW          232\n",
       "NORTH_BEND        218\n",
       "BOTHELL           193\n",
       "DUVALL            190\n",
       "CARNATION         123\n",
       "VASHON            116\n",
       "BLACK_DIAMOND      99\n",
       "FALL_CITY          78\n",
       "MEDINA             49\n",
       "Name: city, dtype: int64"
      ]
     },
     "execution_count": 65,
     "metadata": {},
     "output_type": "execute_result"
    }
   ],
   "source": [
    "merged['city'].value_counts()"
   ]
  },
  {
   "cell_type": "markdown",
   "metadata": {},
   "source": [
    "All cities have ample enough datapoints that will be sufficient for modeling"
   ]
  },
  {
   "cell_type": "code",
   "execution_count": 66,
   "metadata": {
    "scrolled": false
   },
   "outputs": [
    {
     "data": {
      "text/plain": [
       "SEATTLE          0.414731\n",
       "RENTON           0.073797\n",
       "BELLEVUE         0.065228\n",
       "KENT             0.055722\n",
       "KIRKLAND         0.045608\n",
       "REDMOND          0.045374\n",
       "AUBURN           0.042236\n",
       "SAMMAMISH        0.037086\n",
       "FEDERAL_WAY      0.035774\n",
       "ISSAQUAH         0.034089\n",
       "MAPLE_VALLEY     0.027299\n",
       "WOODINVILLE      0.021821\n",
       "SNOQUALMIE       0.014235\n",
       "KENMORE          0.013158\n",
       "MERCER_ISLAND    0.013064\n",
       "ENUMCLAW         0.010863\n",
       "NORTH_BEND       0.010208\n",
       "BOTHELL          0.009037\n",
       "DUVALL           0.008897\n",
       "CARNATION        0.005760\n",
       "VASHON           0.005432\n",
       "BLACK_DIAMOND    0.004636\n",
       "FALL_CITY        0.003652\n",
       "MEDINA           0.002294\n",
       "Name: city, dtype: float64"
      ]
     },
     "execution_count": 66,
     "metadata": {},
     "output_type": "execute_result"
    }
   ],
   "source": [
    "merged['city'].value_counts(normalize=True)"
   ]
  },
  {
   "cell_type": "markdown",
   "metadata": {},
   "source": [
    "40% of properties in data set are within Seattle "
   ]
  },
  {
   "cell_type": "markdown",
   "metadata": {},
   "source": [
    "# Creating Summary / Split Test Functions"
   ]
  },
  {
   "cell_type": "markdown",
   "metadata": {},
   "source": [
    "Creating summary and tt_split functions to save myself tedious / repetitive coding"
   ]
  },
  {
   "cell_type": "code",
   "execution_count": 67,
   "metadata": {},
   "outputs": [],
   "source": [
    "def summary(df, preds): # predictors must be str\n",
    "    outcome = 'price'\n",
    "    predictors = preds\n",
    "    predictor_variables = \"+\".join(predictors.columns)\n",
    "    formula = outcome + '~' + predictor_variables\n",
    "    global model \n",
    "    model = ols(formula=formula, data=df).fit()\n",
    "    return model.summary()"
   ]
  },
  {
   "cell_type": "code",
   "execution_count": 68,
   "metadata": {},
   "outputs": [],
   "source": [
    "def tt_split(df, preds):\n",
    "    X = preds\n",
    "    y = df['price']\n",
    "\n",
    "    X_train, X_test, y_train, y_test = train_test_split(X, y, test_size = 0.25, random_state = 25)\n",
    "    \n",
    "    baseline_linreg = LinearRegression()\n",
    "    baseline_linreg.fit(X_train, y_train)\n",
    "    y_pred = baseline_linreg.predict(X_test)\n",
    "    residuals = y_pred - y_test\n",
    "    \n",
    "    mse_train = mean_squared_error(y_train, baseline_linreg.predict(X_train))\n",
    "    mse_test = mean_squared_error(y_test, y_pred)\n",
    "    \n",
    "    residuals = model.resid\n",
    "    fig = sm.graphics.qqplot(residuals, dist=stats.norm, line='45', fit=True)\n",
    "    \n",
    "    return print('Train MSE:', np.sqrt(mse_train), '\\n'\n",
    "                'Test MSE:', np.sqrt(mse_test), '\\n'\n",
    "                'Test Difference:', np.sqrt(mse_test) - np.sqrt(mse_train)), fig.show();"
   ]
  },
  {
   "cell_type": "markdown",
   "metadata": {},
   "source": [
    "# Baseline with Cities (Model 2) "
   ]
  },
  {
   "cell_type": "markdown",
   "metadata": {},
   "source": [
    "### Cleaning "
   ]
  },
  {
   "cell_type": "markdown",
   "metadata": {},
   "source": [
    "#### Defining/ Calculating \"Affordable\""
   ]
  },
  {
   "cell_type": "markdown",
   "metadata": {},
   "source": [
    "It is safe to assume that recent college graduates will not be looking to purchase a home, but the only available data regarding price is the entire price of the property"
   ]
  },
  {
   "cell_type": "markdown",
   "metadata": {},
   "source": [
    "To account for this the following measures have been taken: \n",
    "- An 'affordable' rent (for a single individual living alone) has been defined as <= 1,146 USD (2015 median rent in King County)\n",
    "    - source : https://www.deptofnumbers.com/rent/washington/king-county/\n",
    "- Given the 2015 King County 'affordable rent' value, the median of house price (450,000 USD) will be the maximum threshold for \"affordable\"\n",
    "- Given that recent college graduates often live with multiple roommates, I will be assuming the potential for having 3 tennants for a property \n",
    "    - Given this assumption, I will not be looking at houses priced over 1,350,000 USD (3x the median price) \n"
   ]
  },
  {
   "cell_type": "code",
   "execution_count": 69,
   "metadata": {},
   "outputs": [],
   "source": [
    "cities_baseline = df[(df['price'] <= 1350000)]"
   ]
  },
  {
   "cell_type": "code",
   "execution_count": 70,
   "metadata": {},
   "outputs": [],
   "source": [
    "cities_baseline = cities_baseline[(cities_baseline['bedrooms'] < 8)]"
   ]
  },
  {
   "cell_type": "markdown",
   "metadata": {},
   "source": [
    "There is an extreme outlier (33 bedrooms)\n",
    "- Considering the target demographic is recent graduates, any house with more than 7 bedrooms will be extravogant \n",
    "    - 5 and more is still extravogant, however I do not want to remove too many datapoints"
   ]
  },
  {
   "cell_type": "code",
   "execution_count": 72,
   "metadata": {},
   "outputs": [],
   "source": [
    "cities_baseline = cities_baseline[(cities_baseline['bathrooms'] > 0.5)]"
   ]
  },
  {
   "cell_type": "markdown",
   "metadata": {},
   "source": [
    "Removing any datapoints with anything less than .75 bathrooms, as anything less would be uninhabitable "
   ]
  },
  {
   "cell_type": "code",
   "execution_count": 75,
   "metadata": {},
   "outputs": [],
   "source": [
    "cities_baseline = pd.merge(cities_baseline, kc_zip, how='left')\n",
    " # cities_baseline.info()"
   ]
  },
  {
   "cell_type": "code",
   "execution_count": 77,
   "metadata": {},
   "outputs": [
    {
     "data": {
      "image/png": "[encoded data removed]",
      "text/plain": [
       "<Figure size 1296x720 with 1 Axes>"
      ]
     },
     "metadata": {
      "needs_background": "light"
     },
     "output_type": "display_data"
    }
   ],
   "source": [
    "fig, ax = plt.subplots(figsize=(18,10))\n",
    "sns.boxplot(ax=ax, x='city', y = 'price', data= cities_baseline)\n",
    "ax.set_xticklabels(ax.get_xticklabels(), rotation=40, ha='right');"
   ]
  },
  {
   "cell_type": "markdown",
   "metadata": {},
   "source": [
    "There are still many outliers, however I believe this to be representative of property prices and I will not be removing them\n",
    "- In a given city / neighborhood there are properties with much higher prices due to a variety of different factors (historical significance, rennovations, waterfront status, architecture, etc.) \n",
    "- A model that could not take these outliers into account will be of no use "
   ]
  },
  {
   "cell_type": "code",
   "execution_count": 78,
   "metadata": {},
   "outputs": [
    {
     "data": {
      "image/png": "[encoded data removed]",
      "text/plain": [
       "<Figure size 1296x720 with 1 Axes>"
      ]
     },
     "metadata": {
      "needs_background": "light"
     },
     "output_type": "display_data"
    }
   ],
   "source": [
    "fig, ax = plt.subplots(figsize=(18,10))\n",
    "sns.barplot(ax=ax, x='city', y = 'price', data= merged.groupby('city').median().reset_index().sort_values(by='price', ascending=False))\n",
    "ax.set_xticklabels(ax.get_xticklabels(), rotation=40, ha='right');"
   ]
  },
  {
   "cell_type": "markdown",
   "metadata": {},
   "source": [
    "No change in most expensive cities "
   ]
  },
  {
   "cell_type": "code",
   "execution_count": 79,
   "metadata": {},
   "outputs": [],
   "source": [
    "cities_baseline['city'] = cities_baseline['city'].str.replace(' ', '_')\n",
    "city_dummies = pd.get_dummies(cities_baseline['city'], drop_first=True)"
   ]
  },
  {
   "cell_type": "code",
   "execution_count": 80,
   "metadata": {},
   "outputs": [],
   "source": [
    "cities_baseline = pd.concat([cities_baseline, city_dummies], axis=1)\n",
    "cities_baseline.drop('city', axis=1, inplace=True)"
   ]
  },
  {
   "cell_type": "code",
   "execution_count": 81,
   "metadata": {},
   "outputs": [
    {
     "name": "stdout",
     "output_type": "stream",
     "text": [
      "<class 'pandas.core.frame.DataFrame'>\n",
      "Int64Index: 20648 entries, 0 to 20647\n",
      "Data columns (total 43 columns):\n",
      " #   Column         Non-Null Count  Dtype  \n",
      "---  ------         --------------  -----  \n",
      " 0   id             20648 non-null  int64  \n",
      " 1   price          20648 non-null  float64\n",
      " 2   bedrooms       20648 non-null  int64  \n",
      " 3   bathrooms      20648 non-null  float64\n",
      " 4   sqft_living    20648 non-null  int64  \n",
      " 5   sqft_lot       20648 non-null  int64  \n",
      " 6   floors         20648 non-null  float64\n",
      " 7   waterfront     20648 non-null  float64\n",
      " 8   view           20648 non-null  float64\n",
      " 9   condition      20648 non-null  int64  \n",
      " 10  grade          20648 non-null  int64  \n",
      " 11  sqft_basement  20648 non-null  float64\n",
      " 12  yr_built       20648 non-null  int64  \n",
      " 13  yr_renovated   20648 non-null  float64\n",
      " 14  zipcode        20648 non-null  int64  \n",
      " 15  lat            20648 non-null  float64\n",
      " 16  long           20648 non-null  float64\n",
      " 17  sqft_living15  20648 non-null  int64  \n",
      " 18  sqft_lot15     20648 non-null  int64  \n",
      " 19  rel_living     20648 non-null  int64  \n",
      " 20  BELLEVUE       20648 non-null  uint8  \n",
      " 21  BLACK_DIAMOND  20648 non-null  uint8  \n",
      " 22  BOTHELL        20648 non-null  uint8  \n",
      " 23  CARNATION      20648 non-null  uint8  \n",
      " 24  DUVALL         20648 non-null  uint8  \n",
      " 25  ENUMCLAW       20648 non-null  uint8  \n",
      " 26  FALL_CITY      20648 non-null  uint8  \n",
      " 27  FEDERAL_WAY    20648 non-null  uint8  \n",
      " 28  ISSAQUAH       20648 non-null  uint8  \n",
      " 29  KENMORE        20648 non-null  uint8  \n",
      " 30  KENT           20648 non-null  uint8  \n",
      " 31  KIRKLAND       20648 non-null  uint8  \n",
      " 32  MAPLE_VALLEY   20648 non-null  uint8  \n",
      " 33  MEDINA         20648 non-null  uint8  \n",
      " 34  MERCER_ISLAND  20648 non-null  uint8  \n",
      " 35  NORTH_BEND     20648 non-null  uint8  \n",
      " 36  REDMOND        20648 non-null  uint8  \n",
      " 37  RENTON         20648 non-null  uint8  \n",
      " 38  SAMMAMISH      20648 non-null  uint8  \n",
      " 39  SEATTLE        20648 non-null  uint8  \n",
      " 40  SNOQUALMIE     20648 non-null  uint8  \n",
      " 41  VASHON         20648 non-null  uint8  \n",
      " 42  WOODINVILLE    20648 non-null  uint8  \n",
      "dtypes: float64(9), int64(11), uint8(23)\n",
      "memory usage: 4.4 MB\n"
     ]
    }
   ],
   "source": [
    "cities_baseline.info()"
   ]
  },
  {
   "cell_type": "code",
   "execution_count": 82,
   "metadata": {},
   "outputs": [],
   "source": [
    "cities_baseline.drop(['id', 'zipcode', 'lat', 'long'], axis=1, inplace=True)"
   ]
  },
  {
   "cell_type": "markdown",
   "metadata": {},
   "source": [
    "With 'city' being the most informative geographical feature, I am dropping 'zipcode', 'lat', and 'long'\n",
    "- I am also dropping 'id' as it adds no relevant information to my model"
   ]
  },
  {
   "cell_type": "code",
   "execution_count": 83,
   "metadata": {
    "scrolled": false
   },
   "outputs": [
    {
     "data": {
      "text/html": [
       "<table class=\"simpletable\">\n",
       "<caption>OLS Regression Results</caption>\n",
       "<tr>\n",
       "  <th>Dep. Variable:</th>          <td>price</td>      <th>  R-squared:         </th>  <td>   0.736</td>  \n",
       "</tr>\n",
       "<tr>\n",
       "  <th>Model:</th>                   <td>OLS</td>       <th>  Adj. R-squared:    </th>  <td>   0.735</td>  \n",
       "</tr>\n",
       "<tr>\n",
       "  <th>Method:</th>             <td>Least Squares</td>  <th>  F-statistic:       </th>  <td>   1551.</td>  \n",
       "</tr>\n",
       "<tr>\n",
       "  <th>Date:</th>             <td>Fri, 04 Jun 2021</td> <th>  Prob (F-statistic):</th>   <td>  0.00</td>   \n",
       "</tr>\n",
       "<tr>\n",
       "  <th>Time:</th>                 <td>11:44:37</td>     <th>  Log-Likelihood:    </th> <td>-2.7081e+05</td>\n",
       "</tr>\n",
       "<tr>\n",
       "  <th>No. Observations:</th>      <td> 20648</td>      <th>  AIC:               </th>  <td>5.417e+05</td> \n",
       "</tr>\n",
       "<tr>\n",
       "  <th>Df Residuals:</th>          <td> 20610</td>      <th>  BIC:               </th>  <td>5.420e+05</td> \n",
       "</tr>\n",
       "<tr>\n",
       "  <th>Df Model:</th>              <td>    37</td>      <th>                     </th>      <td> </td>     \n",
       "</tr>\n",
       "<tr>\n",
       "  <th>Covariance Type:</th>      <td>nonrobust</td>    <th>                     </th>      <td> </td>     \n",
       "</tr>\n",
       "</table>\n",
       "<table class=\"simpletable\">\n",
       "<tr>\n",
       "        <td></td>           <th>coef</th>     <th>std err</th>      <th>t</th>      <th>P>|t|</th>  <th>[0.025</th>    <th>0.975]</th>  \n",
       "</tr>\n",
       "<tr>\n",
       "  <th>Intercept</th>     <td> 2.946e+06</td> <td> 8.97e+04</td> <td>   32.835</td> <td> 0.000</td> <td> 2.77e+06</td> <td> 3.12e+06</td>\n",
       "</tr>\n",
       "<tr>\n",
       "  <th>bedrooms</th>      <td>-1.353e+04</td> <td> 1264.049</td> <td>  -10.701</td> <td> 0.000</td> <td> -1.6e+04</td> <td> -1.1e+04</td>\n",
       "</tr>\n",
       "<tr>\n",
       "  <th>bathrooms</th>     <td> 2.772e+04</td> <td> 2045.579</td> <td>   13.551</td> <td> 0.000</td> <td> 2.37e+04</td> <td> 3.17e+04</td>\n",
       "</tr>\n",
       "<tr>\n",
       "  <th>sqft_living</th>   <td>   70.6022</td> <td>    1.477</td> <td>   47.799</td> <td> 0.000</td> <td>   67.707</td> <td>   73.497</td>\n",
       "</tr>\n",
       "<tr>\n",
       "  <th>sqft_lot</th>      <td>    0.2317</td> <td>    0.030</td> <td>    7.745</td> <td> 0.000</td> <td>    0.173</td> <td>    0.290</td>\n",
       "</tr>\n",
       "<tr>\n",
       "  <th>floors</th>        <td> 3.848e+04</td> <td> 2276.203</td> <td>   16.904</td> <td> 0.000</td> <td>  3.4e+04</td> <td> 4.29e+04</td>\n",
       "</tr>\n",
       "<tr>\n",
       "  <th>waterfront</th>    <td> 1.184e+05</td> <td> 1.39e+04</td> <td>    8.537</td> <td> 0.000</td> <td> 9.12e+04</td> <td> 1.46e+05</td>\n",
       "</tr>\n",
       "<tr>\n",
       "  <th>view</th>          <td> 2.948e+04</td> <td> 1373.594</td> <td>   21.462</td> <td> 0.000</td> <td> 2.68e+04</td> <td> 3.22e+04</td>\n",
       "</tr>\n",
       "<tr>\n",
       "  <th>condition</th>     <td> 2.512e+04</td> <td> 1455.026</td> <td>   17.262</td> <td> 0.000</td> <td> 2.23e+04</td> <td>  2.8e+04</td>\n",
       "</tr>\n",
       "<tr>\n",
       "  <th>grade</th>         <td>  7.55e+04</td> <td> 1367.605</td> <td>   55.206</td> <td> 0.000</td> <td> 7.28e+04</td> <td> 7.82e+04</td>\n",
       "</tr>\n",
       "<tr>\n",
       "  <th>sqft_basement</th> <td>   -3.7163</td> <td>    2.762</td> <td>   -1.345</td> <td> 0.179</td> <td>   -9.131</td> <td>    1.698</td>\n",
       "</tr>\n",
       "<tr>\n",
       "  <th>yr_built</th>      <td>-1825.5756</td> <td>   45.857</td> <td>  -39.810</td> <td> 0.000</td> <td>-1915.459</td> <td>-1735.693</td>\n",
       "</tr>\n",
       "<tr>\n",
       "  <th>yr_renovated</th>  <td>   11.0800</td> <td>    2.261</td> <td>    4.901</td> <td> 0.000</td> <td>    6.648</td> <td>   15.512</td>\n",
       "</tr>\n",
       "<tr>\n",
       "  <th>sqft_living15</th> <td>   57.6144</td> <td>    1.401</td> <td>   41.130</td> <td> 0.000</td> <td>   54.869</td> <td>   60.360</td>\n",
       "</tr>\n",
       "<tr>\n",
       "  <th>sqft_lot15</th>    <td>   -0.1277</td> <td>    0.047</td> <td>   -2.737</td> <td> 0.006</td> <td>   -0.219</td> <td>   -0.036</td>\n",
       "</tr>\n",
       "<tr>\n",
       "  <th>rel_living</th>    <td>   12.9878</td> <td>    1.326</td> <td>    9.794</td> <td> 0.000</td> <td>   10.389</td> <td>   15.587</td>\n",
       "</tr>\n",
       "<tr>\n",
       "  <th>BELLEVUE</th>      <td> 2.915e+05</td> <td> 5457.140</td> <td>   53.417</td> <td> 0.000</td> <td> 2.81e+05</td> <td> 3.02e+05</td>\n",
       "</tr>\n",
       "<tr>\n",
       "  <th>BLACK_DIAMOND</th> <td> 9.492e+04</td> <td> 1.28e+04</td> <td>    7.423</td> <td> 0.000</td> <td> 6.99e+04</td> <td>  1.2e+05</td>\n",
       "</tr>\n",
       "<tr>\n",
       "  <th>BOTHELL</th>       <td> 1.307e+05</td> <td> 9575.537</td> <td>   13.652</td> <td> 0.000</td> <td> 1.12e+05</td> <td> 1.49e+05</td>\n",
       "</tr>\n",
       "<tr>\n",
       "  <th>CARNATION</th>     <td>  1.23e+05</td> <td> 1.19e+04</td> <td>   10.363</td> <td> 0.000</td> <td> 9.97e+04</td> <td> 1.46e+05</td>\n",
       "</tr>\n",
       "<tr>\n",
       "  <th>DUVALL</th>        <td> 1.054e+05</td> <td> 9652.789</td> <td>   10.917</td> <td> 0.000</td> <td> 8.65e+04</td> <td> 1.24e+05</td>\n",
       "</tr>\n",
       "<tr>\n",
       "  <th>ENUMCLAW</th>      <td> 8007.2435</td> <td> 8999.860</td> <td>    0.890</td> <td> 0.374</td> <td>-9633.194</td> <td> 2.56e+04</td>\n",
       "</tr>\n",
       "<tr>\n",
       "  <th>FALL_CITY</th>     <td> 1.579e+05</td> <td>  1.5e+04</td> <td>   10.558</td> <td> 0.000</td> <td> 1.29e+05</td> <td> 1.87e+05</td>\n",
       "</tr>\n",
       "<tr>\n",
       "  <th>FEDERAL_WAY</th>   <td>-2.002e+04</td> <td> 5944.609</td> <td>   -3.368</td> <td> 0.001</td> <td>-3.17e+04</td> <td>-8368.168</td>\n",
       "</tr>\n",
       "<tr>\n",
       "  <th>ISSAQUAH</th>      <td> 1.826e+05</td> <td> 6096.324</td> <td>   29.958</td> <td> 0.000</td> <td> 1.71e+05</td> <td> 1.95e+05</td>\n",
       "</tr>\n",
       "<tr>\n",
       "  <th>KENMORE</th>       <td> 1.238e+05</td> <td> 8256.099</td> <td>   14.996</td> <td> 0.000</td> <td> 1.08e+05</td> <td>  1.4e+05</td>\n",
       "</tr>\n",
       "<tr>\n",
       "  <th>KENT</th>          <td> 1.112e+04</td> <td> 5320.186</td> <td>    2.091</td> <td> 0.037</td> <td>  696.662</td> <td> 2.16e+04</td>\n",
       "</tr>\n",
       "<tr>\n",
       "  <th>KIRKLAND</th>      <td> 2.421e+05</td> <td> 5675.944</td> <td>   42.651</td> <td> 0.000</td> <td> 2.31e+05</td> <td> 2.53e+05</td>\n",
       "</tr>\n",
       "<tr>\n",
       "  <th>MAPLE_VALLEY</th>  <td> 4.581e+04</td> <td> 6433.295</td> <td>    7.120</td> <td> 0.000</td> <td> 3.32e+04</td> <td> 5.84e+04</td>\n",
       "</tr>\n",
       "<tr>\n",
       "  <th>MEDINA</th>        <td> 6.631e+05</td> <td> 3.65e+04</td> <td>   18.145</td> <td> 0.000</td> <td> 5.91e+05</td> <td> 7.35e+05</td>\n",
       "</tr>\n",
       "<tr>\n",
       "  <th>MERCER_ISLAND</th> <td> 4.069e+05</td> <td> 9487.341</td> <td>   42.885</td> <td> 0.000</td> <td> 3.88e+05</td> <td> 4.25e+05</td>\n",
       "</tr>\n",
       "<tr>\n",
       "  <th>NORTH_BEND</th>    <td> 1.147e+05</td> <td> 9147.313</td> <td>   12.543</td> <td> 0.000</td> <td> 9.68e+04</td> <td> 1.33e+05</td>\n",
       "</tr>\n",
       "<tr>\n",
       "  <th>REDMOND</th>       <td>  2.39e+05</td> <td> 5663.279</td> <td>   42.197</td> <td> 0.000</td> <td> 2.28e+05</td> <td>  2.5e+05</td>\n",
       "</tr>\n",
       "<tr>\n",
       "  <th>RENTON</th>        <td> 7.345e+04</td> <td> 5045.285</td> <td>   14.559</td> <td> 0.000</td> <td> 6.36e+04</td> <td> 8.33e+04</td>\n",
       "</tr>\n",
       "<tr>\n",
       "  <th>SAMMAMISH</th>     <td> 1.966e+05</td> <td> 6101.638</td> <td>   32.218</td> <td> 0.000</td> <td> 1.85e+05</td> <td> 2.09e+05</td>\n",
       "</tr>\n",
       "<tr>\n",
       "  <th>SEATTLE</th>       <td> 1.933e+05</td> <td> 4453.878</td> <td>   43.411</td> <td> 0.000</td> <td> 1.85e+05</td> <td> 2.02e+05</td>\n",
       "</tr>\n",
       "<tr>\n",
       "  <th>SNOQUALMIE</th>    <td> 1.213e+05</td> <td> 8102.932</td> <td>   14.966</td> <td> 0.000</td> <td> 1.05e+05</td> <td> 1.37e+05</td>\n",
       "</tr>\n",
       "<tr>\n",
       "  <th>VASHON</th>        <td> 1.172e+05</td> <td> 1.24e+04</td> <td>    9.471</td> <td> 0.000</td> <td> 9.29e+04</td> <td> 1.41e+05</td>\n",
       "</tr>\n",
       "<tr>\n",
       "  <th>WOODINVILLE</th>   <td> 1.588e+05</td> <td> 7009.828</td> <td>   22.650</td> <td> 0.000</td> <td> 1.45e+05</td> <td> 1.73e+05</td>\n",
       "</tr>\n",
       "</table>\n",
       "<table class=\"simpletable\">\n",
       "<tr>\n",
       "  <th>Omnibus:</th>       <td>3022.785</td> <th>  Durbin-Watson:     </th> <td>   1.995</td>\n",
       "</tr>\n",
       "<tr>\n",
       "  <th>Prob(Omnibus):</th>  <td> 0.000</td>  <th>  Jarque-Bera (JB):  </th> <td>8636.318</td>\n",
       "</tr>\n",
       "<tr>\n",
       "  <th>Skew:</th>           <td> 0.788</td>  <th>  Prob(JB):          </th> <td>    0.00</td>\n",
       "</tr>\n",
       "<tr>\n",
       "  <th>Kurtosis:</th>       <td> 5.749</td>  <th>  Cond. No.          </th> <td>1.12e+16</td>\n",
       "</tr>\n",
       "</table><br/><br/>Notes:<br/>[1] Standard Errors assume that the covariance matrix of the errors is correctly specified.<br/>[2] The smallest eigenvalue is 3.95e-19. This might indicate that there are<br/>strong multicollinearity problems or that the design matrix is singular."
      ],
      "text/plain": [
       "<class 'statsmodels.iolib.summary.Summary'>\n",
       "\"\"\"\n",
       "                            OLS Regression Results                            \n",
       "==============================================================================\n",
       "Dep. Variable:                  price   R-squared:                       0.736\n",
       "Model:                            OLS   Adj. R-squared:                  0.735\n",
       "Method:                 Least Squares   F-statistic:                     1551.\n",
       "Date:                Fri, 04 Jun 2021   Prob (F-statistic):               0.00\n",
       "Time:                        11:44:37   Log-Likelihood:            -2.7081e+05\n",
       "No. Observations:               20648   AIC:                         5.417e+05\n",
       "Df Residuals:                   20610   BIC:                         5.420e+05\n",
       "Df Model:                          37                                         \n",
       "Covariance Type:            nonrobust                                         \n",
       "=================================================================================\n",
       "                    coef    std err          t      P>|t|      [0.025      0.975]\n",
       "---------------------------------------------------------------------------------\n",
       "Intercept      2.946e+06   8.97e+04     32.835      0.000    2.77e+06    3.12e+06\n",
       "bedrooms      -1.353e+04   1264.049    -10.701      0.000    -1.6e+04    -1.1e+04\n",
       "bathrooms      2.772e+04   2045.579     13.551      0.000    2.37e+04    3.17e+04\n",
       "sqft_living      70.6022      1.477     47.799      0.000      67.707      73.497\n",
       "sqft_lot          0.2317      0.030      7.745      0.000       0.173       0.290\n",
       "floors         3.848e+04   2276.203     16.904      0.000     3.4e+04    4.29e+04\n",
       "waterfront     1.184e+05   1.39e+04      8.537      0.000    9.12e+04    1.46e+05\n",
       "view           2.948e+04   1373.594     21.462      0.000    2.68e+04    3.22e+04\n",
       "condition      2.512e+04   1455.026     17.262      0.000    2.23e+04     2.8e+04\n",
       "grade           7.55e+04   1367.605     55.206      0.000    7.28e+04    7.82e+04\n",
       "sqft_basement    -3.7163      2.762     -1.345      0.179      -9.131       1.698\n",
       "yr_built      -1825.5756     45.857    -39.810      0.000   -1915.459   -1735.693\n",
       "yr_renovated     11.0800      2.261      4.901      0.000       6.648      15.512\n",
       "sqft_living15    57.6144      1.401     41.130      0.000      54.869      60.360\n",
       "sqft_lot15       -0.1277      0.047     -2.737      0.006      -0.219      -0.036\n",
       "rel_living       12.9878      1.326      9.794      0.000      10.389      15.587\n",
       "BELLEVUE       2.915e+05   5457.140     53.417      0.000    2.81e+05    3.02e+05\n",
       "BLACK_DIAMOND  9.492e+04   1.28e+04      7.423      0.000    6.99e+04     1.2e+05\n",
       "BOTHELL        1.307e+05   9575.537     13.652      0.000    1.12e+05    1.49e+05\n",
       "CARNATION       1.23e+05   1.19e+04     10.363      0.000    9.97e+04    1.46e+05\n",
       "DUVALL         1.054e+05   9652.789     10.917      0.000    8.65e+04    1.24e+05\n",
       "ENUMCLAW       8007.2435   8999.860      0.890      0.374   -9633.194    2.56e+04\n",
       "FALL_CITY      1.579e+05    1.5e+04     10.558      0.000    1.29e+05    1.87e+05\n",
       "FEDERAL_WAY   -2.002e+04   5944.609     -3.368      0.001   -3.17e+04   -8368.168\n",
       "ISSAQUAH       1.826e+05   6096.324     29.958      0.000    1.71e+05    1.95e+05\n",
       "KENMORE        1.238e+05   8256.099     14.996      0.000    1.08e+05     1.4e+05\n",
       "KENT           1.112e+04   5320.186      2.091      0.037     696.662    2.16e+04\n",
       "KIRKLAND       2.421e+05   5675.944     42.651      0.000    2.31e+05    2.53e+05\n",
       "MAPLE_VALLEY   4.581e+04   6433.295      7.120      0.000    3.32e+04    5.84e+04\n",
       "MEDINA         6.631e+05   3.65e+04     18.145      0.000    5.91e+05    7.35e+05\n",
       "MERCER_ISLAND  4.069e+05   9487.341     42.885      0.000    3.88e+05    4.25e+05\n",
       "NORTH_BEND     1.147e+05   9147.313     12.543      0.000    9.68e+04    1.33e+05\n",
       "REDMOND         2.39e+05   5663.279     42.197      0.000    2.28e+05     2.5e+05\n",
       "RENTON         7.345e+04   5045.285     14.559      0.000    6.36e+04    8.33e+04\n",
       "SAMMAMISH      1.966e+05   6101.638     32.218      0.000    1.85e+05    2.09e+05\n",
       "SEATTLE        1.933e+05   4453.878     43.411      0.000    1.85e+05    2.02e+05\n",
       "SNOQUALMIE     1.213e+05   8102.932     14.966      0.000    1.05e+05    1.37e+05\n",
       "VASHON         1.172e+05   1.24e+04      9.471      0.000    9.29e+04    1.41e+05\n",
       "WOODINVILLE    1.588e+05   7009.828     22.650      0.000    1.45e+05    1.73e+05\n",
       "==============================================================================\n",
       "Omnibus:                     3022.785   Durbin-Watson:                   1.995\n",
       "Prob(Omnibus):                  0.000   Jarque-Bera (JB):             8636.318\n",
       "Skew:                           0.788   Prob(JB):                         0.00\n",
       "Kurtosis:                       5.749   Cond. No.                     1.12e+16\n",
       "==============================================================================\n",
       "\n",
       "Notes:\n",
       "[1] Standard Errors assume that the covariance matrix of the errors is correctly specified.\n",
       "[2] The smallest eigenvalue is 3.95e-19. This might indicate that there are\n",
       "strong multicollinearity problems or that the design matrix is singular.\n",
       "\"\"\""
      ]
     },
     "execution_count": 83,
     "metadata": {},
     "output_type": "execute_result"
    }
   ],
   "source": [
    "summary(cities_baseline, cities_baseline.drop('price', axis=1))"
   ]
  },
  {
   "cell_type": "markdown",
   "metadata": {},
   "source": [
    "**Interpretation**\n",
    "- Adding cities (and removing other geographical features) has improved the r-squared value significantly (up nearly 0.4 from baseline)\n",
    "- Enumclaw appears to be the only city with a large p-value\n",
    "- bedrooms still has a substantial negative coefficient\n",
    "    - may need to propose this be looked into further \n",
    "- sqft_basement is still negative, but is much smaller\n",
    "    - for every sqft of basement price only drops 4\n"
   ]
  },
  {
   "cell_type": "markdown",
   "metadata": {},
   "source": [
    "**Next Model** \n",
    "- I will be dropping 'condition' as it conveys the same information as 'grade'\n",
    "    - 'grade' is a measure used by the local government, wheras 'condition' might be much more subjective \n",
    "- Keeping Enumclaw for now despite p-value (0.332)\n",
    "    - Considering the massive increase in r-squared by adding the cities, I want to see if tweaking other features will prove that all cities are significantly influential \n",
    "- Creating dummy variabels for grade"
   ]
  },
  {
   "cell_type": "code",
   "execution_count": null,
   "metadata": {},
   "outputs": [],
   "source": [
    "tt_split(cities_baseline, cities_baseline.drop('price', axis=1))"
   ]
  },
  {
   "cell_type": "markdown",
   "metadata": {},
   "source": [
    "**Interpretation**\n",
    "- After filtering the data based on assumptions based on max price, number of bedrooms, and bathrooms, the residuals seem to be much more normally distributed than the baseline test"
   ]
  },
  {
   "cell_type": "markdown",
   "metadata": {},
   "source": [
    "# Model 3"
   ]
  },
  {
   "cell_type": "markdown",
   "metadata": {},
   "source": [
    "There is a strong positive relationship between 'grade' and 'price' \n",
    " - Given there are 11 grades I will first create dummy variables, and then bin the grades based on their coeficients "
   ]
  },
  {
   "cell_type": "markdown",
   "metadata": {},
   "source": [
    "### Cleaning"
   ]
  },
  {
   "cell_type": "code",
   "execution_count": null,
   "metadata": {},
   "outputs": [],
   "source": [
    "cities_baseline['grade'].value_counts()"
   ]
  },
  {
   "cell_type": "markdown",
   "metadata": {},
   "source": [
    "There is a single datapoint where grade = 3"
   ]
  },
  {
   "cell_type": "code",
   "execution_count": null,
   "metadata": {},
   "outputs": [],
   "source": [
    "indexnames = cities_baseline[cities_baseline['grade'] == 3].index\n",
    "cities_baseline.drop(indexnames, inplace=True)"
   ]
  },
  {
   "cell_type": "markdown",
   "metadata": {},
   "source": [
    "# Model 3 (cont'd)"
   ]
  },
  {
   "cell_type": "code",
   "execution_count": null,
   "metadata": {},
   "outputs": [],
   "source": [
    "grade_dummies = pd.get_dummies(cities_baseline['grade'], prefix='grade', drop_first=True)\n",
    "model4 = pd.concat([cities_baseline, grade_dummies], axis=1)\n",
    "model4.drop(['grade', 'condition'], axis=1, inplace=True)"
   ]
  },
  {
   "cell_type": "code",
   "execution_count": null,
   "metadata": {},
   "outputs": [],
   "source": [
    "summary(model4, model4.drop('price', axis=1))"
   ]
  },
  {
   "cell_type": "markdown",
   "metadata": {},
   "source": [
    "**Interpretation**\n",
    "- sqft_basement now has a positive coefficient, but a very large p-value\n",
    "    - I believe it will be beneficial to drop this feature as its coefficient and p-value has been fluxuating with each model \n",
    "- Enumclaw now has a much smaller p-value, but is still well above 0.05\n",
    "- I will be dropping grades 5 and 6 (based on p-vales) and binning 7-8, 9-10, 11-12\n"
   ]
  },
  {
   "cell_type": "code",
   "execution_count": null,
   "metadata": {},
   "outputs": [],
   "source": [
    "model4['grade'] = cities_baseline['grade']"
   ]
  },
  {
   "cell_type": "code",
   "execution_count": null,
   "metadata": {},
   "outputs": [],
   "source": [
    "# binning \n",
    "bins = [4,6,8,10,13]\n",
    "model4['bin_grade'] = pd.cut(model4['grade'], bins)\n",
    "\n",
    "# Cleaning what will become the column titles for each grade so as to not cause any\n",
    "# problems when put into the model formula\n",
    "model4['bin_grade'] = model4['bin_grade'].astype(str)\n",
    "model4['bin_grade'] = model4['bin_grade'].str.replace(' ', '')\n",
    "model4['bin_grade'] = model4['bin_grade'].str.replace('(', '')\n",
    "model4['bin_grade'] = model4['bin_grade'].str.replace(']', '')\n",
    "model4['bin_grade'] = model4['bin_grade'].str.replace(',', 'thru')\n",
    "model4['bin_grade'] = model4['bin_grade'].str.replace('.0', '')\n",
    "\n",
    "bin_dummies = pd.get_dummies(model4['bin_grade'], drop_first=True)\n",
    "bin_dummies.drop('nan', axis=1, inplace=True)\n",
    "\n",
    "# more cleaning column names to be more comprehendable / straightforward in summary \n",
    "bin_dummies['grade_7thru8'] = bin_dummies['6thru8']\n",
    "bin_dummies['grade_9thru10'] = bin_dummies['8thru']\n",
    "bin_dummies['grade_10thru12'] = bin_dummies['thru13']\n",
    "bin_dummies.drop(['6thru8', '8thru', 'thru13'], axis=1, inplace=True)\n",
    "\n",
    "# concatinating \n",
    "model4 = pd.concat([model4, bin_dummies], axis=1)\n",
    "\n",
    "#dropping redundant columns\n",
    "model4.drop(['grade_5', 'grade_6', 'grade_7', 'grade_8', 'grade_9', 'grade_10', 'grade_11', \n",
    "             'grade_12', 'sqft_basement', 'grade', 'bin_grade'], axis=1, inplace=True)"
   ]
  },
  {
   "cell_type": "code",
   "execution_count": null,
   "metadata": {},
   "outputs": [],
   "source": [
    "summary(model4, model4.drop('price', axis=1))"
   ]
  },
  {
   "cell_type": "markdown",
   "metadata": {},
   "source": [
    "# Model 4 "
   ]
  },
  {
   "cell_type": "code",
   "execution_count": null,
   "metadata": {},
   "outputs": [],
   "source": [
    "model4['view'] = model4.view.astype(str)"
   ]
  },
  {
   "cell_type": "code",
   "execution_count": null,
   "metadata": {},
   "outputs": [],
   "source": [
    "model4['view'] = model4['view'].str.replace('.0', '')"
   ]
  },
  {
   "cell_type": "code",
   "execution_count": null,
   "metadata": {},
   "outputs": [],
   "source": [
    "model4['view'].value_counts()"
   ]
  },
  {
   "cell_type": "code",
   "execution_count": null,
   "metadata": {},
   "outputs": [],
   "source": [
    "view_dummies = pd.get_dummies(model4['view'], prefix='view', drop_first=True)"
   ]
  },
  {
   "cell_type": "code",
   "execution_count": null,
   "metadata": {},
   "outputs": [],
   "source": [
    "view_dummies"
   ]
  },
  {
   "cell_type": "code",
   "execution_count": null,
   "metadata": {},
   "outputs": [],
   "source": [
    "model4 = pd.concat([model4, view_dummies], axis=1)"
   ]
  },
  {
   "cell_type": "code",
   "execution_count": null,
   "metadata": {},
   "outputs": [],
   "source": [
    "model4.drop('view', axis=1, inplace=True)"
   ]
  },
  {
   "cell_type": "code",
   "execution_count": null,
   "metadata": {},
   "outputs": [],
   "source": [
    "model4.info()"
   ]
  },
  {
   "cell_type": "code",
   "execution_count": null,
   "metadata": {},
   "outputs": [],
   "source": [
    "summary(model4, model4.drop('price', axis=1))"
   ]
  },
  {
   "cell_type": "code",
   "execution_count": null,
   "metadata": {},
   "outputs": [],
   "source": [
    "summary(model4, model4.drop(['price', 'FEDERAL_WAY'], axis=1))"
   ]
  },
  {
   "cell_type": "code",
   "execution_count": null,
   "metadata": {},
   "outputs": [],
   "source": [
    "tt_split(model4, model4.drop('price', axis=1))"
   ]
  },
  {
   "cell_type": "code",
   "execution_count": null,
   "metadata": {},
   "outputs": [],
   "source": [
    "sns.scatterplot(x='bedrooms', y='price', data=model4)"
   ]
  },
  {
   "cell_type": "code",
   "execution_count": null,
   "metadata": {},
   "outputs": [],
   "source": []
  },
  {
   "cell_type": "code",
   "execution_count": null,
   "metadata": {},
   "outputs": [],
   "source": []
  },
  {
   "cell_type": "code",
   "execution_count": null,
   "metadata": {},
   "outputs": [],
   "source": []
  },
  {
   "cell_type": "code",
   "execution_count": null,
   "metadata": {},
   "outputs": [],
   "source": []
  },
  {
   "cell_type": "code",
   "execution_count": null,
   "metadata": {},
   "outputs": [],
   "source": []
  },
  {
   "cell_type": "code",
   "execution_count": null,
   "metadata": {},
   "outputs": [],
   "source": []
  },
  {
   "cell_type": "code",
   "execution_count": null,
   "metadata": {},
   "outputs": [],
   "source": [
    "df_model12 = df_model11.drop(['grade_5', 'grade_6'], axis=1)"
   ]
  },
  {
   "cell_type": "code",
   "execution_count": null,
   "metadata": {},
   "outputs": [],
   "source": [
    "summary(df_model12, df_model12.drop('price', axis=1))"
   ]
  },
  {
   "cell_type": "code",
   "execution_count": null,
   "metadata": {},
   "outputs": [],
   "source": [
    "df_model12 = pd.concat([df_model12, grade_col], axis=1)"
   ]
  },
  {
   "cell_type": "code",
   "execution_count": null,
   "metadata": {},
   "outputs": [],
   "source": [
    "bins = [6,8,13]\n",
    "df_model12['bin_grade'] = pd.cut(df_model12['grade'], bins)"
   ]
  },
  {
   "cell_type": "code",
   "execution_count": null,
   "metadata": {},
   "outputs": [],
   "source": [
    "df_model12['bin_grade'].isna().sum()"
   ]
  },
  {
   "cell_type": "code",
   "execution_count": null,
   "metadata": {},
   "outputs": [],
   "source": [
    "df_model12['bin_grade'].value_counts()"
   ]
  },
  {
   "cell_type": "code",
   "execution_count": null,
   "metadata": {},
   "outputs": [],
   "source": [
    "df_model12['bin_grade'] = df_model12['bin_grade'].astype(str)\n",
    "df_model12['bin_grade'] = df_model12['bin_grade'].str.replace('.0', '')\n",
    "df_model12['bin_grade'] = df_model12['bin_grade'].str.replace(' ', '')\n",
    "df_model12['bin_grade'] = df_model12['bin_grade'].str.replace('(', '')\n",
    "df_model12['bin_grade'] = df_model12['bin_grade'].str.replace(']', '')\n"
   ]
  },
  {
   "cell_type": "code",
   "execution_count": null,
   "metadata": {},
   "outputs": [],
   "source": [
    "grade_bin_dummies = pd.get_dummies(df_model12['bin_grade'], drop_first=True)\n",
    "df_model12 = pd.concat([df_model12, grade_bin_dummies], axis=1)\n",
    "df_model12.drop(['nan', 'bin_grade'], axis=1, inplace=True)"
   ]
  },
  {
   "cell_type": "code",
   "execution_count": null,
   "metadata": {},
   "outputs": [],
   "source": [
    "df_model12['grade_9thru13'] = df_model12['8,13']\n",
    "df_model12.drop(['8,13', 'grade', 'grade_7', 'grade_8', 'grade_9', 'grade_10', 'grade_11', 'grade_12'], axis=1, inplace=True)"
   ]
  },
  {
   "cell_type": "code",
   "execution_count": null,
   "metadata": {},
   "outputs": [],
   "source": [
    "summary(df_model12, df_model12.drop('price', axis=1))"
   ]
  },
  {
   "cell_type": "code",
   "execution_count": null,
   "metadata": {},
   "outputs": [],
   "source": [
    "tt_split(model4, model4.drop('price', axis=1))"
   ]
  },
  {
   "cell_type": "markdown",
   "metadata": {},
   "source": [
    "# Model 3"
   ]
  },
  {
   "cell_type": "code",
   "execution_count": null,
   "metadata": {},
   "outputs": [],
   "source": [
    "df_model3 = df_model2"
   ]
  },
  {
   "cell_type": "code",
   "execution_count": null,
   "metadata": {},
   "outputs": [],
   "source": [
    "df_model3.describe()"
   ]
  },
  {
   "cell_type": "markdown",
   "metadata": {},
   "source": [
    "**Outliers**\n",
    "- Max 33 bedrooms is an extreme outlier\n",
    "- Min 0.5 bathroom seems to be a mistake"
   ]
  },
  {
   "cell_type": "code",
   "execution_count": null,
   "metadata": {},
   "outputs": [],
   "source": [
    "df_model3['bedrooms'].value_counts()"
   ]
  },
  {
   "cell_type": "markdown",
   "metadata": {},
   "source": [
    "- 33 Bedrooms is certianly a mistake\n",
    "- Based on my business problem, I do not believe recent graduates will be looking for houses with over 7 bedrooms\n",
    "    - I do not believe recent graduates would be looking at anything with more than 5 bedrooms, but for the sake of keeping data I will only prune bedrooms > 7\n",
    "    - this will remove 51 datapoints"
   ]
  },
  {
   "cell_type": "code",
   "execution_count": null,
   "metadata": {},
   "outputs": [],
   "source": [
    "df_model3 = df_model3[(df_model3['bedrooms'] < 8)]"
   ]
  },
  {
   "cell_type": "code",
   "execution_count": null,
   "metadata": {},
   "outputs": [],
   "source": [
    "df_model3[(df_model3['bathrooms'] < 0.75)]"
   ]
  },
  {
   "cell_type": "markdown",
   "metadata": {},
   "source": [
    "- I am making the assumption that any property with less than .75 bathroom (sink, bath/shower, toilet) is not a feasible living space "
   ]
  },
  {
   "cell_type": "code",
   "execution_count": null,
   "metadata": {},
   "outputs": [],
   "source": [
    "df_model3= df_model3[(df_model3['bathrooms'] > 0.5)]"
   ]
  },
  {
   "cell_type": "code",
   "execution_count": null,
   "metadata": {},
   "outputs": [],
   "source": [
    "summary(df_model3, df_model3.drop('price', axis=1))"
   ]
  },
  {
   "cell_type": "markdown",
   "metadata": {},
   "source": [
    "**Interpretation**\n",
    "- With nearly identical results to model 2, the removed 'outliers' have had little positive change on the fit of the model\n",
    "    - that being said rsquared = .708 is not terrible\n",
    "- sqft_basement p value has increased by 0.1, so I will be dropping it for the next model"
   ]
  },
  {
   "cell_type": "code",
   "execution_count": null,
   "metadata": {},
   "outputs": [],
   "source": [
    "tt_split(df_model3, df_model3.drop('price', axis=1))"
   ]
  },
  {
   "cell_type": "markdown",
   "metadata": {},
   "source": [
    "- MSEs of Train and Test samples are very close (0.7%)\n",
    "    - this is not a large change from model 2 (1%)"
   ]
  },
  {
   "cell_type": "markdown",
   "metadata": {},
   "source": [
    "# Model 4"
   ]
  },
  {
   "cell_type": "markdown",
   "metadata": {},
   "source": [
    "Removing 'sqft_basement'"
   ]
  },
  {
   "cell_type": "code",
   "execution_count": null,
   "metadata": {},
   "outputs": [],
   "source": [
    "df_model4 = df_model3"
   ]
  },
  {
   "cell_type": "code",
   "execution_count": null,
   "metadata": {},
   "outputs": [],
   "source": [
    "df_model4.drop('sqft_basement', axis=1, inplace=True)"
   ]
  },
  {
   "cell_type": "code",
   "execution_count": null,
   "metadata": {},
   "outputs": [],
   "source": [
    "summary(df_model4, df_model4.drop('price', axis=1))"
   ]
  },
  {
   "cell_type": "code",
   "execution_count": null,
   "metadata": {},
   "outputs": [],
   "source": [
    "tt_split(df_model4, df_model4.drop('price', axis=1))"
   ]
  },
  {
   "cell_type": "markdown",
   "metadata": {},
   "source": [
    "# Model 5"
   ]
  },
  {
   "cell_type": "markdown",
   "metadata": {},
   "source": [
    "**Steps Taken For New Model**\n",
    "- Create dummy variables for categorical data\n",
    "- Remove 'condition' column (conveys same information as 'grade')"
   ]
  },
  {
   "cell_type": "code",
   "execution_count": null,
   "metadata": {},
   "outputs": [],
   "source": [
    "df_model5 = df_model4.drop('condition', axis=1)"
   ]
  },
  {
   "cell_type": "code",
   "execution_count": null,
   "metadata": {},
   "outputs": [],
   "source": [
    "df_model5['view'] = df_model5['view'].astype(int)"
   ]
  },
  {
   "cell_type": "code",
   "execution_count": null,
   "metadata": {},
   "outputs": [],
   "source": [
    "view_dummies = pd.get_dummies(df_model5['view'], prefix = 'view_', drop_first=True)\n",
    "grade_dummies = pd.get_dummies(df_model5['grade'], prefix = 'grade_', drop_first=True)"
   ]
  },
  {
   "cell_type": "code",
   "execution_count": null,
   "metadata": {},
   "outputs": [],
   "source": [
    "df_model5 = pd.concat([df_model5, view_dummies, grade_dummies], axis=1)"
   ]
  },
  {
   "cell_type": "code",
   "execution_count": null,
   "metadata": {},
   "outputs": [],
   "source": [
    "df_model5.drop(columns=['view', 'grade'], inplace=True)"
   ]
  },
  {
   "cell_type": "code",
   "execution_count": null,
   "metadata": {},
   "outputs": [],
   "source": [
    "summary(df_model5, df_model5.drop('price', axis=1))"
   ]
  },
  {
   "cell_type": "code",
   "execution_count": null,
   "metadata": {},
   "outputs": [],
   "source": [
    "tt_split(df_model5, df_model5.drop('price', axis=1))"
   ]
  },
  {
   "cell_type": "markdown",
   "metadata": {},
   "source": [
    "# Model 6"
   ]
  },
  {
   "cell_type": "code",
   "execution_count": null,
   "metadata": {},
   "outputs": [],
   "source": [
    "df_model6 = df_model5.drop(['grade__4', 'grade__5', 'grade__6', 'grade__7', 'grade__8', 'grade__9', 'grade__10'], axis=1)"
   ]
  },
  {
   "cell_type": "code",
   "execution_count": null,
   "metadata": {},
   "outputs": [],
   "source": [
    "summary(df_model6, df_model6.drop('price', axis=1))"
   ]
  },
  {
   "cell_type": "code",
   "execution_count": null,
   "metadata": {},
   "outputs": [],
   "source": [
    "tt_split(df_model6, df_model6.drop('price', axis=1))"
   ]
  },
  {
   "cell_type": "code",
   "execution_count": null,
   "metadata": {},
   "outputs": [],
   "source": [
    "df_model7 = df_model6.drop('grade__12', axis=1)"
   ]
  },
  {
   "cell_type": "code",
   "execution_count": null,
   "metadata": {},
   "outputs": [],
   "source": [
    "summary(df_model7, df_model7.drop('price', axis=1))"
   ]
  },
  {
   "cell_type": "code",
   "execution_count": null,
   "metadata": {},
   "outputs": [],
   "source": [
    "tt_split(df_model7, df_model7.drop('price', axis=1))"
   ]
  },
  {
   "cell_type": "markdown",
   "metadata": {},
   "source": [
    "# Model 8"
   ]
  },
  {
   "cell_type": "code",
   "execution_count": null,
   "metadata": {},
   "outputs": [],
   "source": [
    "df_model8 = merged"
   ]
  },
  {
   "cell_type": "code",
   "execution_count": null,
   "metadata": {},
   "outputs": [],
   "source": [
    "city_dummies = pd.get_dummies(df_model8['city'], drop_first=True)\n",
    "df_model8 = pd.concat([df_model8, city_dummies], axis=1)\n",
    "df_model8.drop('city', axis=1, inplace=True)"
   ]
  },
  {
   "cell_type": "code",
   "execution_count": null,
   "metadata": {},
   "outputs": [],
   "source": [
    "df_model8.info()"
   ]
  },
  {
   "cell_type": "code",
   "execution_count": null,
   "metadata": {},
   "outputs": [],
   "source": [
    "summary(df_model8, df_model8.drop('price', axis=1))"
   ]
  },
  {
   "cell_type": "markdown",
   "metadata": {},
   "source": [
    "# Model 9"
   ]
  },
  {
   "cell_type": "code",
   "execution_count": null,
   "metadata": {},
   "outputs": [],
   "source": [
    "df_model9 = df_model8.drop(['VASHON', 'WOODINVILLE', 'sqft_lot15', 'zipcode', 'lat', 'long'], axis=1)"
   ]
  },
  {
   "cell_type": "code",
   "execution_count": null,
   "metadata": {},
   "outputs": [],
   "source": [
    "summary(df_model9, df_model9.drop('price', axis=1))"
   ]
  },
  {
   "cell_type": "code",
   "execution_count": null,
   "metadata": {},
   "outputs": [],
   "source": [
    "tt_split(df_model9, df_model9.drop('price', axis=1))"
   ]
  },
  {
   "cell_type": "markdown",
   "metadata": {},
   "source": [
    "The MSE of the training data is higher than the testing data"
   ]
  },
  {
   "cell_type": "code",
   "execution_count": null,
   "metadata": {},
   "outputs": [],
   "source": [
    "df_model9.info()"
   ]
  },
  {
   "cell_type": "markdown",
   "metadata": {},
   "source": [
    "# Model 10"
   ]
  },
  {
   "cell_type": "code",
   "execution_count": null,
   "metadata": {},
   "outputs": [],
   "source": [
    "df_model10 = cities_baseline.drop('condition', axis=1)"
   ]
  },
  {
   "cell_type": "code",
   "execution_count": null,
   "metadata": {},
   "outputs": [],
   "source": [
    "indexnames = df_model10[(df_model10['grade'] == 3)].index\n",
    "df_model10 = df_model10.drop(indexnames)\n",
    "\n",
    "#creating for later concatination \n",
    "grade_col = df_model10['grade']\n",
    "view_col = df_model10['view']"
   ]
  },
  {
   "cell_type": "markdown",
   "metadata": {},
   "source": [
    "'grade' = 3 offered little / confusing information for the model as there was only one corresponding datapoint"
   ]
  },
  {
   "cell_type": "code",
   "execution_count": null,
   "metadata": {},
   "outputs": [],
   "source": [
    "df_model10['view'] = df_model10['view'].astype(int)\n",
    "\n",
    "view_dummies = pd.get_dummies(df_model10['view'], prefix='view', drop_first=True)\n",
    "\n",
    "grade_dummies = pd.get_dummies(df_model10['grade'], prefix='grade', drop_first=True)"
   ]
  },
  {
   "cell_type": "code",
   "execution_count": null,
   "metadata": {},
   "outputs": [],
   "source": [
    "df_model10.drop(['view', 'grade'], axis=1, inplace=True)"
   ]
  },
  {
   "cell_type": "code",
   "execution_count": null,
   "metadata": {},
   "outputs": [],
   "source": [
    "df_model10 = pd.concat([df_model10, view_dummies, grade_dummies], axis=1)"
   ]
  },
  {
   "cell_type": "code",
   "execution_count": null,
   "metadata": {
    "scrolled": false
   },
   "outputs": [],
   "source": [
    "summary(df_model10, df_model10.drop('price', axis=1))"
   ]
  },
  {
   "cell_type": "code",
   "execution_count": null,
   "metadata": {},
   "outputs": [],
   "source": [
    "tt_split(df_model10, df_model10.drop('price', axis=1))"
   ]
  },
  {
   "cell_type": "markdown",
   "metadata": {},
   "source": [
    "# Model 11"
   ]
  },
  {
   "cell_type": "code",
   "execution_count": null,
   "metadata": {},
   "outputs": [],
   "source": [
    "df_model11 = df_model10.drop(['ENUMCLAW', 'sqft_basement'], axis=1)"
   ]
  },
  {
   "cell_type": "code",
   "execution_count": null,
   "metadata": {
    "scrolled": false
   },
   "outputs": [],
   "source": [
    "summary(df_model11, df_model11.drop('price', axis=1))"
   ]
  },
  {
   "cell_type": "markdown",
   "metadata": {},
   "source": [
    "# Model 12"
   ]
  },
  {
   "cell_type": "markdown",
   "metadata": {},
   "source": [
    "There is a strong positive relationship between 'grade' and 'price' so I do not want to drop a majority of the 'grade' columns... so I will attempt binning "
   ]
  },
  {
   "cell_type": "code",
   "execution_count": null,
   "metadata": {},
   "outputs": [],
   "source": [
    "# df_model12 = cities_baseline.drop('condition', axis=1)"
   ]
  },
  {
   "cell_type": "code",
   "execution_count": null,
   "metadata": {},
   "outputs": [],
   "source": [
    "df_model12 = df_model11.drop(['grade_5', 'grade_6'], axis=1)"
   ]
  },
  {
   "cell_type": "code",
   "execution_count": null,
   "metadata": {},
   "outputs": [],
   "source": [
    "summary(df_model12, df_model12.drop('price', axis=1))"
   ]
  },
  {
   "cell_type": "code",
   "execution_count": null,
   "metadata": {},
   "outputs": [],
   "source": [
    "df_model12 = pd.concat([df_model12, grade_col], axis=1)"
   ]
  },
  {
   "cell_type": "code",
   "execution_count": null,
   "metadata": {},
   "outputs": [],
   "source": [
    "bins = [6,8,13]\n",
    "df_model12['bin_grade'] = pd.cut(df_model12['grade'], bins)"
   ]
  },
  {
   "cell_type": "code",
   "execution_count": null,
   "metadata": {},
   "outputs": [],
   "source": [
    "df_model12['bin_grade'].isna().sum()"
   ]
  },
  {
   "cell_type": "code",
   "execution_count": null,
   "metadata": {},
   "outputs": [],
   "source": [
    "df_model12['bin_grade'].value_counts()"
   ]
  },
  {
   "cell_type": "code",
   "execution_count": null,
   "metadata": {},
   "outputs": [],
   "source": [
    "df_model12['bin_grade'] = df_model12['bin_grade'].astype(str)\n",
    "df_model12['bin_grade'] = df_model12['bin_grade'].str.replace('.0', '')\n",
    "df_model12['bin_grade'] = df_model12['bin_grade'].str.replace(' ', '')\n",
    "df_model12['bin_grade'] = df_model12['bin_grade'].str.replace('(', '')\n",
    "df_model12['bin_grade'] = df_model12['bin_grade'].str.replace(']', '')\n"
   ]
  },
  {
   "cell_type": "code",
   "execution_count": null,
   "metadata": {},
   "outputs": [],
   "source": [
    "grade_bin_dummies = pd.get_dummies(df_model12['bin_grade'], drop_first=True)\n",
    "df_model12 = pd.concat([df_model12, grade_bin_dummies], axis=1)\n",
    "df_model12.drop(['nan', 'bin_grade'], axis=1, inplace=True)"
   ]
  },
  {
   "cell_type": "code",
   "execution_count": null,
   "metadata": {},
   "outputs": [],
   "source": [
    "df_model12['grade_9thru13'] = df_model12['8,13']\n",
    "df_model12.drop(['8,13', 'grade', 'grade_7', 'grade_8', 'grade_9', 'grade_10', 'grade_11', 'grade_12'], axis=1, inplace=True)"
   ]
  },
  {
   "cell_type": "code",
   "execution_count": null,
   "metadata": {},
   "outputs": [],
   "source": [
    "summary(df_model12, df_model12.drop('price', axis=1))"
   ]
  },
  {
   "cell_type": "markdown",
   "metadata": {},
   "source": [
    "### Exploring Date"
   ]
  },
  {
   "cell_type": "code",
   "execution_count": null,
   "metadata": {},
   "outputs": [],
   "source": []
  },
  {
   "cell_type": "code",
   "execution_count": null,
   "metadata": {},
   "outputs": [],
   "source": [
    "df['date'].value_counts()"
   ]
  },
  {
   "cell_type": "markdown",
   "metadata": {},
   "source": [
    "\n",
    "It would appear that the bulk of sales are happening in June\n",
    "- seems as though sales are from 2014 and 2015"
   ]
  },
  {
   "cell_type": "code",
   "execution_count": null,
   "metadata": {},
   "outputs": [],
   "source": [
    "sns.countplot(x=df['month'])"
   ]
  },
  {
   "cell_type": "markdown",
   "metadata": {},
   "source": [
    "Most properties are being bought/sold between April - July\n",
    "- Highest frequency = May "
   ]
  },
  {
   "cell_type": "code",
   "execution_count": null,
   "metadata": {},
   "outputs": [],
   "source": [
    "sns.barplot(x='month', y='price', data= df.groupby(df['month']).median().reset_index())"
   ]
  },
  {
   "cell_type": "markdown",
   "metadata": {},
   "source": [
    "While more houses are being bought/sold during April - July, there does not seem to be a large difference between the median prices of houses sold on a month to month basis"
   ]
  },
  {
   "cell_type": "code",
   "execution_count": null,
   "metadata": {},
   "outputs": [],
   "source": [
    "sns.boxplot(x=df['month'], y=df['price'])"
   ]
  },
  {
   "cell_type": "markdown",
   "metadata": {},
   "source": [
    "The 'price' column seems to be riddled with outliers\n",
    "- Outliers seem to begin around $100mil\n",
    "- This will be influential when testing residuals for normality "
   ]
  },
  {
   "cell_type": "markdown",
   "metadata": {},
   "source": [
    "### Exploring sqft_basement"
   ]
  },
  {
   "cell_type": "code",
   "execution_count": null,
   "metadata": {},
   "outputs": [],
   "source": [
    "sns.scatterplot(x= df['sqft_basement'], y = df['price'])"
   ]
  },
  {
   "cell_type": "code",
   "execution_count": null,
   "metadata": {},
   "outputs": [],
   "source": [
    "basement_grouped = df.groupby('sqft_basement').median().reset_index()"
   ]
  },
  {
   "cell_type": "code",
   "execution_count": null,
   "metadata": {},
   "outputs": [],
   "source": [
    "sns.barplot(x = basement_grouped['sqft_basement'], y = basement_grouped['price'])\n",
    "sns.set(rc={'figure.figsize':(18,12)})\n"
   ]
  },
  {
   "cell_type": "markdown",
   "metadata": {},
   "source": [
    "There seems to be a positive relationship between sqft_basement and price"
   ]
  },
  {
   "cell_type": "code",
   "execution_count": null,
   "metadata": {},
   "outputs": [],
   "source": [
    "only_basements = df[df.sqft_basement != 0]"
   ]
  },
  {
   "cell_type": "code",
   "execution_count": null,
   "metadata": {},
   "outputs": [],
   "source": [
    "sns.scatterplot(x= only_basements['sqft_basement'], y = only_basements['price'])"
   ]
  },
  {
   "cell_type": "markdown",
   "metadata": {},
   "source": [
    "### Exploring lat/long/zipcode "
   ]
  },
  {
   "cell_type": "code",
   "execution_count": null,
   "metadata": {},
   "outputs": [],
   "source": [
    "sns.scatterplot(x= df['long'], y = df['lat'], hue = df['price'])"
   ]
  },
  {
   "cell_type": "markdown",
   "metadata": {},
   "source": [
    "Comparing this plot ot a map of King County, the lat and long data seems to be quite accurate "
   ]
  },
  {
   "cell_type": "markdown",
   "metadata": {},
   "source": [
    "**Observations**\n",
    "- Most expensive properties are in the North (above lat = 47.5)\n",
    "- Many of the higher priced properties appear to be clustered around bodies of water (Lake Washington, Lake Sammamish, Elliot Bay, Lake Union, etc.)\n",
    "- The most Eastward properties are much less expensive, but are located approx 60 miles outside of Seattle (1.5 hour drive)"
   ]
  },
  {
   "cell_type": "code",
   "execution_count": null,
   "metadata": {},
   "outputs": [],
   "source": [
    "zip_grouped = df.groupby('zipcode').median().reset_index()"
   ]
  },
  {
   "cell_type": "code",
   "execution_count": null,
   "metadata": {},
   "outputs": [],
   "source": [
    "sns.scatterplot(x= df['long'], y = df['lat'], hue = df['zipcode'], palette = 'bright')"
   ]
  },
  {
   "cell_type": "markdown",
   "metadata": {},
   "source": [
    "There are a lot of zipcodes... I don't know if it'll be worth the time aggregating them into larger groups \n",
    "- It might be better to create 4-8 geographical areas based on long and lat "
   ]
  },
  {
   "cell_type": "markdown",
   "metadata": {},
   "source": [
    "### Exploring yr_built"
   ]
  },
  {
   "cell_type": "code",
   "execution_count": null,
   "metadata": {},
   "outputs": [],
   "source": [
    "new_properties = df.groupby('yr_built').median().reset_index()\n"
   ]
  },
  {
   "cell_type": "code",
   "execution_count": null,
   "metadata": {},
   "outputs": [],
   "source": [
    "new_properties"
   ]
  },
  {
   "cell_type": "markdown",
   "metadata": {},
   "source": [
    "The data consists of properties that were built each year from 1900 to 2015"
   ]
  },
  {
   "cell_type": "code",
   "execution_count": null,
   "metadata": {},
   "outputs": [],
   "source": [
    "ax = sns.barplot(x = 'yr_built', y = 'price', data= new_properties)\n",
    "\n",
    "ax.set_xticklabels(ax.get_xticklabels(), rotation=40, ha='right');\n"
   ]
  },
  {
   "cell_type": "code",
   "execution_count": null,
   "metadata": {},
   "outputs": [],
   "source": [
    "cheap_yrs = new_properties[(new_properties['yr_built'] >= 1930) & (new_properties['yr_built'] <= 1973)]"
   ]
  },
  {
   "cell_type": "code",
   "execution_count": null,
   "metadata": {},
   "outputs": [],
   "source": [
    "ax = sns.barplot(x = 'yr_built', y = 'price', data= cheap_yrs)\n",
    "\n",
    "ax.set_xticklabels(ax.get_xticklabels(), rotation=40, ha='right');\n"
   ]
  },
  {
   "cell_type": "markdown",
   "metadata": {},
   "source": [
    "Houses built 1932 - 1936 and 1942 - 1944 appear to have the lowest (median) prices "
   ]
  },
  {
   "cell_type": "code",
   "execution_count": null,
   "metadata": {},
   "outputs": [],
   "source": [
    "ax = sns.barplot(x = 'yr_built', y = 'grade', data= cheap_yrs)\n",
    "\n",
    "ax.set_xticklabels(ax.get_xticklabels(), rotation=40, ha='right');"
   ]
  },
  {
   "cell_type": "markdown",
   "metadata": {},
   "source": [
    "The grade lower grade of the houses built 1932 - 1936 and 1942 - 1944 seem to reflect their lower prices"
   ]
  },
  {
   "cell_type": "code",
   "execution_count": null,
   "metadata": {},
   "outputs": [],
   "source": [
    "ax = sns.countplot(x = 'grade', data= cheap_yrs)\n",
    "\n",
    "ax.set_xticklabels(ax.get_xticklabels(), rotation=40, ha='right');\n"
   ]
  },
  {
   "cell_type": "code",
   "execution_count": null,
   "metadata": {},
   "outputs": [],
   "source": [
    "df['grade'].value_counts()"
   ]
  },
  {
   "cell_type": "code",
   "execution_count": null,
   "metadata": {},
   "outputs": [],
   "source": [
    "over_1945 = new_properties[(new_properties['yr_built'] > 1945)]\n",
    "\n",
    "ax = sns.barplot(x = 'yr_built', y ='grade', data= over_1945)\n",
    "\n",
    "ax.set_xticklabels(ax.get_xticklabels(), rotation=40, ha='right');\n"
   ]
  },
  {
   "cell_type": "code",
   "execution_count": null,
   "metadata": {},
   "outputs": [],
   "source": [
    "\n",
    "ax = sns.barplot(x = 'yr_built', y ='price', data= over_1945)\n",
    "\n",
    "ax.set_xticklabels(ax.get_xticklabels(), rotation=40, ha='right');\n"
   ]
  },
  {
   "cell_type": "code",
   "execution_count": null,
   "metadata": {},
   "outputs": [],
   "source": [
    "zip_grouped[['zipcode', 'yr_built']]"
   ]
  },
  {
   "cell_type": "code",
   "execution_count": null,
   "metadata": {},
   "outputs": [],
   "source": [
    "oldest_zip = zip_grouped[(zip_grouped['yr_built'] == 1926)] "
   ]
  },
  {
   "cell_type": "code",
   "execution_count": null,
   "metadata": {},
   "outputs": [],
   "source": [
    "oldest_zip"
   ]
  },
  {
   "cell_type": "code",
   "execution_count": null,
   "metadata": {},
   "outputs": [],
   "source": [
    "new_zip = zip_grouped.sort_values(by='price', ascending=False).reset_index()"
   ]
  },
  {
   "cell_type": "code",
   "execution_count": null,
   "metadata": {},
   "outputs": [],
   "source": [
    "new_zip[(new_zip['yr_built'] == 1926)]"
   ]
  },
  {
   "cell_type": "markdown",
   "metadata": {},
   "source": [
    "\"oldest\" does not correspond with \"cheapest\", considering the two oldest zipcodes are within the top 10 most expensive zip codes"
   ]
  },
  {
   "cell_type": "code",
   "execution_count": null,
   "metadata": {},
   "outputs": [],
   "source": [
    "cheapest_zips = new_zip.iloc[-10: -1].drop('index', axis=1)"
   ]
  },
  {
   "cell_type": "code",
   "execution_count": null,
   "metadata": {},
   "outputs": [],
   "source": [
    "cheapest_zips"
   ]
  },
  {
   "cell_type": "code",
   "execution_count": null,
   "metadata": {},
   "outputs": [],
   "source": [
    "sns.scatterplot(x= df['long'], y = df['lat'], palette = 'bright')"
   ]
  },
  {
   "cell_type": "code",
   "execution_count": null,
   "metadata": {},
   "outputs": [],
   "source": [
    "df[(df['zipcode'] == 98002)].sort_values(by='price', ascending=False)"
   ]
  },
  {
   "cell_type": "code",
   "execution_count": null,
   "metadata": {},
   "outputs": [],
   "source": []
  },
  {
   "cell_type": "code",
   "execution_count": null,
   "metadata": {},
   "outputs": [],
   "source": []
  },
  {
   "cell_type": "code",
   "execution_count": null,
   "metadata": {},
   "outputs": [],
   "source": []
  }
 ],
 "metadata": {
  "kernelspec": {
   "display_name": "Python 3",
   "language": "python",
   "name": "python3"
  },
  "language_info": {
   "codemirror_mode": {
    "name": "ipython",
    "version": 3
   },
   "file_extension": ".py",
   "mimetype": "text/x-python",
   "name": "python",
   "nbconvert_exporter": "python",
   "pygments_lexer": "ipython3",
   "version": "3.8.5"
  }
 },
 "nbformat": 4,
 "nbformat_minor": 4
}
